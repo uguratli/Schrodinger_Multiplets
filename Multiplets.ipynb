{
 "cells": [
  {
   "cell_type": "code",
   "execution_count": 1,
   "metadata": {},
   "outputs": [
    {
     "data": {
      "text/plain": [
       "0"
      ]
     },
     "execution_count": 1,
     "metadata": {},
     "output_type": "execute_result"
    }
   ],
   "source": [
    "import sys\n",
    "import subprocess\n",
    "\n",
    "subprocess.check_call([sys.executable, '-m', 'pip', 'install', \n",
    "'sympy'])\n",
    "subprocess.check_call([sys.executable, '-m', 'pip', 'install', \n",
    "'numpy'])"
   ]
  },
  {
   "cell_type": "code",
   "execution_count": 2,
   "metadata": {},
   "outputs": [],
   "source": [
    "import sympy as sym\n",
    "import numpy as np\n",
    "import cmath\n",
    "from sympy import I\n",
    "from sympy.physics.quantum import TensorProduct\n",
    "from IPython.display import display"
   ]
  },
  {
   "cell_type": "code",
   "execution_count": 16,
   "metadata": {},
   "outputs": [],
   "source": [
    "#####\n",
    "#Gamma0=sym.Matrix([[0 , 0, 1, 0], [0, 0, 0, 1], [-1, 0, 0, 0], [0, -1, 0, 0]])\n",
    "#Gamma1 = sym.Matrix([[0, 0, 0, 1], [0, 0, 1, 0], [0, 1, 0, 0], [1, 0, 0, 0]])\n",
    "#Gamma2 =sym.Matrix([[0, 0, 0, -1*I], [0, 0, 1*I, 0], [0, -1*I, 0, 0], [1*I, 0, 0, 0]])\n",
    "#Gamma3 = sym.Matrix([[0, 0, 1, 0], [0, 0, 0, -1], [1, 0, 0, 0], [0, -1, 0, 0]])\n",
    "#Gamma=[Gamma0,Gamma1,Gamma2,Gamma3]\n",
    "sigma1=sym.Matrix([[0,1],[1,0]])\n",
    "sigma2=sym.Matrix([[0,-I],[I,0]])\n",
    "sigma3=sym.Matrix([[1,0],[0,-1]])\n",
    "gamma0=I*sigma3\n",
    "gamma1=sigma1\n",
    "gamma2=sigma2\n",
    "gamma=[gamma0,gamma1,gamma2]\n",
    "Gamma0=TensorProduct(I*sigma2,sym.eye(sigma1.shape[0]))\n",
    "Gamma1=TensorProduct(sigma1,sigma1)\n",
    "Gamma2=TensorProduct(sigma1,sigma2)\n",
    "Gamma3=TensorProduct(sigma1,sigma3)\n",
    "Gamma_=[Gamma0,Gamma1,Gamma2,Gamma3]\n",
    "#Gamma_p=(Gamma0+Gamma3)/sym.sqrt(2)\n",
    "#Gamma_m=(Gamma0-Gamma3)/sym.sqrt(2)\n",
    "Eta_mn=sym.Matrix([[0,-1,0,0],[-1,0,0,0],[0,0,1,0],[0,0,0,1]])\n",
    "eta_mn=sym.Matrix([[-1,0,0],[0,1,0],[0,0,1]])"
   ]
  },
  {
   "cell_type": "code",
   "execution_count": 4,
   "metadata": {},
   "outputs": [
    {
     "data": {
      "text/latex": [
       "$\\displaystyle \\left[\\begin{matrix}0 & -1 & 0 & 0\\\\-1 & 0 & 0 & 0\\\\0 & 0 & 1 & 0\\\\0 & 0 & 0 & 1\\end{matrix}\\right]$"
      ],
      "text/plain": [
       "Matrix([\n",
       "[ 0, -1, 0, 0],\n",
       "[-1,  0, 0, 0],\n",
       "[ 0,  0, 1, 0],\n",
       "[ 0,  0, 0, 1]])"
      ]
     },
     "metadata": {},
     "output_type": "display_data"
    },
    {
     "data": {
      "text/latex": [
       "$\\displaystyle \\left[\\begin{matrix}0 & 0 & 0 & -1\\\\0 & 1 & 0 & 0\\\\0 & 0 & 1 & 0\\\\-1 & 0 & 0 & 0\\end{matrix}\\right]$"
      ],
      "text/plain": [
       "Matrix([\n",
       "[ 0, 0, 0, -1],\n",
       "[ 0, 1, 0,  0],\n",
       "[ 0, 0, 1,  0],\n",
       "[-1, 0, 0,  0]])"
      ]
     },
     "metadata": {},
     "output_type": "display_data"
    }
   ],
   "source": [
    "#####Eta_mn, redefine. (+,-,1,2)=> (+,1,2,-)  0=+,1,2,3=-\n",
    "display(Eta_mn)\n",
    "Eta_mn=sym.Matrix([[0,0,0,-1],[0,1,0,0],[0,0,1,0],[-1,0,0,0]])\n",
    "display(Eta_mn)"
   ]
  },
  {
   "cell_type": "code",
   "execution_count": 5,
   "metadata": {},
   "outputs": [],
   "source": [
    "def GammaStar(Gamma):\n",
    "    C=Gamma[0]\n",
    "    for i in range(1,len(Gamma)):\n",
    "        C=C*Gamma[i]\n",
    "    return C*(-I)**int(len(Gamma)/2 +1)\n",
    "def symbol_isupper(x):\n",
    "    x_string=str(x)\n",
    "    return x_string.isupper()\n",
    "def symbol_upper(x):\n",
    "    x_string=str(x).upper()\n",
    "    return sym.symbols(x_string)\n",
    "def symbol_lower(x):\n",
    "    x_string=str(x).lower()\n",
    "    return sym.symbols(x_string)\n",
    "def Bar_4(V):\n",
    "    V=V.transpose()\n",
    "    return I*V*(Gamma3*Gamma1)\n",
    "def Bar_3(V):\n",
    "    V=V.transpose()\n",
    "    return I*V*sigma2\n",
    "def Parser(x):\n",
    "    if x.shape==(4,1):\n",
    "        x_out=sym.Matrix.zeros(2,1)\n",
    "        i=0\n",
    "        for j in range(len(x)):\n",
    "            if x[j]!=0:\n",
    "                x_out[i]=x[j]\n",
    "                i+=1\n",
    "    elif x.shape==(1,4):\n",
    "        x_out=sym.Matrix.zeros(1,2)\n",
    "        i=0\n",
    "        for j in range(len(x)):\n",
    "            if x[j]!=0:\n",
    "                x_out[i]=x[j]\n",
    "                i+=1\n",
    "    return x_out\n",
    "def Gamma_ij(i,j):\n",
    "    ##2\\eta^{\\mu \\nu}=\\gamma^{\\mu}\\gamma^{\\nu}+\\gamma^{\\nu}\\gamma^{\\mu}\n",
    "    ##2\\gamma^{\\mu \\nu}=\\gamma^{\\mu}\\gamma^{\\nu}-\\gamma^{\\nu}\\gamma^{\\mu}\n",
    "    Gamma_ij=Gamma[i]*Gamma[j]-Eta_mn[i,j]*sym.eye(4)\n",
    "    return Gamma_ij\n",
    "def gamma_ij(i,j):\n",
    "    ##2\\eta^{\\mu \\nu}=\\gamma^{\\mu}\\gamma^{\\nu}+\\gamma^{\\nu}\\gamma^{\\mu}\n",
    "    ##2\\gamma^{\\mu \\nu}=\\gamma^{\\mu}\\gamma^{\\nu}-\\gamma^{\\nu}\\gamma^{\\mu}\n",
    "    gamma_ij=gamma[i]*gamma[j]-eta_mn[i,j]*sym.eye(2)\n",
    "    return gamma_ij"
   ]
  },
  {
   "cell_type": "code",
   "execution_count": 17,
   "metadata": {},
   "outputs": [],
   "source": [
    "Gamma_p=(Gamma0+Gamma3)\n",
    "Gamma_m=(Gamma0-Gamma3)\n",
    "P_p=(sym.eye(Gamma0.shape[0])+Gamma0*Gamma3)/2\n",
    "P_m=(sym.eye(Gamma0.shape[0])-Gamma0*Gamma3)/2\n",
    "Gamma5=GammaStar(Gamma_)"
   ]
  },
  {
   "cell_type": "code",
   "execution_count": 18,
   "metadata": {},
   "outputs": [
    {
     "name": "stdout",
     "output_type": "stream",
     "text": [
      "ε\n"
     ]
    },
    {
     "data": {
      "text/latex": [
       "$\\displaystyle \\left[\\begin{matrix}\\epsilon_{0}\\\\\\epsilon_{1}\\\\\\overline{\\epsilon_{1}}\\\\- \\overline{\\epsilon_{0}}\\end{matrix}\\right]$"
      ],
      "text/plain": [
       "Matrix([\n",
       "[            epsilon_0],\n",
       "[            epsilon_1],\n",
       "[ conjugate(epsilon_1)],\n",
       "[-conjugate(epsilon_0)]])"
      ]
     },
     "metadata": {},
     "output_type": "display_data"
    },
    {
     "name": "stdout",
     "output_type": "stream",
     "text": [
      "λ\n"
     ]
    },
    {
     "data": {
      "text/latex": [
       "$\\displaystyle \\left[\\begin{matrix}\\lambda_{0}\\\\\\lambda_{1}\\\\\\overline{\\lambda_{1}}\\\\- \\overline{\\lambda_{1}}\\end{matrix}\\right]$"
      ],
      "text/plain": [
       "Matrix([\n",
       "[            lambda_0],\n",
       "[            lambda_1],\n",
       "[ conjugate(lambda_1)],\n",
       "[-conjugate(lambda_1)]])"
      ]
     },
     "metadata": {},
     "output_type": "display_data"
    }
   ],
   "source": [
    "e,l=sym.symbols(\"epsilon,lambda\")\n",
    "e0,e1=sym.symbols(\"epsilon_0,epsilon_1\")\n",
    "l0,l1=sym.symbols(\"lambda_0,lambda_1\")\n",
    "sym.pprint(e)\n",
    "e=sym.Matrix([e0,e1,e1.conjugate(),-e0.conjugate()])\n",
    "display(e)\n",
    "sym.pprint(l)\n",
    "l=sym.Matrix([l0,l1,l1.conjugate(),-l1.conjugate()])\n",
    "display(l)"
   ]
  },
  {
   "cell_type": "code",
   "execution_count": 19,
   "metadata": {},
   "outputs": [
    {
     "name": "stdout",
     "output_type": "stream",
     "text": [
      "ε₊\n"
     ]
    },
    {
     "data": {
      "text/latex": [
       "$\\displaystyle \\left[\\begin{matrix}\\epsilon_{0}\\\\- \\overline{\\epsilon_{0}}\\end{matrix}\\right]$"
      ],
      "text/plain": [
       "Matrix([\n",
       "[            epsilon_0],\n",
       "[-conjugate(epsilon_0)]])"
      ]
     },
     "metadata": {},
     "output_type": "display_data"
    },
    {
     "data": {
      "text/latex": [
       "$\\displaystyle \\left[\\begin{matrix}\\overline{\\epsilon_{0}} & \\epsilon_{0}\\end{matrix}\\right]$"
      ],
      "text/plain": [
       "Matrix([[conjugate(epsilon_0), epsilon_0]])"
      ]
     },
     "metadata": {},
     "output_type": "display_data"
    },
    {
     "name": "stdout",
     "output_type": "stream",
     "text": [
      "ε₋\n"
     ]
    },
    {
     "data": {
      "text/latex": [
       "$\\displaystyle \\left[\\begin{matrix}i \\overline{\\epsilon_{1}}\\\\i \\epsilon_{1}\\end{matrix}\\right]$"
      ],
      "text/plain": [
       "Matrix([\n",
       "[I*conjugate(epsilon_1)],\n",
       "[           I*epsilon_1]])"
      ]
     },
     "metadata": {},
     "output_type": "display_data"
    },
    {
     "data": {
      "text/latex": [
       "$\\displaystyle \\left[\\begin{matrix}- i \\epsilon_{1} & i \\overline{\\epsilon_{1}}\\end{matrix}\\right]$"
      ],
      "text/plain": [
       "Matrix([[-I*epsilon_1, I*conjugate(epsilon_1)]])"
      ]
     },
     "metadata": {},
     "output_type": "display_data"
    }
   ],
   "source": [
    "e_p,e_m=sym.symbols(\"epsilon_+,epsilon_-\")\n",
    "sym.pprint(e_p)\n",
    "e_p=Parser(P_p*e)\n",
    "display(e_p)\n",
    "display(Bar_3(e_p))\n",
    "sym.pprint(e_m)\n",
    "e_m=I*gamma1*Parser(P_m*e)\n",
    "display(e_m)\n",
    "display(Bar_3(e_m))"
   ]
  },
  {
   "cell_type": "code",
   "execution_count": 9,
   "metadata": {},
   "outputs": [
    {
     "name": "stdout",
     "output_type": "stream",
     "text": [
      "λ₊\n"
     ]
    },
    {
     "data": {
      "text/latex": [
       "$\\displaystyle \\left[\\begin{matrix}\\lambda_{0}\\\\- \\overline{\\lambda_{0}}\\end{matrix}\\right]$"
      ],
      "text/plain": [
       "Matrix([\n",
       "[            lambda_0],\n",
       "[-conjugate(lambda_0)]])"
      ]
     },
     "metadata": {},
     "output_type": "display_data"
    },
    {
     "name": "stdout",
     "output_type": "stream",
     "text": [
      "λ₋\n"
     ]
    },
    {
     "data": {
      "text/latex": [
       "$\\displaystyle \\left[\\begin{matrix}i \\overline{\\lambda_{1}}\\\\i \\lambda_{1}\\end{matrix}\\right]$"
      ],
      "text/plain": [
       "Matrix([\n",
       "[I*conjugate(lambda_1)],\n",
       "[           I*lambda_1]])"
      ]
     },
     "metadata": {},
     "output_type": "display_data"
    }
   ],
   "source": [
    "l_p,l_m=sym.symbols(\"lambda_+,lambda_-\")\n",
    "sym.pprint(l_p)\n",
    "l_p=Parser(P_p*l)\n",
    "display(l_p)\n",
    "sym.pprint(l_m)\n",
    "l_m=I*gamma1*Parser(P_m*l)\n",
    "display(l_m)"
   ]
  },
  {
   "cell_type": "code",
   "execution_count": 23,
   "metadata": {},
   "outputs": [
    {
     "data": {
      "text/latex": [
       "$\\displaystyle \\left[\\begin{matrix}0 & 0 & 2 & 0\\\\0 & 0 & 0 & 0\\\\0 & 0 & 0 & 0\\\\0 & -2 & 0 & 0\\end{matrix}\\right]$"
      ],
      "text/plain": [
       "Matrix([\n",
       "[0,  0, 2, 0],\n",
       "[0,  0, 0, 0],\n",
       "[0,  0, 0, 0],\n",
       "[0, -2, 0, 0]])"
      ]
     },
     "metadata": {},
     "output_type": "display_data"
    },
    {
     "data": {
      "text/latex": [
       "$\\displaystyle \\left[\\begin{matrix}0 & 0 & 0 & 1\\\\0 & 0 & 1 & 0\\\\0 & 1 & 0 & 0\\\\1 & 0 & 0 & 0\\end{matrix}\\right]$"
      ],
      "text/plain": [
       "Matrix([\n",
       "[0, 0, 0, 1],\n",
       "[0, 0, 1, 0],\n",
       "[0, 1, 0, 0],\n",
       "[1, 0, 0, 0]])"
      ]
     },
     "metadata": {},
     "output_type": "display_data"
    },
    {
     "data": {
      "text/latex": [
       "$\\displaystyle \\left[\\begin{matrix}0 & 0 & 0 & - i\\\\0 & 0 & i & 0\\\\0 & - i & 0 & 0\\\\i & 0 & 0 & 0\\end{matrix}\\right]$"
      ],
      "text/plain": [
       "Matrix([\n",
       "[0,  0, 0, -I],\n",
       "[0,  0, I,  0],\n",
       "[0, -I, 0,  0],\n",
       "[I,  0, 0,  0]])"
      ]
     },
     "metadata": {},
     "output_type": "display_data"
    },
    {
     "data": {
      "text/latex": [
       "$\\displaystyle \\left[\\begin{matrix}0 & 0 & 0 & 0\\\\0 & 0 & 0 & 2\\\\-2 & 0 & 0 & 0\\\\0 & 0 & 0 & 0\\end{matrix}\\right]$"
      ],
      "text/plain": [
       "Matrix([\n",
       "[ 0, 0, 0, 0],\n",
       "[ 0, 0, 0, 2],\n",
       "[-2, 0, 0, 0],\n",
       "[ 0, 0, 0, 0]])"
      ]
     },
     "metadata": {},
     "output_type": "display_data"
    }
   ],
   "source": [
    "###Redefine Gamma set, (+,1,2,-)\n",
    "Gamma=[Gamma_p,Gamma1,Gamma2,Gamma_m]\n",
    "for i in Gamma:\n",
    "    display(i)"
   ]
  },
  {
   "attachments": {},
   "cell_type": "markdown",
   "metadata": {},
   "source": [
    "## Vector Multiplets"
   ]
  },
  {
   "attachments": {},
   "cell_type": "markdown",
   "metadata": {},
   "source": [
    "$$\\delta A_{\\mu}=-\\frac{1}{2} \\bar{\\epsilon}\\Gamma_{\\mu}\\lambda,$$\n",
    "$$\\delta \\lambda= \\frac{1}{4}\\Gamma^{\\mu\\nu}F_{\\mu\\nu}\\epsilon +\\frac{1}{2}i\\Gamma_{*} D\\epsilon,$$\n",
    "$$ \\delta D=\\frac{1}{2}i\\bar{\\epsilon}\\Gamma_{*}\\Gamma^{\\mu}\\partial_{\\mu}\\lambda .$$\n",
    "\n",
    "0,3 refers $+,-$,multipliers are ignored. $\\rho=A_{+},\\sigma=A_{-},C_{i}=A_{i},S=D$"
   ]
  },
  {
   "attachments": {},
   "cell_type": "markdown",
   "metadata": {},
   "source": [
    "## $\\delta\\rho$ ##"
   ]
  },
  {
   "cell_type": "code",
   "execution_count": 11,
   "metadata": {},
   "outputs": [
    {
     "data": {
      "text/latex": [
       "$\\displaystyle \\left[\\begin{matrix}- 2 i \\epsilon_{0} \\overline{\\lambda_{0}} - 2 i \\lambda_{0} \\overline{\\epsilon_{0}}\\end{matrix}\\right]$"
      ],
      "text/plain": [
       "Matrix([[-2*I*epsilon_0*conjugate(lambda_0) - 2*I*lambda_0*conjugate(epsilon_0)]])"
      ]
     },
     "metadata": {},
     "output_type": "display_data"
    }
   ],
   "source": [
    "#\\delta \\rho\n",
    "exp1=Bar_4(e)*Gamma_m*l\n",
    "display(exp1)"
   ]
  },
  {
   "cell_type": "code",
   "execution_count": 39,
   "metadata": {},
   "outputs": [
    {
     "data": {
      "text/latex": [
       "$\\displaystyle \\left[\\begin{matrix}i \\epsilon_{0} \\overline{\\lambda_{0}} + i \\lambda_{0} \\overline{\\epsilon_{0}}\\end{matrix}\\right]$"
      ],
      "text/plain": [
       "Matrix([[I*epsilon_0*conjugate(lambda_0) + I*lambda_0*conjugate(epsilon_0)]])"
      ]
     },
     "execution_count": 39,
     "metadata": {},
     "output_type": "execute_result"
    }
   ],
   "source": [
    "Bar_3(e_p)*gamma0*l_p"
   ]
  },
  {
   "attachments": {},
   "cell_type": "markdown",
   "metadata": {},
   "source": [
    "$\\delta \\rho= -2*\\bar{\\epsilon}_{+}\\gamma_{0}\\lambda_{+} $"
   ]
  },
  {
   "attachments": {},
   "cell_type": "markdown",
   "metadata": {},
   "source": [
    " ## $\\delta \\sigma$ ##"
   ]
  },
  {
   "cell_type": "code",
   "execution_count": 12,
   "metadata": {},
   "outputs": [
    {
     "data": {
      "text/latex": [
       "$\\displaystyle \\left[\\begin{matrix}- 2 i \\epsilon_{1} \\overline{\\lambda_{1}} - 2 i \\lambda_{1} \\overline{\\epsilon_{1}}\\end{matrix}\\right]$"
      ],
      "text/plain": [
       "Matrix([[-2*I*epsilon_1*conjugate(lambda_1) - 2*I*lambda_1*conjugate(epsilon_1)]])"
      ]
     },
     "metadata": {},
     "output_type": "display_data"
    }
   ],
   "source": [
    "#\\delta \\sigma\n",
    "exp2=Bar_4(e)*Gamma_p*l\n",
    "display(exp2)"
   ]
  },
  {
   "cell_type": "code",
   "execution_count": 41,
   "metadata": {},
   "outputs": [
    {
     "data": {
      "text/latex": [
       "$\\displaystyle \\left[\\begin{matrix}i \\epsilon_{1} \\overline{\\lambda_{1}} + i \\lambda_{1} \\overline{\\epsilon_{1}}\\end{matrix}\\right]$"
      ],
      "text/plain": [
       "Matrix([[I*epsilon_1*conjugate(lambda_1) + I*lambda_1*conjugate(epsilon_1)]])"
      ]
     },
     "execution_count": 41,
     "metadata": {},
     "output_type": "execute_result"
    }
   ],
   "source": [
    "Bar_3(e_m)*gamma0*l_m"
   ]
  },
  {
   "attachments": {},
   "cell_type": "markdown",
   "metadata": {},
   "source": [
    "$ \\delta \\sigma= -2*\\bar{\\epsilon}_{-}\\gamma_{0}\\lambda_{-} $"
   ]
  },
  {
   "attachments": {},
   "cell_type": "markdown",
   "metadata": {},
   "source": [
    "## $\\delta C_{i}$ ##"
   ]
  },
  {
   "cell_type": "code",
   "execution_count": 37,
   "metadata": {},
   "outputs": [
    {
     "data": {
      "text/latex": [
       "$\\displaystyle \\left[\\begin{matrix}i \\epsilon_{0} \\overline{\\lambda_{1}} + i \\epsilon_{1} \\overline{\\lambda_{1}} + i \\lambda_{0} \\overline{\\epsilon_{1}} + i \\lambda_{1} \\overline{\\epsilon_{0}}\\end{matrix}\\right]$"
      ],
      "text/plain": [
       "Matrix([[I*epsilon_0*conjugate(lambda_1) + I*epsilon_1*conjugate(lambda_1) + I*lambda_0*conjugate(epsilon_1) + I*lambda_1*conjugate(epsilon_0)]])"
      ]
     },
     "metadata": {},
     "output_type": "display_data"
    },
    {
     "data": {
      "text/latex": [
       "$\\displaystyle \\left[\\begin{matrix}- \\epsilon_{0} \\overline{\\lambda_{1}} + \\epsilon_{1} \\overline{\\lambda_{1}} - \\lambda_{0} \\overline{\\epsilon_{1}} + \\lambda_{1} \\overline{\\epsilon_{0}}\\end{matrix}\\right]$"
      ],
      "text/plain": [
       "Matrix([[-epsilon_0*conjugate(lambda_1) + epsilon_1*conjugate(lambda_1) - lambda_0*conjugate(epsilon_1) + lambda_1*conjugate(epsilon_0)]])"
      ]
     },
     "metadata": {},
     "output_type": "display_data"
    }
   ],
   "source": [
    "#\\delta C_{i}\n",
    "for i in range(1,3):\n",
    "    display(Bar_4(e)*Gamma[i]*l)"
   ]
  },
  {
   "cell_type": "code",
   "execution_count": 44,
   "metadata": {},
   "outputs": [
    {
     "data": {
      "text/latex": [
       "$\\displaystyle \\left[\\begin{matrix}- \\epsilon_{0} \\overline{\\lambda_{1}} + \\epsilon_{1} \\overline{\\lambda_{0}} - \\lambda_{0} \\overline{\\epsilon_{1}} + \\lambda_{1} \\overline{\\epsilon_{0}}\\end{matrix}\\right]$"
      ],
      "text/plain": [
       "Matrix([[-epsilon_0*conjugate(lambda_1) + epsilon_1*conjugate(lambda_0) - lambda_0*conjugate(epsilon_1) + lambda_1*conjugate(epsilon_0)]])"
      ]
     },
     "execution_count": 44,
     "metadata": {},
     "output_type": "execute_result"
    }
   ],
   "source": [
    "Bar_3(e_p)*gamma2*l_m +Bar_3(e_m)*gamma2*l_p"
   ]
  },
  {
   "attachments": {},
   "cell_type": "markdown",
   "metadata": {},
   "source": [
    "$ \\delta C_{i}=\\bar{\\epsilon}_{+}\\gamma_{i}\\lambda_{+}+ \\bar{\\epsilon}_{-}\\gamma_{i}\\lambda_{+}$"
   ]
  },
  {
   "attachments": {},
   "cell_type": "markdown",
   "metadata": {},
   "source": [
    "## $\\delta\\lambda_{+ } $ ##"
   ]
  },
  {
   "attachments": {},
   "cell_type": "markdown",
   "metadata": {},
   "source": [
    "$\\Gamma^{\\mu\\nu}F_{\\mu\\nu}\\epsilon$ part"
   ]
  },
  {
   "cell_type": "code",
   "execution_count": 45,
   "metadata": {},
   "outputs": [],
   "source": [
    "F=sym.MatrixSymbol(\"F\",4,4)\n",
    "D=sym.Symbol(\"S\")"
   ]
  },
  {
   "cell_type": "code",
   "execution_count": 46,
   "metadata": {},
   "outputs": [
    {
     "data": {
      "text/latex": [
       "$\\displaystyle \\left[\\begin{matrix}\\epsilon_{0} F_{0, 1} + 2 \\epsilon_{1} F_{0, 1}\\\\- \\overline{\\epsilon_{0}} F_{0, 1} - 2 \\overline{\\epsilon_{1}} F_{0, 1}\\end{matrix}\\right]$"
      ],
      "text/plain": [
       "Matrix([\n",
       "[                       epsilon_0*F[0, 1] + 2*epsilon_1*F[0, 1]],\n",
       "[-conjugate(epsilon_0)*F[0, 1] - 2*conjugate(epsilon_1)*F[0, 1]]])"
      ]
     },
     "metadata": {},
     "output_type": "display_data"
    },
    {
     "data": {
      "text/latex": [
       "$\\displaystyle \\left[\\begin{matrix}- 2 i \\epsilon_{1} F_{0, 2}\\\\- 2 i \\overline{\\epsilon_{1}} F_{0, 2}\\end{matrix}\\right]$"
      ],
      "text/plain": [
       "Matrix([\n",
       "[           -2*I*epsilon_1*F[0, 2]],\n",
       "[-2*I*conjugate(epsilon_1)*F[0, 2]]])"
      ]
     },
     "metadata": {},
     "output_type": "display_data"
    },
    {
     "data": {
      "text/latex": [
       "$\\displaystyle \\left[\\begin{matrix}- 4 \\epsilon_{0} F_{0, 3}\\\\4 \\overline{\\epsilon_{0}} F_{0, 3}\\end{matrix}\\right]$"
      ],
      "text/plain": [
       "Matrix([\n",
       "[          -4*epsilon_0*F[0, 3]],\n",
       "[4*conjugate(epsilon_0)*F[0, 3]]])"
      ]
     },
     "metadata": {},
     "output_type": "display_data"
    },
    {
     "data": {
      "text/latex": [
       "$\\displaystyle \\left[\\begin{matrix}i \\epsilon_{0} F_{1, 2}\\\\i \\overline{\\epsilon_{0}} F_{1, 2}\\end{matrix}\\right]$"
      ],
      "text/plain": [
       "Matrix([\n",
       "[           I*epsilon_0*F[1, 2]],\n",
       "[I*conjugate(epsilon_0)*F[1, 2]]])"
      ]
     },
     "metadata": {},
     "output_type": "display_data"
    },
    {
     "data": {
      "text/latex": [
       "$\\displaystyle \\left[\\begin{matrix}0\\\\0\\end{matrix}\\right]$"
      ],
      "text/plain": [
       "Matrix([\n",
       "[0],\n",
       "[0]])"
      ]
     },
     "metadata": {},
     "output_type": "display_data"
    },
    {
     "data": {
      "text/latex": [
       "$\\displaystyle \\left[\\begin{matrix}0\\\\0\\end{matrix}\\right]$"
      ],
      "text/plain": [
       "Matrix([\n",
       "[0],\n",
       "[0]])"
      ]
     },
     "metadata": {},
     "output_type": "display_data"
    },
    {
     "data": {
      "text/latex": [
       "$\\displaystyle \\left[\\begin{matrix}- i S \\epsilon_{0}\\\\- i S \\overline{\\epsilon_{0}}\\end{matrix}\\right]$"
      ],
      "text/plain": [
       "Matrix([\n",
       "[           -I*S*epsilon_0],\n",
       "[-I*S*conjugate(epsilon_0)]])"
      ]
     },
     "metadata": {},
     "output_type": "display_data"
    }
   ],
   "source": [
    "##exp4 \\Gamma^{\\mu\\nu} F_{\\mu\\nu}\n",
    "for i in range(4):\n",
    "    for j in range (i+1,4):\n",
    "        exp4=P_p*Gamma_ij(i,j)*F[i,j]*e\n",
    "        display(Parser(exp4))\n",
    "display(Parser(P_p*I*Gamma5*D*e))"
   ]
  },
  {
   "cell_type": "code",
   "execution_count": 27,
   "metadata": {},
   "outputs": [
    {
     "data": {
      "text/latex": [
       "$\\displaystyle \\left[\\begin{matrix}- \\epsilon_{1} M_{0, 1}\\\\\\overline{\\epsilon_{1}} M_{0, 1}\\end{matrix}\\right]$"
      ],
      "text/plain": [
       "Matrix([\n",
       "[          -epsilon_1*M[0, 1]],\n",
       "[conjugate(epsilon_1)*M[0, 1]]])"
      ]
     },
     "execution_count": 27,
     "metadata": {},
     "output_type": "execute_result"
    }
   ],
   "source": [
    "-gamma_ij(1,0)*e_m*F[0,1]"
   ]
  },
  {
   "cell_type": "code",
   "execution_count": null,
   "metadata": {},
   "outputs": [],
   "source": [
    "e_p"
   ]
  },
  {
   "cell_type": "code",
   "execution_count": null,
   "metadata": {},
   "outputs": [],
   "source": [
    "gamma0*e_p"
   ]
  },
  {
   "attachments": {},
   "cell_type": "markdown",
   "metadata": {},
   "source": [
    "$\\delta \\lambda_{+}=-\\gamma_{i 0} \\epsilon_{-} F_{i +} +\\epsilon_{+}F_{+ -}+\\gamma_{0}\\epsilon_{+}F_{i j}-\\gamma_{0}\\epsilon_{+}S$"
   ]
  },
  {
   "attachments": {},
   "cell_type": "markdown",
   "metadata": {},
   "source": [
    "# $\\delta\\lambda_{-}$ #"
   ]
  },
  {
   "attachments": {},
   "cell_type": "markdown",
   "metadata": {},
   "source": [
    "$\\delta\\lambda_{-}=i\\gamma_{1}P_{-}\\lambda$"
   ]
  },
  {
   "attachments": {},
   "cell_type": "markdown",
   "metadata": {},
   "source": [
    "$\\Gamma^{\\mu\\nu}F_{\\mu\\nu}\\epsilon$ part"
   ]
  },
  {
   "cell_type": "code",
   "execution_count": null,
   "metadata": {},
   "outputs": [],
   "source": [
    "##exp5\n",
    "for i in range(4):\n",
    "    for j in range (i+1,4):\n",
    "        exp5=P_m*Gamma_ij(i,j)*F[i,j]*e\n",
    "        display(I*gamma1*Parser(exp5))\n",
    "display(I*gamma1*Parser(P_m*I*Gamma5*D*e))"
   ]
  },
  {
   "cell_type": "code",
   "execution_count": null,
   "metadata": {},
   "outputs": [],
   "source": [
    "e_m*M[0,3]"
   ]
  },
  {
   "cell_type": "code",
   "execution_count": null,
   "metadata": {},
   "outputs": [],
   "source": [
    "gamma0*e_m*M[1,2]"
   ]
  },
  {
   "cell_type": "code",
   "execution_count": null,
   "metadata": {},
   "outputs": [],
   "source": [
    "gamma_ij(2,0)*e_p*M[2,3]"
   ]
  },
  {
   "cell_type": "code",
   "execution_count": null,
   "metadata": {},
   "outputs": [],
   "source": [
    "gamma0*e_m*D"
   ]
  },
  {
   "attachments": {},
   "cell_type": "markdown",
   "metadata": {},
   "source": [
    "$\\Delta \\lambda_{-}=\\epsilon_{-}*F_{+-}+\\gamma_{0}*\\epsilon_{-}*F[i,j]-\\gamma_{i 0}\\epsilon_{0}F_{i -}+\\gamma_{0}*\\epsilon_{-}*S $"
   ]
  },
  {
   "attachments": {},
   "cell_type": "markdown",
   "metadata": {},
   "source": [
    "# $\\delta D$ #"
   ]
  },
  {
   "cell_type": "code",
   "execution_count": null,
   "metadata": {},
   "outputs": [],
   "source": [
    "##exp6\n",
    "del_=sym.MatrixSymbol(\"\\partial\",4,1)\n",
    "for i in range(4):\n",
    "    exp6=I*Bar_4(e)*Gamma5*Gamma[i]*del_[i]*l\n",
    "    display(exp6)"
   ]
  },
  {
   "cell_type": "code",
   "execution_count": null,
   "metadata": {},
   "outputs": [],
   "source": [
    "Bar_3(e_m)*l_m"
   ]
  },
  {
   "cell_type": "code",
   "execution_count": null,
   "metadata": {},
   "outputs": [],
   "source": [
    "Bar_3(e_m)*gamma_ij(1,0)*l_p  "
   ]
  },
  {
   "cell_type": "code",
   "execution_count": null,
   "metadata": {},
   "outputs": [],
   "source": [
    "Bar_3(e_p)*l_p"
   ]
  },
  {
   "attachments": {},
   "cell_type": "markdown",
   "metadata": {},
   "source": [
    "$\\delta S= \\bar{\\epsilon}_{-}\\partial_{+} \\lambda_{-} + \\bar{\\epsilon}_{-}\\gamma_{i 0}\\partial_{i}\\lambda_{+} - \\bar{\\epsilon}_{+}\\gamma_{i 0}\\partial_{i}\\lambda_{-}+\\bar{\\epsilon}_{+}\\partial_{-}\\lambda_{+}$"
   ]
  },
  {
   "attachments": {},
   "cell_type": "markdown",
   "metadata": {},
   "source": [
    "## Scalar Multiplets"
   ]
  },
  {
   "attachments": {},
   "cell_type": "markdown",
   "metadata": {},
   "source": [
    "$$\\delta \\phi_{1}=\\bar{\\epsilon}\\chi,$$\n",
    "$$\\delta \\phi_{2}=i\\bar{\\epsilon}\\Gamma_{*}\\chi,$$\n",
    "$$\\delta \\chi=\\Gamma^{i}\\partial_{i}\\phi_{1}\\epsilon+i\\Gamma_{*}\\Gamma^{i}\\partial_{i}\\phi_{2}\\epsilon +S_{1}\\epsilon +i\\Gamma_{*}S_{2}\\epsilon + \\omega\\phi_{1}\\eta +i\\omega\\phi_{2}\\Gamma_{*}\\eta,$$\n",
    "$$\\delta S_{1}=\\bar{\\epsilon}\\Gamma^{i}\\partial_{i}\\chi +(1-\\omega)\\bar{\\eta}\\chi,$$\n",
    "$$\\delta S_{2}=i\\bar{\\epsilon}\\Gamma^{i}\\partial_{i}\\Gamma_{*}\\chi -(i-\\omega)\\bar{\\eta}\\Gamma_{*}\\chi.$$"
   ]
  },
  {
   "cell_type": "code",
   "execution_count": null,
   "metadata": {},
   "outputs": [],
   "source": [
    "ch=sym.Symbol(\"chi\")\n",
    "c,d=sym.symbols(\"chi_0,chi_1\")\n",
    "ch=sym.Matrix([c,d,d.conjugate(),-c.conjugate()])\n",
    "display(ch)\n",
    "display(Bar_4(ch))"
   ]
  },
  {
   "cell_type": "code",
   "execution_count": null,
   "metadata": {},
   "outputs": [],
   "source": [
    "ch_p,ch_m=sym.symbols(\"chi_+,chi_-\")\n",
    "display(ch_p)\n",
    "display(Parser(P_p*ch))\n",
    "display(ch_m)\n",
    "display(I*gamma1*Parser(P_m*ch))\n",
    "ch_p=Parser(P_p*ch)\n",
    "ch_m=I*gamma1*Parser(P_m*ch)"
   ]
  },
  {
   "cell_type": "code",
   "execution_count": null,
   "metadata": {},
   "outputs": [],
   "source": [
    "Bar_3(e_p)"
   ]
  },
  {
   "cell_type": "code",
   "execution_count": null,
   "metadata": {},
   "outputs": [],
   "source": [
    "Bar_3(e_m)"
   ]
  },
  {
   "attachments": {},
   "cell_type": "markdown",
   "metadata": {},
   "source": [
    "## $$\\delta \\phi_{1}=\\bar{\\epsilon}\\chi,$$\n"
   ]
  },
  {
   "cell_type": "code",
   "execution_count": null,
   "metadata": {},
   "outputs": [],
   "source": [
    "exp7=Bar_4(e)*ch\n",
    "display(exp7)"
   ]
  },
  {
   "attachments": {},
   "cell_type": "markdown",
   "metadata": {},
   "source": [
    "$$\\phi_{1}->\\psi_{1}$$"
   ]
  },
  {
   "cell_type": "code",
   "execution_count": null,
   "metadata": {},
   "outputs": [],
   "source": [
    "##checking.\n",
    "Bar_3(e_m)*ch_p + Bar_3(e_p)*ch_m"
   ]
  },
  {
   "attachments": {},
   "cell_type": "markdown",
   "metadata": {},
   "source": [
    "$$\\delta\\phi_{1}=\\bar{\\epsilon}_{-}\\chi_{+} +\\bar{\\epsilon}_{+}\\chi_{-}$$"
   ]
  },
  {
   "attachments": {},
   "cell_type": "markdown",
   "metadata": {},
   "source": [
    "## $$\\delta \\phi_{2}=i\\bar{\\epsilon}\\Gamma_{*}\\chi$$"
   ]
  },
  {
   "cell_type": "code",
   "execution_count": null,
   "metadata": {},
   "outputs": [],
   "source": [
    "exp8=I*Bar_4(e)*Gamma5*ch\n",
    "display(exp8)"
   ]
  },
  {
   "cell_type": "code",
   "execution_count": null,
   "metadata": {},
   "outputs": [],
   "source": [
    "display(Bar_3(e_p))\n",
    "display(Bar_3(e_m))\n",
    "display(gamma0)\n",
    "display(ch_p)\n",
    "display(ch_m)"
   ]
  },
  {
   "cell_type": "code",
   "execution_count": null,
   "metadata": {},
   "outputs": [],
   "source": [
    "Bar_3(e_p)*gamma0*ch_m"
   ]
  },
  {
   "cell_type": "code",
   "execution_count": null,
   "metadata": {},
   "outputs": [],
   "source": [
    "Bar_3(e_m)*gamma0*ch_p"
   ]
  },
  {
   "attachments": {},
   "cell_type": "markdown",
   "metadata": {},
   "source": [
    "$$\\delta \\psi_{2}=\\bar{\\epsilon}_{+}\\gamma_{0}\\chi_{-} -\\bar{\\epsilon}_{-}\\gamma_{0}\\chi_{+}$$"
   ]
  },
  {
   "attachments": {},
   "cell_type": "markdown",
   "metadata": {},
   "source": [
    "## $$\\delta \\chi=\\Gamma^{i}\\partial_{i}\\phi_{1}\\epsilon+i\\Gamma_{*}\\Gamma^{i}\\partial_{i}\\phi_{2}\\epsilon +S_{1}\\epsilon +i\\Gamma_{*}S_{2}\\epsilon + \\omega\\phi_{1}\\eta +i\\omega\\phi_{2}\\Gamma_{*}\\eta$$ ##"
   ]
  },
  {
   "cell_type": "code",
   "execution_count": null,
   "metadata": {},
   "outputs": [],
   "source": [
    "S=sym.Symbol(\"S\")\n",
    "f,g=sym.symbols(\"S_0,S_1\")\n",
    "S=sym.Matrix([f,g,g.conjugate(),-f.conjugate()])\n",
    "display(S)\n"
   ]
  },
  {
   "cell_type": "code",
   "execution_count": null,
   "metadata": {},
   "outputs": [],
   "source": [
    "R=I*gamma2*Parser(P_m*S)\n",
    "display(R)"
   ]
  },
  {
   "cell_type": "code",
   "execution_count": null,
   "metadata": {},
   "outputs": [],
   "source": [
    "S_1,S_2=sym.symbols(\"F_1,F_2\")\n",
    "w,phi_1,phi_2=sym.symbols(\"w,phi_1,phi_2\")"
   ]
  },
  {
   "attachments": {},
   "cell_type": "markdown",
   "metadata": {},
   "source": [
    "$$P_{+}\\delta \\chi=\\delta \\chi_{+}$$"
   ]
  },
  {
   "attachments": {},
   "cell_type": "markdown",
   "metadata": {},
   "source": [
    "$$=> +S_{1}\\epsilon +i\\Gamma_{*}S_{2}\\epsilon + \\omega\\phi_{1}\\eta +i\\omega\\phi_{2}\\Gamma_{*}\\eta$$"
   ]
  },
  {
   "attachments": {},
   "cell_type": "markdown",
   "metadata": {},
   "source": [
    " $$P_{+}(S_{1}\\epsilon +i\\Gamma_{*}S_{2}\\epsilon + \\omega\\phi_{1}\\eta +i\\omega\\phi_{2}\\Gamma_{*}\\eta)$$ "
   ]
  },
  {
   "cell_type": "code",
   "execution_count": null,
   "metadata": {},
   "outputs": [],
   "source": [
    "P_p*S_1*e"
   ]
  },
  {
   "attachments": {},
   "cell_type": "markdown",
   "metadata": {},
   "source": [
    "$$P_{+}(S_{1}\\epsilon)=> F_{1}\\epsilon_{+} $$"
   ]
  },
  {
   "cell_type": "code",
   "execution_count": null,
   "metadata": {},
   "outputs": [],
   "source": [
    "P_p*I*Gamma5*S_2*e"
   ]
  },
  {
   "attachments": {},
   "cell_type": "markdown",
   "metadata": {},
   "source": [
    "$$P_{+}(i\\Gamma_{*}S_{2}\\epsilon )=> -F_{2}\\gamma_{0}\\epsilon_{+} $$"
   ]
  },
  {
   "cell_type": "code",
   "execution_count": null,
   "metadata": {},
   "outputs": [],
   "source": [
    "P_p*w*phi_1*S"
   ]
  },
  {
   "attachments": {},
   "cell_type": "markdown",
   "metadata": {},
   "source": [
    "$$P_{+}( \\omega\\phi_{1}\\eta) => \\omega\\phi_{1}S_{0}?$$"
   ]
  },
  {
   "cell_type": "code",
   "execution_count": null,
   "metadata": {},
   "outputs": [],
   "source": [
    "P_p*I*w*phi_2*Gamma5*S "
   ]
  },
  {
   "attachments": {},
   "cell_type": "markdown",
   "metadata": {},
   "source": [
    "$$P_{+}(i\\omega\\phi_{2}\\Gamma_{*}\\eta)=>\\omega\\phi_{2} S_{0}?$$"
   ]
  },
  {
   "attachments": {},
   "cell_type": "markdown",
   "metadata": {},
   "source": [
    "$$=>P_{+}(\\Gamma^{i}\\partial_{i}\\phi_{1}\\epsilon+i\\Gamma_{*}\\Gamma^{i}\\partial_{i}\\phi_{2}\\epsilon) $$"
   ]
  },
  {
   "attachments": {},
   "cell_type": "markdown",
   "metadata": {},
   "source": [
    "$P_{+}(\\Gamma^{i}\\partial_{i}\\phi_{1}\\epsilon)$ part"
   ]
  },
  {
   "cell_type": "code",
   "execution_count": null,
   "metadata": {},
   "outputs": [],
   "source": [
    "for i in range(4):\n",
    "    display(Parser(P_p*Gamma[i]*del_[i]*phi_1*e))"
   ]
  },
  {
   "attachments": {},
   "cell_type": "markdown",
   "metadata": {},
   "source": [
    "Chacking"
   ]
  },
  {
   "cell_type": "code",
   "execution_count": null,
   "metadata": {},
   "outputs": [],
   "source": [
    "display(e_m)\n",
    "display(gamma0*e_m)"
   ]
  },
  {
   "cell_type": "code",
   "execution_count": null,
   "metadata": {},
   "outputs": [],
   "source": [
    "e_p"
   ]
  },
  {
   "cell_type": "code",
   "execution_count": null,
   "metadata": {},
   "outputs": [],
   "source": [
    "display(gamma1*e_p)\n",
    "display(gamma2*e_p)"
   ]
  },
  {
   "attachments": {},
   "cell_type": "markdown",
   "metadata": {},
   "source": [
    "$P_{+}(\\Gamma^{i}\\partial_{i}\\phi_{1}\\epsilon) => -2\\gamma_{0}*\\partial_{+} \\phi_{1} \\epsilon_{-} + \\gamma^{a}\\partial_{a}\\phi_{1}\\epsilon_{+} $"
   ]
  },
  {
   "attachments": {},
   "cell_type": "markdown",
   "metadata": {},
   "source": [
    "$P_{+}(i\\Gamma_{*}\\Gamma^{i}\\partial_{i}\\phi_{2}\\epsilon)$ part"
   ]
  },
  {
   "cell_type": "code",
   "execution_count": null,
   "metadata": {},
   "outputs": [],
   "source": [
    "for i in range(4):\n",
    "    display(Parser(I*P_p*Gamma5*Gamma[i]*del_[i]*phi_2*e))"
   ]
  },
  {
   "cell_type": "code",
   "execution_count": null,
   "metadata": {},
   "outputs": [],
   "source": [
    "e_m"
   ]
  },
  {
   "cell_type": "code",
   "execution_count": null,
   "metadata": {},
   "outputs": [],
   "source": [
    "display(gamma)"
   ]
  },
  {
   "cell_type": "code",
   "execution_count": null,
   "metadata": {},
   "outputs": [],
   "source": [
    "gamma1*e_p"
   ]
  },
  {
   "cell_type": "code",
   "execution_count": null,
   "metadata": {},
   "outputs": [],
   "source": [
    "gamma2*e_p"
   ]
  },
  {
   "attachments": {},
   "cell_type": "markdown",
   "metadata": {},
   "source": [
    "$P_{+}(i\\Gamma_{*}\\Gamma^{i}\\partial_{i}\\phi_{2}\\epsilon)=>-2\\partial_{+}\\phi_{2}\\epsilon_{-}+\\gamma_{2}\\epsilon_{+}\\partial_{1}\\phi_{2}-\\gamma_{1}\\epsilon_{+}\\partial_{2}\\phi_{2}$"
   ]
  },
  {
   "attachments": {},
   "cell_type": "markdown",
   "metadata": {},
   "source": [
    "## $$\\delta \\chi=\\Gamma^{i}\\partial_{i}\\phi_{1}\\epsilon+i\\Gamma_{*}\\Gamma^{i}\\partial_{i}\\phi_{2}\\epsilon +S_{1}\\epsilon +i\\Gamma_{*}S_{2}\\epsilon + \\omega\\phi_{1}\\eta +i\\omega\\phi_{2}\\Gamma_{*}\\eta$$ ##"
   ]
  },
  {
   "attachments": {},
   "cell_type": "markdown",
   "metadata": {},
   "source": [
    "$$\\delta \\chi_{-} =i\\gamma_{1}P_{-}\\delta\\chi$$\n",
    " $$i\\gamma_{1}P_{-}(S_{1}\\epsilon +i\\Gamma_{*}S_{2}\\epsilon + \\omega\\phi_{1}\\eta +i\\omega\\phi_{2}\\Gamma_{*}\\eta)$$ "
   ]
  },
  {
   "attachments": {},
   "cell_type": "markdown",
   "metadata": {},
   "source": [
    "$=> +S_{1}\\epsilon +i\\Gamma_{*}S_{2}\\epsilon + \\omega\\phi_{1}\\eta +i\\omega\\phi_{2}\\Gamma_{*}\\eta$ part"
   ]
  },
  {
   "cell_type": "code",
   "execution_count": null,
   "metadata": {},
   "outputs": [],
   "source": [
    "display(I*gamma1*Parser(P_m*S_1*e))"
   ]
  },
  {
   "attachments": {},
   "cell_type": "markdown",
   "metadata": {},
   "source": [
    "$i\\gamma_{1}*P_{-}S_{1}\\epsilon => S_{1}\\epsilon_{-}$"
   ]
  },
  {
   "cell_type": "code",
   "execution_count": null,
   "metadata": {},
   "outputs": [],
   "source": [
    "display(I*gamma1*Parser(P_m*I*Gamma5*S_2*e))"
   ]
  },
  {
   "cell_type": "code",
   "execution_count": null,
   "metadata": {},
   "outputs": [],
   "source": [
    "S_2*gamma0*e_m"
   ]
  },
  {
   "attachments": {},
   "cell_type": "markdown",
   "metadata": {},
   "source": [
    "$ i\\gamma_{1}*P_{-} i\\Gamma_{*}S_{2}\\epsilon=> \\gamma_{0}*F_{2}*\\epsilon_{-}$"
   ]
  },
  {
   "cell_type": "code",
   "execution_count": null,
   "metadata": {},
   "outputs": [],
   "source": [
    "display(I*gamma1*Parser(P_m*w*phi_1*S))"
   ]
  },
  {
   "attachments": {},
   "cell_type": "markdown",
   "metadata": {},
   "source": [
    "$i\\gamma_{1}P_{-}\\omega\\phi_{1}\\eta=> \\omega S_{1}???$"
   ]
  },
  {
   "attachments": {},
   "cell_type": "markdown",
   "metadata": {},
   "source": [
    "$(\\Gamma^{i}\\partial_{i}\\phi_{1}\\epsilon+i\\Gamma_{*}\\Gamma^{i}\\partial_{i}\\phi_{2}\\epsilon) $ Part"
   ]
  },
  {
   "attachments": {},
   "cell_type": "markdown",
   "metadata": {},
   "source": [
    "$i\\gamma_{1}P_{-}(\\Gamma^{i}\\partial_{i}\\phi_{1}\\epsilon)$"
   ]
  },
  {
   "cell_type": "code",
   "execution_count": null,
   "metadata": {},
   "outputs": [],
   "source": [
    "for i in range(4):\n",
    "    display(I*gamma1*Parser(P_m*Gamma[i]*del_[i]*phi_1*e))"
   ]
  },
  {
   "cell_type": "code",
   "execution_count": null,
   "metadata": {},
   "outputs": [],
   "source": [
    "gamma2*e_m"
   ]
  },
  {
   "cell_type": "code",
   "execution_count": null,
   "metadata": {},
   "outputs": [],
   "source": [
    "gamma1*e_m"
   ]
  },
  {
   "cell_type": "code",
   "execution_count": null,
   "metadata": {},
   "outputs": [],
   "source": [
    "gamma0*e_p"
   ]
  },
  {
   "attachments": {},
   "cell_type": "markdown",
   "metadata": {},
   "source": [
    "$i\\gamma_{1}P_{-}(\\Gamma^{i}\\partial_{i}\\phi_{1}\\epsilon)=>0+i\\gamma_{1}\\partial_{1}\\phi_{1}\\epsilon_{-}+\\partial_{2}\\phi_{1}\\epsilon_{-}-2\\gamma_{0}\\phi_{1}\\epsilon_{+}$"
   ]
  },
  {
   "attachments": {},
   "cell_type": "markdown",
   "metadata": {},
   "source": [
    "$i\\gamma_{1}P_{-}(i\\Gamma_{*}\\Gamma^{i}\\partial_{i}\\phi_{2}\\epsilon)$"
   ]
  },
  {
   "cell_type": "code",
   "execution_count": null,
   "metadata": {},
   "outputs": [],
   "source": [
    "for i in range(4):\n",
    "    display(I*gamma1*Parser(I*P_m*Gamma5*Gamma[i]*del_[i]*phi_2*e))"
   ]
  },
  {
   "cell_type": "code",
   "execution_count": null,
   "metadata": {},
   "outputs": [],
   "source": [
    "gamma"
   ]
  },
  {
   "cell_type": "code",
   "execution_count": null,
   "metadata": {},
   "outputs": [],
   "source": [
    "e_m"
   ]
  },
  {
   "cell_type": "code",
   "execution_count": null,
   "metadata": {},
   "outputs": [],
   "source": [
    "e_p"
   ]
  },
  {
   "cell_type": "code",
   "execution_count": null,
   "metadata": {},
   "outputs": [],
   "source": [
    "gamma_ij(1,0)*e_m"
   ]
  },
  {
   "cell_type": "code",
   "execution_count": null,
   "metadata": {},
   "outputs": [],
   "source": [
    "gamma_ij(2,0)*e_m"
   ]
  },
  {
   "attachments": {},
   "cell_type": "markdown",
   "metadata": {},
   "source": [
    "$i\\gamma_{1}P_{-}(i\\Gamma_{*}\\Gamma^{i}\\partial_{i}\\phi_{2}\\epsilon)=>0-\\gamma_{i0}\\partial_{i}\\phi_{2}\\epsilon_{-}+\\partial_{-}\\phi_{2}\\epsilon_{+}$"
   ]
  },
  {
   "attachments": {},
   "cell_type": "markdown",
   "metadata": {},
   "source": [
    "# $\\delta S_{1}=\\bar{\\epsilon}\\Gamma^{\\mu}\\partial_{\\mu}\\chi +(1-\\omega)\\bar{\\eta}\\chi$ #"
   ]
  },
  {
   "attachments": {},
   "cell_type": "markdown",
   "metadata": {},
   "source": [
    "$ \\bar{\\epsilon}\\Gamma^{\\mu}\\partial_{\\mu}\\chi $ part"
   ]
  },
  {
   "cell_type": "code",
   "execution_count": null,
   "metadata": {},
   "outputs": [],
   "source": [
    "for i in range(4):\n",
    "    display(Bar_4(e)*Gamma[i]*del_[i]*ch)"
   ]
  },
  {
   "cell_type": "code",
   "execution_count": null,
   "metadata": {},
   "outputs": [],
   "source": [
    "Bar_3(e_m)*gamma0*(I*gamma1*Parser(P_m*ch))"
   ]
  },
  {
   "cell_type": "code",
   "execution_count": null,
   "metadata": {},
   "outputs": [],
   "source": [
    "Bar_3(e_m)*gamma2*(Parser(P_p*ch))"
   ]
  },
  {
   "cell_type": "code",
   "execution_count": null,
   "metadata": {},
   "outputs": [],
   "source": [
    "Bar_3(e_p)*gamma2*(I*gamma1*Parser(P_m*ch))"
   ]
  },
  {
   "cell_type": "code",
   "execution_count": null,
   "metadata": {},
   "outputs": [],
   "source": [
    "Bar_3(e_p)*Parser(P_p*ch)"
   ]
  },
  {
   "cell_type": "code",
   "execution_count": null,
   "metadata": {},
   "outputs": [],
   "source": [
    "Bar_3(e_p)*gamma0*(I*gamma1*Parser(P_p*ch))"
   ]
  },
  {
   "cell_type": "code",
   "execution_count": null,
   "metadata": {},
   "outputs": [],
   "source": [
    "Bar_3(e_p)*gamma0*Parser(P_p*ch)"
   ]
  },
  {
   "attachments": {},
   "cell_type": "markdown",
   "metadata": {},
   "source": [
    "$\\bar{\\epsilon}\\Gamma^{\\mu}\\partial_{\\mu}\\chi =>\\bar{\\epsilon}_{-}\\gamma_{0}\\partial_{+}\\chi_{-}+ \\bar{\\epsilon}_{+}\\gamma_{i}\\partial_{i}\\chi_{-}+ \\bar{\\epsilon}_{-}\\gamma_{i}\\partial_{i}\\chi_{+}-\\bar{\\epsilon}_{+}\\partial_{-}\\chi_{+}$"
   ]
  },
  {
   "cell_type": "code",
   "execution_count": null,
   "metadata": {},
   "outputs": [],
   "source": [
    "Bar_4(S)*ch"
   ]
  },
  {
   "cell_type": "code",
   "execution_count": null,
   "metadata": {},
   "outputs": [],
   "source": [
    "Bar_3(Parser(P_p*S))*(I*gamma1*Parser(P_m*ch))"
   ]
  },
  {
   "cell_type": "code",
   "execution_count": null,
   "metadata": {},
   "outputs": [],
   "source": [
    "ch_p=Parser(P_p*ch)\n",
    "display(ch_p)\n",
    "ch_m=I*gamma1*Parser(P_m*ch)\n",
    "display(ch_m)"
   ]
  },
  {
   "cell_type": "code",
   "execution_count": null,
   "metadata": {},
   "outputs": [],
   "source": [
    "S_p=Parser(P_p*S)\n",
    "display(S_p)\n",
    "S_m=I*gamma2*Parser(P_m*S)\n",
    "display(S_m)\n"
   ]
  },
  {
   "cell_type": "code",
   "execution_count": null,
   "metadata": {},
   "outputs": [],
   "source": [
    "Bar_3(S_m)*gamma2*ch_p"
   ]
  },
  {
   "cell_type": "code",
   "execution_count": null,
   "metadata": {},
   "outputs": [],
   "source": [
    "Bar_3(S_p)*ch_m"
   ]
  },
  {
   "attachments": {},
   "cell_type": "markdown",
   "metadata": {},
   "source": [
    "$(1-\\omega)\\bar{\\eta}\\chi=>\\bar{\\eta}_{+}\\chi_{-} -\\bar{\\eta}_{-}\\gamma_{2}\\chi_{+}$"
   ]
  },
  {
   "attachments": {},
   "cell_type": "markdown",
   "metadata": {},
   "source": [
    "## $\\delta S_{2}=i\\bar{\\epsilon}\\Gamma_{i}\\partial_{i}\\Gamma_{*}\\chi -i(1-\\omega)\\bar{\\eta}\\Gamma_{*}\\chi$ ##"
   ]
  },
  {
   "attachments": {},
   "cell_type": "markdown",
   "metadata": {},
   "source": [
    "$i\\bar{\\epsilon}\\Gamma_{i}\\partial_{i}\\Gamma_{*}\\chi$ part"
   ]
  },
  {
   "cell_type": "code",
   "execution_count": null,
   "metadata": {},
   "outputs": [],
   "source": [
    "for i in range(4):\n",
    "    display(I*Bar_4(e)*Gamma[i]*del_[i]*Gamma5*ch)"
   ]
  },
  {
   "cell_type": "code",
   "execution_count": null,
   "metadata": {},
   "outputs": [],
   "source": [
    "Bar_3(e_m)*ch_m"
   ]
  },
  {
   "cell_type": "code",
   "execution_count": null,
   "metadata": {},
   "outputs": [],
   "source": [
    "Bar_3(e_m)*gamma_ij(2,0)*ch_p + Bar_3(e_p)*gamma_ij(2,0)*ch_m"
   ]
  },
  {
   "cell_type": "code",
   "execution_count": null,
   "metadata": {},
   "outputs": [],
   "source": [
    "Bar_3(e_p)*ch_p"
   ]
  },
  {
   "attachments": {},
   "cell_type": "markdown",
   "metadata": {},
   "source": [
    "$i\\bar{\\epsilon}\\Gamma_{i}\\partial_{i}\\Gamma_{*}\\chi=> -\\bar{\\epsilon}_{-}\\gamma_{i 0}\\partial_{i}\\chi_{+} +\\bar{\\epsilon}_{+}\\gamma_{i 0}\\partial_{i}\\chi_{-} - \\bar{\\epsilon}_{+}\\partial_{-}\\chi_{+}$"
   ]
  },
  {
   "attachments": {},
   "cell_type": "markdown",
   "metadata": {},
   "source": [
    "$i(1-\\omega)\\bar{\\eta}\\Gamma_{*}\\chi$ part"
   ]
  },
  {
   "cell_type": "code",
   "execution_count": null,
   "metadata": {},
   "outputs": [],
   "source": [
    "display(I*Bar_4(S)*Gamma5*ch)"
   ]
  },
  {
   "cell_type": "code",
   "execution_count": null,
   "metadata": {},
   "outputs": [],
   "source": [
    "Bar_3(S_p)*gamma0*ch_m"
   ]
  },
  {
   "attachments": {},
   "cell_type": "markdown",
   "metadata": {},
   "source": [
    "$i(1-\\omega)\\bar{\\eta}\\Gamma_{*}\\chi=>-\\bar{\\eta}_{-}\\chi_{+} +\\bar{\\eta}_{+}\\gamma_{0}\\chi_{-}$"
   ]
  }
 ],
 "metadata": {
  "kernelspec": {
   "display_name": "CondaEnv",
   "language": "python",
   "name": "python3"
  },
  "language_info": {
   "codemirror_mode": {
    "name": "ipython",
    "version": 3
   },
   "file_extension": ".py",
   "mimetype": "text/x-python",
   "name": "python",
   "nbconvert_exporter": "python",
   "pygments_lexer": "ipython3",
   "version": "3.10.11"
  },
  "orig_nbformat": 4
 },
 "nbformat": 4,
 "nbformat_minor": 2
}
