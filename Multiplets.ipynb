{
 "cells": [
  {
   "cell_type": "code",
   "execution_count": 3,
   "metadata": {},
   "outputs": [
    {
     "name": "stdout",
     "output_type": "stream",
     "text": [
      "Requirement already satisfied: sympy in /Users/uguratli/mambaforge/envs/CondaEnv/lib/python3.9/site-packages (1.12)\n",
      "Requirement already satisfied: mpmath>=0.19 in /Users/uguratli/mambaforge/envs/CondaEnv/lib/python3.9/site-packages (from sympy) (1.3.0)\n",
      "Requirement already satisfied: numpy in /Users/uguratli/mambaforge/envs/CondaEnv/lib/python3.9/site-packages (1.23.2)\n"
     ]
    },
    {
     "data": {
      "text/plain": [
       "0"
      ]
     },
     "execution_count": 3,
     "metadata": {},
     "output_type": "execute_result"
    }
   ],
   "source": [
    "import sys\n",
    "import subprocess\n",
    "\n",
    "subprocess.check_call([sys.executable, '-m', 'pip', 'install', \n",
    "'sympy'])\n",
    "subprocess.check_call([sys.executable, '-m', 'pip', 'install', \n",
    "'numpy'])"
   ]
  },
  {
   "cell_type": "code",
   "execution_count": 4,
   "metadata": {},
   "outputs": [],
   "source": [
    "import sympy as sym\n",
    "import numpy as np\n",
    "import cmath\n",
    "from sympy import I\n",
    "from sympy.physics.quantum import TensorProduct\n",
    "from IPython.display import display"
   ]
  },
  {
   "cell_type": "code",
   "execution_count": 53,
   "metadata": {},
   "outputs": [],
   "source": [
    "#####\n",
    "#Gamma0=sym.Matrix([[0 , 0, 1, 0], [0, 0, 0, 1], [-1, 0, 0, 0], [0, -1, 0, 0]])\n",
    "#Gamma1 = sym.Matrix([[0, 0, 0, 1], [0, 0, 1, 0], [0, 1, 0, 0], [1, 0, 0, 0]])\n",
    "#Gamma2 =sym.Matrix([[0, 0, 0, -1*I], [0, 0, 1*I, 0], [0, -1*I, 0, 0], [1*I, 0, 0, 0]])\n",
    "#Gamma3 = sym.Matrix([[0, 0, 1, 0], [0, 0, 0, -1], [1, 0, 0, 0], [0, -1, 0, 0]])\n",
    "#Gamma=[Gamma0,Gamma1,Gamma2,Gamma3]\n",
    "sigma1=sym.Matrix([[0,1],[1,0]])\n",
    "sigma2=sym.Matrix([[0,-I],[I,0]])\n",
    "sigma3=sym.Matrix([[1,0],[0,-1]])\n",
    "gamma0=I*sigma3\n",
    "gamma1=sigma1\n",
    "gamma2=sigma2\n",
    "gamma=[gamma0,gamma1,gamma2]\n",
    "Gamma0=TensorProduct(I*sigma2,sym.eye(sigma1.shape[0]))\n",
    "Gamma1=TensorProduct(sigma1,sigma1)\n",
    "Gamma2=TensorProduct(sigma1,sigma2)\n",
    "Gamma3=TensorProduct(sigma1,sigma3)\n",
    "Gamma=[Gamma0,Gamma1,Gamma2,Gamma3]\n",
    "#Gamma_p=(Gamma0+Gamma3)/sym.sqrt(2)\n",
    "#Gamma_m=(Gamma0-Gamma3)/sym.sqrt(2)\n",
    "Gamma_p=(Gamma0+Gamma3)\n",
    "Gamma_m=(Gamma0-Gamma3)\n",
    "P_p=(sym.eye(Gamma0.shape[0])+Gamma0*Gamma3)/2\n",
    "P_m=(sym.eye(Gamma0.shape[0])-Gamma0*Gamma3)/2\n",
    "Eta_mn=sym.Matrix([[0,-1,0,0],[-1,0,0,0],[0,0,1,0],[0,0,0,1]])\n",
    "eta_mn=sym.Matrix([[-1,0,0],[0,1,0],[0,0,1]])"
   ]
  },
  {
   "cell_type": "code",
   "execution_count": 67,
   "metadata": {},
   "outputs": [],
   "source": [
    "def GammaStar(Gamma):\n",
    "    C=Gamma[0]\n",
    "    for i in range(1,len(Gamma)):\n",
    "        C=C*Gamma[i]\n",
    "    return C*(-I)**int(len(Gamma)/2 +1)\n",
    "def symbol_isupper(x):\n",
    "    x_string=str(x)\n",
    "    return x_string.isupper()\n",
    "def symbol_upper(x):\n",
    "    x_string=str(x).upper()\n",
    "    return sym.symbols(x_string)\n",
    "def symbol_lower(x):\n",
    "    x_string=str(x).lower()\n",
    "    return sym.symbols(x_string)\n",
    "def Bar_4(V):\n",
    "    V=V.transpose()\n",
    "    return I*V*(Gamma3*Gamma1)\n",
    "def Bar_3(V):\n",
    "    V=V.transpose()\n",
    "    return I*V*sigma2\n",
    "def Parser(x):\n",
    "    if x.shape==(4,1):\n",
    "        x_out=sym.Matrix.zeros(2,1)\n",
    "        i=0\n",
    "        for j in range(len(x)):\n",
    "            if x[j]!=0:\n",
    "                x_out[i]=x[j]\n",
    "                i+=1\n",
    "    elif x.shape==(1,4):\n",
    "        x_out=sym.Matrix.zeros(1,2)\n",
    "        i=0\n",
    "        for j in range(len(x)):\n",
    "            if x[j]!=0:\n",
    "                x_out[i]=x[j]\n",
    "                i+=1\n",
    "    return x_out\n",
    "def Gamma_ij(i,j):\n",
    "    ##2\\eta^{\\mu \\nu}=\\gamma^{\\mu}\\gamma^{\\nu}+\\gamma^{\\nu}\\gamma^{\\mu}\n",
    "    ##2\\gamma^{\\mu \\nu}=\\gamma^{\\mu}\\gamma^{\\nu}-\\gamma^{\\nu}\\gamma^{\\mu}\n",
    "    Gamma_ij=Gamma[i]*Gamma[j]-Eta_mn[i,j]*sym.eye(4)\n",
    "    return Gamma_ij\n",
    "def gamma_ij(i,j):\n",
    "    ##2\\eta^{\\mu \\nu}=\\gamma^{\\mu}\\gamma^{\\nu}+\\gamma^{\\nu}\\gamma^{\\mu}\n",
    "    ##2\\gamma^{\\mu \\nu}=\\gamma^{\\mu}\\gamma^{\\nu}-\\gamma^{\\nu}\\gamma^{\\mu}\n",
    "    gamma_ij=gamma[i]*gamma[j]-eta_mn[i,j]*sym.eye(2)\n",
    "    return gamma_ij"
   ]
  },
  {
   "cell_type": "code",
   "execution_count": 59,
   "metadata": {},
   "outputs": [
    {
     "name": "stdout",
     "output_type": "stream",
     "text": [
      "Gamma 0\n"
     ]
    },
    {
     "data": {
      "text/latex": [
       "$\\displaystyle \\left[\\begin{matrix}0 & 0 & 1 & 0\\\\0 & 0 & 0 & 1\\\\-1 & 0 & 0 & 0\\\\0 & -1 & 0 & 0\\end{matrix}\\right]$"
      ],
      "text/plain": [
       "⎡0   0   1  0⎤\n",
       "⎢            ⎥\n",
       "⎢0   0   0  1⎥\n",
       "⎢            ⎥\n",
       "⎢-1  0   0  0⎥\n",
       "⎢            ⎥\n",
       "⎣0   -1  0  0⎦"
      ]
     },
     "metadata": {},
     "output_type": "display_data"
    },
    {
     "name": "stdout",
     "output_type": "stream",
     "text": [
      "Gamma 1\n"
     ]
    },
    {
     "data": {
      "text/latex": [
       "$\\displaystyle \\left[\\begin{matrix}0 & 0 & 0 & 1\\\\0 & 0 & 1 & 0\\\\0 & 1 & 0 & 0\\\\1 & 0 & 0 & 0\\end{matrix}\\right]$"
      ],
      "text/plain": [
       "⎡0  0  0  1⎤\n",
       "⎢          ⎥\n",
       "⎢0  0  1  0⎥\n",
       "⎢          ⎥\n",
       "⎢0  1  0  0⎥\n",
       "⎢          ⎥\n",
       "⎣1  0  0  0⎦"
      ]
     },
     "metadata": {},
     "output_type": "display_data"
    },
    {
     "name": "stdout",
     "output_type": "stream",
     "text": [
      "Gamma 2\n"
     ]
    },
    {
     "data": {
      "text/latex": [
       "$\\displaystyle \\left[\\begin{matrix}0 & 0 & 0 & - i\\\\0 & 0 & i & 0\\\\0 & - i & 0 & 0\\\\i & 0 & 0 & 0\\end{matrix}\\right]$"
      ],
      "text/plain": [
       "⎡0  0   0  -ⅈ⎤\n",
       "⎢            ⎥\n",
       "⎢0  0   ⅈ  0 ⎥\n",
       "⎢            ⎥\n",
       "⎢0  -ⅈ  0  0 ⎥\n",
       "⎢            ⎥\n",
       "⎣ⅈ  0   0  0 ⎦"
      ]
     },
     "metadata": {},
     "output_type": "display_data"
    },
    {
     "name": "stdout",
     "output_type": "stream",
     "text": [
      "Gamma 3\n"
     ]
    },
    {
     "data": {
      "text/latex": [
       "$\\displaystyle \\left[\\begin{matrix}0 & 0 & 1 & 0\\\\0 & 0 & 0 & -1\\\\1 & 0 & 0 & 0\\\\0 & -1 & 0 & 0\\end{matrix}\\right]$"
      ],
      "text/plain": [
       "⎡0  0   1  0 ⎤\n",
       "⎢            ⎥\n",
       "⎢0  0   0  -1⎥\n",
       "⎢            ⎥\n",
       "⎢1  0   0  0 ⎥\n",
       "⎢            ⎥\n",
       "⎣0  -1  0  0 ⎦"
      ]
     },
     "metadata": {},
     "output_type": "display_data"
    },
    {
     "name": "stdout",
     "output_type": "stream",
     "text": [
      "Gamma*\n"
     ]
    },
    {
     "data": {
      "text/latex": [
       "$\\displaystyle \\left[\\begin{matrix}-1 & 0 & 0 & 0\\\\0 & -1 & 0 & 0\\\\0 & 0 & 1 & 0\\\\0 & 0 & 0 & 1\\end{matrix}\\right]$"
      ],
      "text/plain": [
       "⎡-1  0   0  0⎤\n",
       "⎢            ⎥\n",
       "⎢0   -1  0  0⎥\n",
       "⎢            ⎥\n",
       "⎢0   0   1  0⎥\n",
       "⎢            ⎥\n",
       "⎣0   0   0  1⎦"
      ]
     },
     "metadata": {},
     "output_type": "display_data"
    },
    {
     "name": "stdout",
     "output_type": "stream",
     "text": [
      "gamas\n"
     ]
    },
    {
     "data": {
      "text/latex": [
       "$\\displaystyle \\left[ \\left[\\begin{matrix}i & 0\\\\0 & - i\\end{matrix}\\right], \\  \\left[\\begin{matrix}0 & 1\\\\1 & 0\\end{matrix}\\right], \\  \\left[\\begin{matrix}0 & - i\\\\i & 0\\end{matrix}\\right]\\right]$"
      ],
      "text/plain": [
       "⎡⎡ⅈ  0 ⎤  ⎡0  1⎤  ⎡0  -ⅈ⎤⎤\n",
       "⎢⎢     ⎥, ⎢    ⎥, ⎢     ⎥⎥\n",
       "⎣⎣0  -ⅈ⎦  ⎣1  0⎦  ⎣ⅈ  0 ⎦⎦"
      ]
     },
     "metadata": {},
     "output_type": "display_data"
    },
    {
     "name": "stdout",
     "output_type": "stream",
     "text": [
      "P^{+}\n"
     ]
    },
    {
     "data": {
      "text/latex": [
       "$\\displaystyle \\left[\\begin{matrix}1 & 0 & 0 & 0\\\\0 & 0 & 0 & 0\\\\0 & 0 & 0 & 0\\\\0 & 0 & 0 & 1\\end{matrix}\\right]$"
      ],
      "text/plain": [
       "⎡1  0  0  0⎤\n",
       "⎢          ⎥\n",
       "⎢0  0  0  0⎥\n",
       "⎢          ⎥\n",
       "⎢0  0  0  0⎥\n",
       "⎢          ⎥\n",
       "⎣0  0  0  1⎦"
      ]
     },
     "metadata": {},
     "output_type": "display_data"
    },
    {
     "name": "stdout",
     "output_type": "stream",
     "text": [
      "P^{-}\n"
     ]
    },
    {
     "data": {
      "text/latex": [
       "$\\displaystyle \\left[\\begin{matrix}0 & 0 & 0 & 0\\\\0 & 1 & 0 & 0\\\\0 & 0 & 1 & 0\\\\0 & 0 & 0 & 0\\end{matrix}\\right]$"
      ],
      "text/plain": [
       "⎡0  0  0  0⎤\n",
       "⎢          ⎥\n",
       "⎢0  1  0  0⎥\n",
       "⎢          ⎥\n",
       "⎢0  0  1  0⎥\n",
       "⎢          ⎥\n",
       "⎣0  0  0  0⎦"
      ]
     },
     "metadata": {},
     "output_type": "display_data"
    },
    {
     "name": "stdout",
     "output_type": "stream",
     "text": [
      "Gamma^{+}\n"
     ]
    },
    {
     "data": {
      "text/latex": [
       "$\\displaystyle \\left[\\begin{matrix}0 & 0 & 2 & 0\\\\0 & 0 & 0 & 0\\\\0 & 0 & 0 & 0\\\\0 & -2 & 0 & 0\\end{matrix}\\right]$"
      ],
      "text/plain": [
       "⎡0  0   2  0⎤\n",
       "⎢           ⎥\n",
       "⎢0  0   0  0⎥\n",
       "⎢           ⎥\n",
       "⎢0  0   0  0⎥\n",
       "⎢           ⎥\n",
       "⎣0  -2  0  0⎦"
      ]
     },
     "metadata": {},
     "output_type": "display_data"
    },
    {
     "name": "stdout",
     "output_type": "stream",
     "text": [
      "Gamma^{-}\n"
     ]
    },
    {
     "data": {
      "text/latex": [
       "$\\displaystyle \\left[\\begin{matrix}0 & 0 & 0 & 0\\\\0 & 0 & 0 & 2\\\\-2 & 0 & 0 & 0\\\\0 & 0 & 0 & 0\\end{matrix}\\right]$"
      ],
      "text/plain": [
       "⎡0   0  0  0⎤\n",
       "⎢           ⎥\n",
       "⎢0   0  0  2⎥\n",
       "⎢           ⎥\n",
       "⎢-2  0  0  0⎥\n",
       "⎢           ⎥\n",
       "⎣0   0  0  0⎦"
      ]
     },
     "metadata": {},
     "output_type": "display_data"
    }
   ],
   "source": [
    "for i in range(len(Gamma)):\n",
    "    print(\"Gamma\",i)\n",
    "    display(Gamma[i])\n",
    "print(\"Gamma*\")\n",
    "display(GammaStar(Gamma))\n",
    "print(\"gamas\")\n",
    "display(gamma)\n",
    "print(\"P^{+}\")\n",
    "display(P_p)\n",
    "print(\"P^{-}\")\n",
    "display(P_m)\n",
    "print(\"Gamma^{+}\")\n",
    "display(Gamma_p)\n",
    "print(\"Gamma^{-}\")\n",
    "display(Gamma_m)\n",
    "###latex output, sym.latex(exp)"
   ]
  },
  {
   "cell_type": "code",
   "execution_count": 60,
   "metadata": {},
   "outputs": [
    {
     "name": "stdout",
     "output_type": "stream",
     "text": [
      "ε\n"
     ]
    },
    {
     "data": {
      "text/latex": [
       "$\\displaystyle \\left[\\begin{matrix}\\epsilon_{0}\\\\\\epsilon_{1}\\\\\\overline{\\epsilon_{1}}\\\\- \\overline{\\epsilon_{0}}\\end{matrix}\\right]$"
      ],
      "text/plain": [
       "⎡ε₀ ⎤\n",
       "⎢   ⎥\n",
       "⎢ε₁ ⎥\n",
       "⎢   ⎥\n",
       "⎢__ ⎥\n",
       "⎢ε₁ ⎥\n",
       "⎢   ⎥\n",
       "⎢ __⎥\n",
       "⎣-ε₀⎦"
      ]
     },
     "metadata": {},
     "output_type": "display_data"
    },
    {
     "name": "stdout",
     "output_type": "stream",
     "text": [
      "λ\n"
     ]
    },
    {
     "data": {
      "text/latex": [
       "$\\displaystyle \\left[\\begin{matrix}\\lambda_{0}\\\\\\lambda_{1}\\\\\\overline{\\lambda_{1}}\\\\- \\overline{\\lambda_{0}}\\end{matrix}\\right]$"
      ],
      "text/plain": [
       "⎡λ₀ ⎤\n",
       "⎢   ⎥\n",
       "⎢λ₁ ⎥\n",
       "⎢   ⎥\n",
       "⎢__ ⎥\n",
       "⎢λ₁ ⎥\n",
       "⎢   ⎥\n",
       "⎢ __⎥\n",
       "⎣-λ₀⎦"
      ]
     },
     "metadata": {},
     "output_type": "display_data"
    }
   ],
   "source": [
    "e,l=sym.symbols(\"epsilon,lambda\")\n",
    "a,b=sym.symbols(\"epsilon_0,epsilon_1\")\n",
    "x,y=sym.symbols(\"lambda_0,lambda_1\")\n",
    "sym.pprint(e)\n",
    "e=sym.Matrix([a,b,b.conjugate(),-a.conjugate()])\n",
    "display(e)\n",
    "sym.pprint(l)\n",
    "l=sym.Matrix([x,y,y.conjugate(),-x.conjugate()])\n",
    "display(l)"
   ]
  },
  {
   "cell_type": "code",
   "execution_count": 61,
   "metadata": {},
   "outputs": [
    {
     "name": "stdout",
     "output_type": "stream",
     "text": [
      "ε₊\n"
     ]
    },
    {
     "data": {
      "text/latex": [
       "$\\displaystyle \\left[\\begin{matrix}\\epsilon_{0}\\\\- \\overline{\\epsilon_{0}}\\end{matrix}\\right]$"
      ],
      "text/plain": [
       "⎡ε₀ ⎤\n",
       "⎢   ⎥\n",
       "⎢ __⎥\n",
       "⎣-ε₀⎦"
      ]
     },
     "metadata": {},
     "output_type": "display_data"
    },
    {
     "data": {
      "text/latex": [
       "$\\displaystyle \\left[\\begin{matrix}\\overline{\\epsilon_{0}} & \\epsilon_{0}\\end{matrix}\\right]$"
      ],
      "text/plain": [
       "⎡__    ⎤\n",
       "⎣ε₀  ε₀⎦"
      ]
     },
     "metadata": {},
     "output_type": "display_data"
    },
    {
     "name": "stdout",
     "output_type": "stream",
     "text": [
      "ε₋\n"
     ]
    },
    {
     "data": {
      "text/latex": [
       "$\\displaystyle \\left[\\begin{matrix}i \\overline{\\epsilon_{1}}\\\\i \\epsilon_{1}\\end{matrix}\\right]$"
      ],
      "text/plain": [
       "⎡  __⎤\n",
       "⎢ⅈ⋅ε₁⎥\n",
       "⎢    ⎥\n",
       "⎣ⅈ⋅ε₁⎦"
      ]
     },
     "metadata": {},
     "output_type": "display_data"
    },
    {
     "data": {
      "text/latex": [
       "$\\displaystyle \\left[\\begin{matrix}- i \\epsilon_{1} & i \\overline{\\epsilon_{1}}\\end{matrix}\\right]$"
      ],
      "text/plain": [
       "⎡         __⎤\n",
       "⎣-ⅈ⋅ε₁  ⅈ⋅ε₁⎦"
      ]
     },
     "metadata": {},
     "output_type": "display_data"
    }
   ],
   "source": [
    "e_p,e_m=sym.symbols(\"epsilon_+,epsilon_-\")\n",
    "sym.pprint(e_p)\n",
    "e_p=Parser(P_p*e)\n",
    "display(e_p)\n",
    "display(Bar_3(e_p))\n",
    "sym.pprint(e_m)\n",
    "e_m=I*gamma1*Parser(P_m*e)\n",
    "display(e_m)\n",
    "display(Bar_3(e_m))"
   ]
  },
  {
   "cell_type": "code",
   "execution_count": 62,
   "metadata": {},
   "outputs": [
    {
     "name": "stdout",
     "output_type": "stream",
     "text": [
      "λ₊\n"
     ]
    },
    {
     "data": {
      "text/latex": [
       "$\\displaystyle \\left[\\begin{matrix}\\lambda_{0}\\\\- \\overline{\\lambda_{0}}\\end{matrix}\\right]$"
      ],
      "text/plain": [
       "⎡λ₀ ⎤\n",
       "⎢   ⎥\n",
       "⎢ __⎥\n",
       "⎣-λ₀⎦"
      ]
     },
     "metadata": {},
     "output_type": "display_data"
    },
    {
     "name": "stdout",
     "output_type": "stream",
     "text": [
      "λ₋\n"
     ]
    },
    {
     "data": {
      "text/latex": [
       "$\\displaystyle \\left[\\begin{matrix}i \\overline{\\lambda_{1}}\\\\i \\lambda_{1}\\end{matrix}\\right]$"
      ],
      "text/plain": [
       "⎡  __⎤\n",
       "⎢ⅈ⋅λ₁⎥\n",
       "⎢    ⎥\n",
       "⎣ⅈ⋅λ₁⎦"
      ]
     },
     "metadata": {},
     "output_type": "display_data"
    }
   ],
   "source": [
    "l_p,l_m=sym.symbols(\"lambda_+,lambda_-\")\n",
    "sym.pprint(l_p)\n",
    "l_p=Parser(P_p*l)\n",
    "display(l_p)\n",
    "sym.pprint(l_m)\n",
    "l_m=I*gamma1*Parser(P_m*l)\n",
    "display(l_m)\n"
   ]
  },
  {
   "cell_type": "code",
   "execution_count": 64,
   "metadata": {},
   "outputs": [
    {
     "data": {
      "text/latex": [
       "$\\displaystyle \\left[\\begin{matrix}- 2 i \\epsilon_{0} \\overline{\\lambda_{0}} - 2 i \\lambda_{0} \\overline{\\epsilon_{0}}\\end{matrix}\\right]$"
      ],
      "text/plain": [
       "⎡         __          __⎤\n",
       "⎣- 2⋅ⅈ⋅ε₀⋅λ₀ - 2⋅ⅈ⋅λ₀⋅ε₀⎦"
      ]
     },
     "metadata": {},
     "output_type": "display_data"
    }
   ],
   "source": [
    "exp1=Bar_4(e)*Gamma_m*l\n",
    "display(exp1)"
   ]
  },
  {
   "cell_type": "code",
   "execution_count": 69,
   "metadata": {},
   "outputs": [
    {
     "data": {
      "text/latex": [
       "$\\displaystyle \\left[\\begin{matrix}- 2 i \\epsilon_{1} \\overline{\\lambda_{1}} - 2 i \\lambda_{1} \\overline{\\epsilon_{1}}\\end{matrix}\\right]$"
      ],
      "text/plain": [
       "⎡         __          __⎤\n",
       "⎣- 2⋅ⅈ⋅ε₁⋅λ₁ - 2⋅ⅈ⋅λ₁⋅ε₁⎦"
      ]
     },
     "metadata": {},
     "output_type": "display_data"
    }
   ],
   "source": [
    "exp2=Bar_4(e)*Gamma_p*l\n",
    "display(exp2)"
   ]
  },
  {
   "cell_type": "code",
   "execution_count": 72,
   "metadata": {},
   "outputs": [
    {
     "data": {
      "text/latex": [
       "$\\displaystyle \\left[\\begin{matrix}- \\epsilon_{0} \\overline{\\lambda_{1}} + i \\epsilon_{0} \\overline{\\lambda_{1}} + \\epsilon_{1} \\overline{\\lambda_{0}} + i \\epsilon_{1} \\overline{\\lambda_{0}} - \\lambda_{0} \\overline{\\epsilon_{1}} + i \\lambda_{0} \\overline{\\epsilon_{1}} + \\lambda_{1} \\overline{\\epsilon_{0}} + i \\lambda_{1} \\overline{\\epsilon_{0}}\\end{matrix}\\right]$"
      ],
      "text/plain": [
       "⎡     __        __      __        __      __        __      __        __⎤\n",
       "⎣- ε₀⋅λ₁ + ⅈ⋅ε₀⋅λ₁ + ε₁⋅λ₀ + ⅈ⋅ε₁⋅λ₀ - λ₀⋅ε₁ + ⅈ⋅λ₀⋅ε₁ + λ₁⋅ε₀ + ⅈ⋅λ₁⋅ε₀⎦"
      ]
     },
     "metadata": {},
     "output_type": "display_data"
    }
   ],
   "source": [
    "exp3=Bar_4(e)*Gamma[1]*l + Bar_4(e)*Gamma[2]*l\n",
    "display(exp3)"
   ]
  },
  {
   "cell_type": "code",
   "execution_count": 73,
   "metadata": {},
   "outputs": [
    {
     "data": {
      "text/latex": [
       "$\\displaystyle \\left[\\begin{matrix}\\epsilon_{0} \\left(-1 + i\\right) \\overline{\\lambda_{1}} + \\epsilon_{1} \\cdot \\left(1 + i\\right) \\overline{\\lambda_{0}} + \\lambda_{0} \\left(-1 + i\\right) \\overline{\\epsilon_{1}} + \\lambda_{1} \\cdot \\left(1 + i\\right) \\overline{\\epsilon_{0}}\\end{matrix}\\right]$"
      ],
      "text/plain": [
       "⎡            __              __               __              __⎤\n",
       "⎣ε₀⋅(-1 + ⅈ)⋅λ₁ + ε₁⋅(1 + ⅈ)⋅λ₀ + λ₀⋅(-1 + ⅈ)⋅ε₁ + λ₁⋅(1 + ⅈ)⋅ε₀⎦"
      ]
     },
     "execution_count": 73,
     "metadata": {},
     "output_type": "execute_result"
    }
   ],
   "source": [
    "sym.simplify(exp3)"
   ]
  },
  {
   "cell_type": "code",
   "execution_count": 75,
   "metadata": {},
   "outputs": [
    {
     "data": {
      "text/latex": [
       "$\\displaystyle \\left[\\begin{matrix}- \\epsilon_{0} \\overline{\\lambda_{1}} + \\lambda_{1} \\overline{\\epsilon_{0}}\\end{matrix}\\right]$"
      ],
      "text/plain": [
       "⎡     __      __⎤\n",
       "⎣- ε₀⋅λ₁ + λ₁⋅ε₀⎦"
      ]
     },
     "execution_count": 75,
     "metadata": {},
     "output_type": "execute_result"
    }
   ],
   "source": [
    "Bar_3(e_p)*gamma[2]*l_m"
   ]
  },
  {
   "cell_type": "code",
   "execution_count": null,
   "metadata": {},
   "outputs": [],
   "source": []
  }
 ],
 "metadata": {
  "kernelspec": {
   "display_name": "CondaEnv",
   "language": "python",
   "name": "python3"
  },
  "language_info": {
   "codemirror_mode": {
    "name": "ipython",
    "version": 3
   },
   "file_extension": ".py",
   "mimetype": "text/x-python",
   "name": "python",
   "nbconvert_exporter": "python",
   "pygments_lexer": "ipython3",
   "version": "3.9.15"
  },
  "orig_nbformat": 4
 },
 "nbformat": 4,
 "nbformat_minor": 2
}
