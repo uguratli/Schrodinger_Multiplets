{
 "cells": [
  {
   "cell_type": "code",
   "execution_count": 129,
   "metadata": {},
   "outputs": [
    {
     "name": "stdout",
     "output_type": "stream",
     "text": [
      "Requirement already satisfied: sympy in /Users/uguratli/mambaforge/envs/CondaEnv/lib/python3.9/site-packages (1.12)\n",
      "Requirement already satisfied: mpmath>=0.19 in /Users/uguratli/mambaforge/envs/CondaEnv/lib/python3.9/site-packages (from sympy) (1.3.0)\n",
      "Requirement already satisfied: numpy in /Users/uguratli/mambaforge/envs/CondaEnv/lib/python3.9/site-packages (1.23.2)\n"
     ]
    },
    {
     "data": {
      "text/plain": [
       "0"
      ]
     },
     "execution_count": 129,
     "metadata": {},
     "output_type": "execute_result"
    }
   ],
   "source": [
    "import sys\n",
    "import subprocess\n",
    "\n",
    "subprocess.check_call([sys.executable, '-m', 'pip', 'install', 'sympy'])\n",
    "subprocess.check_call([sys.executable, '-m', 'pip', 'install', 'numpy'])"
   ]
  },
  {
   "cell_type": "code",
   "execution_count": 2,
   "metadata": {},
   "outputs": [],
   "source": [
    "import sympy as sym\n",
    "import numpy as np\n",
    "import cmath\n",
    "from sympy import I\n",
    "from sympy.physics.quantum import TensorProduct\n",
    "from IPython.display import display\n",
    "import req as r "
   ]
  },
  {
   "cell_type": "code",
   "execution_count": 3,
   "metadata": {},
   "outputs": [
    {
     "data": {
      "text/plain": [
       "['Bar_3',\n",
       " 'Bar_4',\n",
       " 'Eta_mn',\n",
       " 'Gamma',\n",
       " 'Gamma0',\n",
       " 'Gamma1',\n",
       " 'Gamma2',\n",
       " 'Gamma3',\n",
       " 'Gamma5',\n",
       " 'GammaStar',\n",
       " 'Gamma_ij',\n",
       " 'Gamma_m',\n",
       " 'Gamma_p',\n",
       " 'I',\n",
       " 'P_m',\n",
       " 'P_p',\n",
       " 'Parser',\n",
       " 'TensorProduct',\n",
       " '__builtins__',\n",
       " '__cached__',\n",
       " '__doc__',\n",
       " '__file__',\n",
       " '__loader__',\n",
       " '__name__',\n",
       " '__package__',\n",
       " '__spec__',\n",
       " 'eta_mn',\n",
       " 'gamma',\n",
       " 'gamma0',\n",
       " 'gamma1',\n",
       " 'gamma2',\n",
       " 'np',\n",
       " 'sigma1',\n",
       " 'sigma2',\n",
       " 'sigma3',\n",
       " 'sym',\n",
       " 'symbol_isupper',\n",
       " 'symbol_lower',\n",
       " 'symbol_upper']"
      ]
     },
     "execution_count": 3,
     "metadata": {},
     "output_type": "execute_result"
    }
   ],
   "source": [
    "dir(r)"
   ]
  },
  {
   "cell_type": "code",
   "execution_count": 18,
   "metadata": {},
   "outputs": [],
   "source": [
    "Gamma=r.Gamma #4x4 Gamma\n",
    "gamma=r.gamma #3x3 Gamma\n",
    "Gamma5=r.Gamma5 #Gamma_*\n",
    "Gamma_p=r.Gamma_p #G_+\n",
    "Gamma_m=r.Gamma_m #G_-\n",
    "P_p=r.P_p         #P_+\n",
    "P_m=r.P_m         #P_-\n",
    "Eta_mn=r.Eta_mn   #4x4 \\eta\n",
    "eta_mn=r.eta_mn   #3x3 \\eta"
   ]
  },
  {
   "cell_type": "code",
   "execution_count": 28,
   "metadata": {},
   "outputs": [],
   "source": [
    "Gamma_ij=r.Gamma_ij\n",
    "Parser=r.Parser\n",
    "Bar_3=r.Bar_3\n",
    "Bar_4=r.Bar_4"
   ]
  },
  {
   "cell_type": "code",
   "execution_count": 24,
   "metadata": {},
   "outputs": [
    {
     "data": {
      "text/latex": [
       "$\\displaystyle \\left[\\begin{matrix}0 & -1 & 0 & 0\\\\-1 & 0 & 0 & 0\\\\0 & 0 & 1 & 0\\\\0 & 0 & 0 & 1\\end{matrix}\\right]$"
      ],
      "text/plain": [
       "Matrix([\n",
       "[ 0, -1, 0, 0],\n",
       "[-1,  0, 0, 0],\n",
       "[ 0,  0, 1, 0],\n",
       "[ 0,  0, 0, 1]])"
      ]
     },
     "metadata": {},
     "output_type": "display_data"
    },
    {
     "data": {
      "text/latex": [
       "$\\displaystyle \\left[\\begin{matrix}0 & 0 & 0 & -1\\\\0 & 1 & 0 & 0\\\\0 & 0 & 1 & 0\\\\-1 & 0 & 0 & 0\\end{matrix}\\right]$"
      ],
      "text/plain": [
       "Matrix([\n",
       "[ 0, 0, 0, -1],\n",
       "[ 0, 1, 0,  0],\n",
       "[ 0, 0, 1,  0],\n",
       "[-1, 0, 0,  0]])"
      ]
     },
     "metadata": {},
     "output_type": "display_data"
    }
   ],
   "source": [
    "##redefine \\eta as(+,1,2-)\n",
    "display(Eta_mn)\n",
    "Eta_mn=sym.Matrix([[0,0,0,-1],[0,1,0,0],[0,0,1,0],[-1,0,0,0]])\n",
    "display(Eta_mn)"
   ]
  },
  {
   "cell_type": "code",
   "execution_count": 22,
   "metadata": {},
   "outputs": [
    {
     "data": {
      "text/plain": [
       "[Matrix([\n",
       " [0,  0, 2, 0],\n",
       " [0,  0, 0, 0],\n",
       " [0,  0, 0, 0],\n",
       " [0, -2, 0, 0]]),\n",
       " Matrix([\n",
       " [0, 0, 0, 1],\n",
       " [0, 0, 1, 0],\n",
       " [0, 1, 0, 0],\n",
       " [1, 0, 0, 0]]),\n",
       " Matrix([\n",
       " [0,  0, 0, -I],\n",
       " [0,  0, I,  0],\n",
       " [0, -I, 0,  0],\n",
       " [I,  0, 0,  0]]),\n",
       " Matrix([\n",
       " [ 0, 0, 0, 0],\n",
       " [ 0, 0, 0, 2],\n",
       " [-2, 0, 0, 0],\n",
       " [ 0, 0, 0, 0]])]"
      ]
     },
     "metadata": {},
     "output_type": "display_data"
    }
   ],
   "source": [
    "##redefine Gamma set as (+,1,2,-)\n",
    "Gamma=[Gamma_p,Gamma[1],Gamma[2],Gamma_m]\n",
    "display(Gamma)"
   ]
  },
  {
   "cell_type": "code",
   "execution_count": 130,
   "metadata": {},
   "outputs": [
    {
     "name": "stdout",
     "output_type": "stream",
     "text": [
      "ε\n"
     ]
    },
    {
     "data": {
      "text/latex": [
       "$\\displaystyle \\left[\\begin{matrix}\\epsilon_{0}\\\\\\epsilon_{1}\\\\\\overline{\\epsilon_{1}}\\\\- \\overline{\\epsilon_{0}}\\end{matrix}\\right]$"
      ],
      "text/plain": [
       "Matrix([\n",
       "[            epsilon_0],\n",
       "[            epsilon_1],\n",
       "[ conjugate(epsilon_1)],\n",
       "[-conjugate(epsilon_0)]])"
      ]
     },
     "metadata": {},
     "output_type": "display_data"
    },
    {
     "name": "stdout",
     "output_type": "stream",
     "text": [
      "λ\n"
     ]
    },
    {
     "data": {
      "text/latex": [
       "$\\displaystyle \\left[\\begin{matrix}\\lambda_{0}\\\\\\lambda_{1}\\\\\\overline{\\lambda_{1}}\\\\- \\overline{\\lambda_{0}}\\end{matrix}\\right]$"
      ],
      "text/plain": [
       "Matrix([\n",
       "[            lambda_0],\n",
       "[            lambda_1],\n",
       "[ conjugate(lambda_1)],\n",
       "[-conjugate(lambda_0)]])"
      ]
     },
     "metadata": {},
     "output_type": "display_data"
    }
   ],
   "source": [
    "e,l=sym.symbols(\"epsilon,lambda\")\n",
    "e0,e1=sym.symbols(\"epsilon_0,epsilon_1\")\n",
    "l0,l1=sym.symbols(\"lambda_0,lambda_1\")\n",
    "sym.pprint(e)\n",
    "e=sym.Matrix([e0,e1,e1.conjugate(),-e0.conjugate()])\n",
    "display(e)\n",
    "sym.pprint(l)\n",
    "l=sym.Matrix([l0,l1,l1.conjugate(),-l0.conjugate()])\n",
    "display(l)"
   ]
  },
  {
   "cell_type": "code",
   "execution_count": 30,
   "metadata": {},
   "outputs": [
    {
     "name": "stdout",
     "output_type": "stream",
     "text": [
      "ε₊\n"
     ]
    },
    {
     "data": {
      "text/latex": [
       "$\\displaystyle \\left[\\begin{matrix}\\epsilon_{0}\\\\- \\overline{\\epsilon_{0}}\\end{matrix}\\right]$"
      ],
      "text/plain": [
       "Matrix([\n",
       "[            epsilon_0],\n",
       "[-conjugate(epsilon_0)]])"
      ]
     },
     "metadata": {},
     "output_type": "display_data"
    },
    {
     "data": {
      "text/latex": [
       "$\\displaystyle \\left[\\begin{matrix}\\overline{\\epsilon_{0}} & \\epsilon_{0}\\end{matrix}\\right]$"
      ],
      "text/plain": [
       "Matrix([[conjugate(epsilon_0), epsilon_0]])"
      ]
     },
     "metadata": {},
     "output_type": "display_data"
    },
    {
     "name": "stdout",
     "output_type": "stream",
     "text": [
      "ε₋\n"
     ]
    },
    {
     "data": {
      "text/latex": [
       "$\\displaystyle \\left[\\begin{matrix}i \\overline{\\epsilon_{1}}\\\\i \\epsilon_{1}\\end{matrix}\\right]$"
      ],
      "text/plain": [
       "Matrix([\n",
       "[I*conjugate(epsilon_1)],\n",
       "[           I*epsilon_1]])"
      ]
     },
     "metadata": {},
     "output_type": "display_data"
    },
    {
     "data": {
      "text/latex": [
       "$\\displaystyle \\left[\\begin{matrix}- i \\epsilon_{1} & i \\overline{\\epsilon_{1}}\\end{matrix}\\right]$"
      ],
      "text/plain": [
       "Matrix([[-I*epsilon_1, I*conjugate(epsilon_1)]])"
      ]
     },
     "metadata": {},
     "output_type": "display_data"
    }
   ],
   "source": [
    "e_p,e_m=sym.symbols(\"epsilon_+,epsilon_-\")\n",
    "sym.pprint(e_p)\n",
    "e_p=Parser(P_p*e)\n",
    "display(e_p)\n",
    "display(Bar_3(e_p))\n",
    "sym.pprint(e_m)\n",
    "e_m=I*gamma[1]*Parser(P_m*e)\n",
    "display(e_m)\n",
    "display(Bar_3(e_m))"
   ]
  },
  {
   "cell_type": "code",
   "execution_count": 134,
   "metadata": {},
   "outputs": [
    {
     "name": "stdout",
     "output_type": "stream",
     "text": [
      "λ₊\n"
     ]
    },
    {
     "data": {
      "text/latex": [
       "$\\displaystyle \\left[\\begin{matrix}\\lambda_{0}\\\\- \\overline{\\lambda_{0}}\\end{matrix}\\right]$"
      ],
      "text/plain": [
       "Matrix([\n",
       "[            lambda_0],\n",
       "[-conjugate(lambda_0)]])"
      ]
     },
     "metadata": {},
     "output_type": "display_data"
    },
    {
     "name": "stdout",
     "output_type": "stream",
     "text": [
      "λ₋\n"
     ]
    },
    {
     "data": {
      "text/latex": [
       "$\\displaystyle \\left[\\begin{matrix}i \\overline{\\lambda_{1}}\\\\i \\lambda_{1}\\end{matrix}\\right]$"
      ],
      "text/plain": [
       "Matrix([\n",
       "[I*conjugate(lambda_1)],\n",
       "[           I*lambda_1]])"
      ]
     },
     "metadata": {},
     "output_type": "display_data"
    }
   ],
   "source": [
    "l_p,l_m=sym.symbols(\"lambda_+,lambda_-\")\n",
    "sym.pprint(l_p)\n",
    "l_p=Parser(P_p*l)\n",
    "display(l_p)\n",
    "sym.pprint(l_m)\n",
    "l_m=I*gamma[1]*Parser(P_m*l)\n",
    "display(l_m)"
   ]
  },
  {
   "attachments": {},
   "cell_type": "markdown",
   "metadata": {},
   "source": [
    "## Vector Multiplets"
   ]
  },
  {
   "attachments": {},
   "cell_type": "markdown",
   "metadata": {},
   "source": [
    "$$\\delta A_{\\mu}=-\\frac{1}{2} \\bar{\\epsilon}\\Gamma_{\\mu}\\lambda,$$\n",
    "$$\\delta \\lambda= \\frac{1}{4}\\Gamma^{\\mu\\nu}F_{\\mu\\nu}\\epsilon +\\frac{1}{2}i\\Gamma_{*} D\\epsilon,$$\n",
    "$$ \\delta D=\\frac{1}{2}i\\bar{\\epsilon}\\Gamma_{*}\\Gamma^{\\mu}\\partial_{\\mu}\\lambda .$$\n",
    "\n",
    "0,3 refers $+,-$,multipliers are ignored. $\\rho=A_{+},\\sigma=A_{-},C_{i}=A_{i},S=D$"
   ]
  },
  {
   "attachments": {},
   "cell_type": "markdown",
   "metadata": {},
   "source": [
    "## $\\delta\\rho$ ##"
   ]
  },
  {
   "cell_type": "code",
   "execution_count": 135,
   "metadata": {},
   "outputs": [
    {
     "data": {
      "text/latex": [
       "$\\displaystyle \\left[\\begin{matrix}- 2 i \\epsilon_{0} \\overline{\\lambda_{0}} - 2 i \\lambda_{0} \\overline{\\epsilon_{0}}\\end{matrix}\\right]$"
      ],
      "text/plain": [
       "Matrix([[-2*I*epsilon_0*conjugate(lambda_0) - 2*I*lambda_0*conjugate(epsilon_0)]])"
      ]
     },
     "metadata": {},
     "output_type": "display_data"
    }
   ],
   "source": [
    "#\\delta \\rho\n",
    "exp1=Bar_4(e)*Gamma_m*l\n",
    "display(exp1)"
   ]
  },
  {
   "cell_type": "code",
   "execution_count": 133,
   "metadata": {},
   "outputs": [
    {
     "data": {
      "text/latex": [
       "$\\displaystyle \\left[\\begin{matrix}i \\epsilon_{0} \\overline{\\lambda_{1}} + i \\lambda_{0} \\overline{\\epsilon_{0}}\\end{matrix}\\right]$"
      ],
      "text/plain": [
       "Matrix([[I*epsilon_0*conjugate(lambda_1) + I*lambda_0*conjugate(epsilon_0)]])"
      ]
     },
     "execution_count": 133,
     "metadata": {},
     "output_type": "execute_result"
    }
   ],
   "source": [
    "Bar_3(e_p)*gamma[0]*l_p"
   ]
  },
  {
   "attachments": {},
   "cell_type": "markdown",
   "metadata": {},
   "source": [
    "$\\delta \\rho= -2*\\bar{\\epsilon}_{+}\\gamma_{0}\\lambda_{+} $"
   ]
  },
  {
   "attachments": {},
   "cell_type": "markdown",
   "metadata": {},
   "source": [
    " ## $\\delta \\sigma$ ##"
   ]
  },
  {
   "cell_type": "code",
   "execution_count": 42,
   "metadata": {},
   "outputs": [
    {
     "data": {
      "text/latex": [
       "$\\displaystyle \\left[\\begin{matrix}- 2 i \\epsilon_{1} \\overline{\\lambda_{1}} - 2 i \\lambda_{1} \\overline{\\epsilon_{1}}\\end{matrix}\\right]$"
      ],
      "text/plain": [
       "Matrix([[-2*I*epsilon_1*conjugate(lambda_1) - 2*I*lambda_1*conjugate(epsilon_1)]])"
      ]
     },
     "metadata": {},
     "output_type": "display_data"
    }
   ],
   "source": [
    "#\\delta \\sigma\n",
    "exp2=Bar_4(e)*Gamma_p*l\n",
    "display(exp2)"
   ]
  },
  {
   "cell_type": "code",
   "execution_count": 45,
   "metadata": {},
   "outputs": [
    {
     "data": {
      "text/latex": [
       "$\\displaystyle \\left[\\begin{matrix}i \\epsilon_{1} \\overline{\\lambda_{1}} + i \\lambda_{1} \\overline{\\epsilon_{1}}\\end{matrix}\\right]$"
      ],
      "text/plain": [
       "Matrix([[I*epsilon_1*conjugate(lambda_1) + I*lambda_1*conjugate(epsilon_1)]])"
      ]
     },
     "execution_count": 45,
     "metadata": {},
     "output_type": "execute_result"
    }
   ],
   "source": [
    "Bar_3(e_m)*gamma[0]*l_m"
   ]
  },
  {
   "attachments": {},
   "cell_type": "markdown",
   "metadata": {},
   "source": [
    "$ \\delta \\sigma= -2*\\bar{\\epsilon}_{-}\\gamma_{0}\\lambda_{-} $"
   ]
  },
  {
   "attachments": {},
   "cell_type": "markdown",
   "metadata": {},
   "source": [
    "## $\\delta C_{i}$ ##"
   ]
  },
  {
   "cell_type": "code",
   "execution_count": 46,
   "metadata": {},
   "outputs": [
    {
     "data": {
      "text/latex": [
       "$\\displaystyle \\left[\\begin{matrix}i \\epsilon_{0} \\overline{\\lambda_{1}} + i \\epsilon_{1} \\overline{\\lambda_{1}} + i \\lambda_{0} \\overline{\\epsilon_{1}} + i \\lambda_{1} \\overline{\\epsilon_{0}}\\end{matrix}\\right]$"
      ],
      "text/plain": [
       "Matrix([[I*epsilon_0*conjugate(lambda_1) + I*epsilon_1*conjugate(lambda_1) + I*lambda_0*conjugate(epsilon_1) + I*lambda_1*conjugate(epsilon_0)]])"
      ]
     },
     "metadata": {},
     "output_type": "display_data"
    },
    {
     "data": {
      "text/latex": [
       "$\\displaystyle \\left[\\begin{matrix}- \\epsilon_{0} \\overline{\\lambda_{1}} + \\epsilon_{1} \\overline{\\lambda_{1}} - \\lambda_{0} \\overline{\\epsilon_{1}} + \\lambda_{1} \\overline{\\epsilon_{0}}\\end{matrix}\\right]$"
      ],
      "text/plain": [
       "Matrix([[-epsilon_0*conjugate(lambda_1) + epsilon_1*conjugate(lambda_1) - lambda_0*conjugate(epsilon_1) + lambda_1*conjugate(epsilon_0)]])"
      ]
     },
     "metadata": {},
     "output_type": "display_data"
    }
   ],
   "source": [
    "#\\delta C_{i}\n",
    "for i in range(1,3):\n",
    "    display(Bar_4(e)*Gamma[i]*l)"
   ]
  },
  {
   "cell_type": "code",
   "execution_count": 47,
   "metadata": {},
   "outputs": [
    {
     "data": {
      "text/latex": [
       "$\\displaystyle \\left[\\begin{matrix}- \\epsilon_{0} \\overline{\\lambda_{1}} + \\epsilon_{1} \\overline{\\lambda_{1}} - \\lambda_{0} \\overline{\\epsilon_{1}} + \\lambda_{1} \\overline{\\epsilon_{0}}\\end{matrix}\\right]$"
      ],
      "text/plain": [
       "Matrix([[-epsilon_0*conjugate(lambda_1) + epsilon_1*conjugate(lambda_1) - lambda_0*conjugate(epsilon_1) + lambda_1*conjugate(epsilon_0)]])"
      ]
     },
     "execution_count": 47,
     "metadata": {},
     "output_type": "execute_result"
    }
   ],
   "source": [
    "Bar_3(e_p)*gamma[2]*l_m +Bar_3(e_m)*gamma[2]*l_p"
   ]
  },
  {
   "attachments": {},
   "cell_type": "markdown",
   "metadata": {},
   "source": [
    "$ \\delta C_{i}=\\bar{\\epsilon}_{+}\\gamma_{i}\\lambda_{+}+ \\bar{\\epsilon}_{-}\\gamma_{i}\\lambda_{+}$"
   ]
  },
  {
   "attachments": {},
   "cell_type": "markdown",
   "metadata": {},
   "source": [
    "## $\\delta\\lambda_{+ } $ ##"
   ]
  },
  {
   "attachments": {},
   "cell_type": "markdown",
   "metadata": {},
   "source": [
    "$\\Gamma^{\\mu\\nu}F_{\\mu\\nu}\\epsilon$ part"
   ]
  },
  {
   "cell_type": "code",
   "execution_count": 48,
   "metadata": {},
   "outputs": [],
   "source": [
    "F=sym.MatrixSymbol(\"F\",4,4)\n",
    "D=sym.Symbol(\"S\")"
   ]
  },
  {
   "cell_type": "code",
   "execution_count": 55,
   "metadata": {},
   "outputs": [
    {
     "data": {
      "text/latex": [
       "$\\displaystyle \\left[\\begin{matrix}2 \\epsilon_{1} F_{0, 1}\\\\- 2 \\overline{\\epsilon_{1}} F_{0, 1}\\end{matrix}\\right]$"
      ],
      "text/plain": [
       "Matrix([\n",
       "[            2*epsilon_1*F[0, 1]],\n",
       "[-2*conjugate(epsilon_1)*F[0, 1]]])"
      ]
     },
     "metadata": {},
     "output_type": "display_data"
    },
    {
     "data": {
      "text/latex": [
       "$\\displaystyle \\left[\\begin{matrix}- 2 i \\epsilon_{1} F_{0, 2}\\\\- 2 i \\overline{\\epsilon_{1}} F_{0, 2}\\end{matrix}\\right]$"
      ],
      "text/plain": [
       "Matrix([\n",
       "[           -2*I*epsilon_1*F[0, 2]],\n",
       "[-2*I*conjugate(epsilon_1)*F[0, 2]]])"
      ]
     },
     "metadata": {},
     "output_type": "display_data"
    },
    {
     "data": {
      "text/latex": [
       "$\\displaystyle \\left[\\begin{matrix}- 2 \\epsilon_{0} F_{0, 3}\\\\2 \\overline{\\epsilon_{0}} F_{0, 3}\\end{matrix}\\right]$"
      ],
      "text/plain": [
       "Matrix([\n",
       "[          -2*epsilon_0*F[0, 3]],\n",
       "[2*conjugate(epsilon_0)*F[0, 3]]])"
      ]
     },
     "metadata": {},
     "output_type": "display_data"
    },
    {
     "data": {
      "text/latex": [
       "$\\displaystyle \\left[\\begin{matrix}i \\epsilon_{0} F_{1, 2}\\\\i \\overline{\\epsilon_{0}} F_{1, 2}\\end{matrix}\\right]$"
      ],
      "text/plain": [
       "Matrix([\n",
       "[           I*epsilon_0*F[1, 2]],\n",
       "[I*conjugate(epsilon_0)*F[1, 2]]])"
      ]
     },
     "metadata": {},
     "output_type": "display_data"
    },
    {
     "data": {
      "text/latex": [
       "$\\displaystyle \\left[\\begin{matrix}0\\\\0\\end{matrix}\\right]$"
      ],
      "text/plain": [
       "Matrix([\n",
       "[0],\n",
       "[0]])"
      ]
     },
     "metadata": {},
     "output_type": "display_data"
    },
    {
     "data": {
      "text/latex": [
       "$\\displaystyle \\left[\\begin{matrix}0\\\\0\\end{matrix}\\right]$"
      ],
      "text/plain": [
       "Matrix([\n",
       "[0],\n",
       "[0]])"
      ]
     },
     "metadata": {},
     "output_type": "display_data"
    },
    {
     "data": {
      "text/latex": [
       "$\\displaystyle \\left[\\begin{matrix}- i S \\epsilon_{0}\\\\- i S \\overline{\\epsilon_{0}}\\end{matrix}\\right]$"
      ],
      "text/plain": [
       "Matrix([\n",
       "[           -I*S*epsilon_0],\n",
       "[-I*S*conjugate(epsilon_0)]])"
      ]
     },
     "metadata": {},
     "output_type": "display_data"
    }
   ],
   "source": [
    "##exp4 \\Gamma^{\\mu\\nu} F_{\\mu\\nu}\n",
    "for i in range(4):\n",
    "    for j in range (i+1,4):\n",
    "        exp4=P_p*Gamma_ij(Gamma[i],Gamma[j])*F[i,j]*e\n",
    "        display(Parser(exp4))\n",
    "display(Parser(P_p*I*Gamma5*D*e))"
   ]
  },
  {
   "cell_type": "code",
   "execution_count": 54,
   "metadata": {},
   "outputs": [
    {
     "data": {
      "text/latex": [
       "$\\displaystyle \\left[\\begin{matrix}\\epsilon_{1} F_{0, 1}\\\\- \\overline{\\epsilon_{1}} F_{0, 1}\\end{matrix}\\right]$"
      ],
      "text/plain": [
       "Matrix([\n",
       "[            epsilon_1*F[0, 1]],\n",
       "[-conjugate(epsilon_1)*F[0, 1]]])"
      ]
     },
     "execution_count": 54,
     "metadata": {},
     "output_type": "execute_result"
    }
   ],
   "source": [
    "-Gamma_ij(gamma[0],gamma[1])*e_m*F[0,1]"
   ]
  },
  {
   "attachments": {},
   "cell_type": "markdown",
   "metadata": {},
   "source": [
    "$\\delta \\lambda_{+}=-\\gamma_{i 0} \\epsilon_{-} F_{i +} +\\epsilon_{+}F_{+ -}+\\gamma_{0}\\epsilon_{+}F_{i j}-\\gamma_{0}\\epsilon_{+}S$"
   ]
  },
  {
   "attachments": {},
   "cell_type": "markdown",
   "metadata": {},
   "source": [
    "# $\\delta\\lambda_{-}$ #"
   ]
  },
  {
   "attachments": {},
   "cell_type": "markdown",
   "metadata": {},
   "source": [
    "$\\delta\\lambda_{-}=i\\gamma_{1}P_{-}\\lambda$"
   ]
  },
  {
   "attachments": {},
   "cell_type": "markdown",
   "metadata": {},
   "source": [
    "$\\Gamma^{\\mu\\nu}F_{\\mu\\nu}\\epsilon$ part"
   ]
  },
  {
   "cell_type": "code",
   "execution_count": 56,
   "metadata": {},
   "outputs": [
    {
     "data": {
      "text/latex": [
       "$\\displaystyle \\left[\\begin{matrix}0\\\\0\\end{matrix}\\right]$"
      ],
      "text/plain": [
       "Matrix([\n",
       "[0],\n",
       "[0]])"
      ]
     },
     "metadata": {},
     "output_type": "display_data"
    },
    {
     "data": {
      "text/latex": [
       "$\\displaystyle \\left[\\begin{matrix}0\\\\0\\end{matrix}\\right]$"
      ],
      "text/plain": [
       "Matrix([\n",
       "[0],\n",
       "[0]])"
      ]
     },
     "metadata": {},
     "output_type": "display_data"
    },
    {
     "data": {
      "text/latex": [
       "$\\displaystyle \\left[\\begin{matrix}2 i \\overline{\\epsilon_{1}} F_{0, 3}\\\\2 i \\epsilon_{1} F_{0, 3}\\end{matrix}\\right]$"
      ],
      "text/plain": [
       "Matrix([\n",
       "[2*I*conjugate(epsilon_1)*F[0, 3]],\n",
       "[           2*I*epsilon_1*F[0, 3]]])"
      ]
     },
     "metadata": {},
     "output_type": "display_data"
    },
    {
     "data": {
      "text/latex": [
       "$\\displaystyle \\left[\\begin{matrix}- \\overline{\\epsilon_{1}} F_{1, 2}\\\\\\epsilon_{1} F_{1, 2}\\end{matrix}\\right]$"
      ],
      "text/plain": [
       "Matrix([\n",
       "[-conjugate(epsilon_1)*F[1, 2]],\n",
       "[            epsilon_1*F[1, 2]]])"
      ]
     },
     "metadata": {},
     "output_type": "display_data"
    },
    {
     "data": {
      "text/latex": [
       "$\\displaystyle \\left[\\begin{matrix}- 2 i \\overline{\\epsilon_{0}} F_{1, 3}\\\\- 2 i \\epsilon_{0} F_{1, 3}\\end{matrix}\\right]$"
      ],
      "text/plain": [
       "Matrix([\n",
       "[-2*I*conjugate(epsilon_0)*F[1, 3]],\n",
       "[           -2*I*epsilon_0*F[1, 3]]])"
      ]
     },
     "metadata": {},
     "output_type": "display_data"
    },
    {
     "data": {
      "text/latex": [
       "$\\displaystyle \\left[\\begin{matrix}- 2 \\overline{\\epsilon_{0}} F_{2, 3}\\\\2 \\epsilon_{0} F_{2, 3}\\end{matrix}\\right]$"
      ],
      "text/plain": [
       "Matrix([\n",
       "[-2*conjugate(epsilon_0)*F[2, 3]],\n",
       "[            2*epsilon_0*F[2, 3]]])"
      ]
     },
     "metadata": {},
     "output_type": "display_data"
    },
    {
     "data": {
      "text/latex": [
       "$\\displaystyle \\left[\\begin{matrix}- S \\overline{\\epsilon_{1}}\\\\S \\epsilon_{1}\\end{matrix}\\right]$"
      ],
      "text/plain": [
       "Matrix([\n",
       "[-S*conjugate(epsilon_1)],\n",
       "[            S*epsilon_1]])"
      ]
     },
     "metadata": {},
     "output_type": "display_data"
    }
   ],
   "source": [
    "##exp5\n",
    "for i in range(4):\n",
    "    for j in range (i+1,4):\n",
    "        exp5=P_m*Gamma_ij(Gamma[i],Gamma[j])*F[i,j]*e\n",
    "        display(I*gamma[1]*Parser(exp5))\n",
    "display(I*gamma[1]*Parser(P_m*I*Gamma5*D*e))"
   ]
  },
  {
   "cell_type": "code",
   "execution_count": null,
   "metadata": {},
   "outputs": [],
   "source": [
    "e_m*M[0,3]"
   ]
  },
  {
   "cell_type": "code",
   "execution_count": null,
   "metadata": {},
   "outputs": [],
   "source": [
    "gamma0*e_m*M[1,2]"
   ]
  },
  {
   "cell_type": "code",
   "execution_count": null,
   "metadata": {},
   "outputs": [],
   "source": [
    "gamma_ij(2,0)*e_p*M[2,3]"
   ]
  },
  {
   "cell_type": "code",
   "execution_count": null,
   "metadata": {},
   "outputs": [],
   "source": [
    "gamma0*e_m*D"
   ]
  },
  {
   "attachments": {},
   "cell_type": "markdown",
   "metadata": {},
   "source": [
    "$\\Delta \\lambda_{-}=\\epsilon_{-}*F_{+-}+\\gamma_{0}*\\epsilon_{-}*F[i,j]-\\gamma_{i 0}\\epsilon_{0}F_{i -}+\\gamma_{0}*\\epsilon_{-}*S $"
   ]
  },
  {
   "attachments": {},
   "cell_type": "markdown",
   "metadata": {},
   "source": [
    "# $\\delta D$ #"
   ]
  },
  {
   "cell_type": "code",
   "execution_count": 57,
   "metadata": {},
   "outputs": [
    {
     "data": {
      "text/latex": [
       "$\\displaystyle \\left[\\begin{matrix}- 2 \\epsilon_{1} \\overline{\\lambda_{1}} \\partial_{0, 0} + 2 \\lambda_{1} \\overline{\\epsilon_{1}} \\partial_{0, 0}\\end{matrix}\\right]$"
      ],
      "text/plain": [
       "Matrix([[-2*epsilon_1*conjugate(lambda_1)*\\partial[0, 0] + 2*lambda_1*conjugate(epsilon_1)*\\partial[0, 0]]])"
      ]
     },
     "metadata": {},
     "output_type": "display_data"
    },
    {
     "data": {
      "text/latex": [
       "$\\displaystyle \\left[\\begin{matrix}\\epsilon_{0} \\overline{\\lambda_{1}} \\partial_{1, 0} + \\epsilon_{1} \\overline{\\lambda_{1}} \\partial_{1, 0} - \\lambda_{0} \\overline{\\epsilon_{1}} \\partial_{1, 0} - \\lambda_{1} \\overline{\\epsilon_{0}} \\partial_{1, 0}\\end{matrix}\\right]$"
      ],
      "text/plain": [
       "Matrix([[epsilon_0*conjugate(lambda_1)*\\partial[1, 0] + epsilon_1*conjugate(lambda_1)*\\partial[1, 0] - lambda_0*conjugate(epsilon_1)*\\partial[1, 0] - lambda_1*conjugate(epsilon_0)*\\partial[1, 0]]])"
      ]
     },
     "metadata": {},
     "output_type": "display_data"
    },
    {
     "data": {
      "text/latex": [
       "$\\displaystyle \\left[\\begin{matrix}i \\epsilon_{0} \\overline{\\lambda_{1}} \\partial_{2, 0} - i \\epsilon_{1} \\overline{\\lambda_{1}} \\partial_{2, 0} - i \\lambda_{0} \\overline{\\epsilon_{1}} \\partial_{2, 0} + i \\lambda_{1} \\overline{\\epsilon_{0}} \\partial_{2, 0}\\end{matrix}\\right]$"
      ],
      "text/plain": [
       "Matrix([[I*epsilon_0*conjugate(lambda_1)*\\partial[2, 0] - I*epsilon_1*conjugate(lambda_1)*\\partial[2, 0] - I*lambda_0*conjugate(epsilon_1)*\\partial[2, 0] + I*lambda_1*conjugate(epsilon_0)*\\partial[2, 0]]])"
      ]
     },
     "metadata": {},
     "output_type": "display_data"
    },
    {
     "data": {
      "text/latex": [
       "$\\displaystyle \\left[\\begin{matrix}- 2 \\epsilon_{0} \\overline{\\lambda_{1}} \\partial_{3, 0} + 2 \\lambda_{0} \\overline{\\epsilon_{0}} \\partial_{3, 0}\\end{matrix}\\right]$"
      ],
      "text/plain": [
       "Matrix([[-2*epsilon_0*conjugate(lambda_1)*\\partial[3, 0] + 2*lambda_0*conjugate(epsilon_0)*\\partial[3, 0]]])"
      ]
     },
     "metadata": {},
     "output_type": "display_data"
    }
   ],
   "source": [
    "##exp6\n",
    "del_=sym.MatrixSymbol(\"\\partial\",4,1)\n",
    "for i in range(4):\n",
    "    exp6=I*Bar_4(e)*Gamma5*Gamma[i]*del_[i]*l\n",
    "    display(exp6)"
   ]
  },
  {
   "cell_type": "code",
   "execution_count": 58,
   "metadata": {},
   "outputs": [
    {
     "data": {
      "text/latex": [
       "$\\displaystyle \\left[\\begin{matrix}\\epsilon_{1} \\overline{\\lambda_{1}} - \\lambda_{1} \\overline{\\epsilon_{1}}\\end{matrix}\\right]$"
      ],
      "text/plain": [
       "Matrix([[epsilon_1*conjugate(lambda_1) - lambda_1*conjugate(epsilon_1)]])"
      ]
     },
     "execution_count": 58,
     "metadata": {},
     "output_type": "execute_result"
    }
   ],
   "source": [
    "Bar_3(e_m)*l_m"
   ]
  },
  {
   "cell_type": "code",
   "execution_count": 60,
   "metadata": {},
   "outputs": [
    {
     "data": {
      "text/latex": [
       "$\\displaystyle \\left[\\begin{matrix}\\epsilon_{1} \\overline{\\lambda_{1}} - \\lambda_{0} \\overline{\\epsilon_{1}}\\end{matrix}\\right]$"
      ],
      "text/plain": [
       "Matrix([[epsilon_1*conjugate(lambda_1) - lambda_0*conjugate(epsilon_1)]])"
      ]
     },
     "execution_count": 60,
     "metadata": {},
     "output_type": "execute_result"
    }
   ],
   "source": [
    "Bar_3(e_m)*Gamma_ij(gamma[1],gamma[0])*l_p  "
   ]
  },
  {
   "cell_type": "code",
   "execution_count": 61,
   "metadata": {},
   "outputs": [
    {
     "data": {
      "text/latex": [
       "$\\displaystyle \\left[\\begin{matrix}- \\epsilon_{0} \\overline{\\lambda_{1}} + \\lambda_{0} \\overline{\\epsilon_{0}}\\end{matrix}\\right]$"
      ],
      "text/plain": [
       "Matrix([[-epsilon_0*conjugate(lambda_1) + lambda_0*conjugate(epsilon_0)]])"
      ]
     },
     "execution_count": 61,
     "metadata": {},
     "output_type": "execute_result"
    }
   ],
   "source": [
    "Bar_3(e_p)*l_p"
   ]
  },
  {
   "attachments": {},
   "cell_type": "markdown",
   "metadata": {},
   "source": [
    "$\\delta S= \\bar{\\epsilon}_{-}\\partial_{+} \\lambda_{-} + \\bar{\\epsilon}_{-}\\gamma_{i 0}\\partial_{i}\\lambda_{+} - \\bar{\\epsilon}_{+}\\gamma_{i 0}\\partial_{i}\\lambda_{-}+\\bar{\\epsilon}_{+}\\partial_{-}\\lambda_{+}$"
   ]
  },
  {
   "attachments": {},
   "cell_type": "markdown",
   "metadata": {},
   "source": [
    "## Scalar Multiplets"
   ]
  },
  {
   "attachments": {},
   "cell_type": "markdown",
   "metadata": {},
   "source": [
    "$$\\delta \\phi_{1}=\\bar{\\epsilon}\\chi,$$\n",
    "$$\\delta \\phi_{2}=i\\bar{\\epsilon}\\Gamma_{*}\\chi,$$\n",
    "$$\\delta \\chi=\\Gamma^{i}\\partial_{i}\\phi_{1}\\epsilon+i\\Gamma_{*}\\Gamma^{i}\\partial_{i}\\phi_{2}\\epsilon +S_{1}\\epsilon +i\\Gamma_{*}S_{2}\\epsilon + \\omega\\phi_{1}\\eta +i\\omega\\phi_{2}\\Gamma_{*}\\eta,$$\n",
    "$$\\delta S_{1}=\\bar{\\epsilon}\\Gamma^{i}\\partial_{i}\\chi +(1-\\omega)\\bar{\\eta}\\chi,$$\n",
    "$$\\delta S_{2}=i\\bar{\\epsilon}\\Gamma^{i}\\partial_{i}\\Gamma_{*}\\chi -(i-\\omega)\\bar{\\eta}\\Gamma_{*}\\chi.$$"
   ]
  },
  {
   "cell_type": "code",
   "execution_count": 62,
   "metadata": {},
   "outputs": [
    {
     "data": {
      "text/latex": [
       "$\\displaystyle \\left[\\begin{matrix}\\chi_{0}\\\\\\chi_{1}\\\\\\overline{\\chi_{1}}\\\\- \\overline{\\chi_{0}}\\end{matrix}\\right]$"
      ],
      "text/plain": [
       "Matrix([\n",
       "[            chi_0],\n",
       "[            chi_1],\n",
       "[ conjugate(chi_1)],\n",
       "[-conjugate(chi_0)]])"
      ]
     },
     "metadata": {},
     "output_type": "display_data"
    },
    {
     "data": {
      "text/latex": [
       "$\\displaystyle \\left[\\begin{matrix}- i \\chi_{1} & i \\chi_{0} & i \\overline{\\chi_{0}} & i \\overline{\\chi_{1}}\\end{matrix}\\right]$"
      ],
      "text/plain": [
       "Matrix([[-I*chi_1, I*chi_0, I*conjugate(chi_0), I*conjugate(chi_1)]])"
      ]
     },
     "metadata": {},
     "output_type": "display_data"
    }
   ],
   "source": [
    "ch=sym.Symbol(\"chi\")\n",
    "ch0,ch1=sym.symbols(\"chi_0,chi_1\")\n",
    "ch=sym.Matrix([ch0,ch1,ch1.conjugate(),-ch0.conjugate()])\n",
    "display(ch)\n",
    "display(Bar_4(ch))"
   ]
  },
  {
   "cell_type": "code",
   "execution_count": 64,
   "metadata": {},
   "outputs": [
    {
     "data": {
      "text/latex": [
       "$\\displaystyle \\chi_{+}$"
      ],
      "text/plain": [
       "chi_+"
      ]
     },
     "metadata": {},
     "output_type": "display_data"
    },
    {
     "data": {
      "text/latex": [
       "$\\displaystyle \\left[\\begin{matrix}\\chi_{0}\\\\- \\overline{\\chi_{0}}\\end{matrix}\\right]$"
      ],
      "text/plain": [
       "Matrix([\n",
       "[            chi_0],\n",
       "[-conjugate(chi_0)]])"
      ]
     },
     "metadata": {},
     "output_type": "display_data"
    },
    {
     "data": {
      "text/latex": [
       "$\\displaystyle \\chi_{-}$"
      ],
      "text/plain": [
       "chi_-"
      ]
     },
     "metadata": {},
     "output_type": "display_data"
    },
    {
     "data": {
      "text/latex": [
       "$\\displaystyle \\left[\\begin{matrix}i \\overline{\\chi_{1}}\\\\i \\chi_{1}\\end{matrix}\\right]$"
      ],
      "text/plain": [
       "Matrix([\n",
       "[I*conjugate(chi_1)],\n",
       "[           I*chi_1]])"
      ]
     },
     "metadata": {},
     "output_type": "display_data"
    }
   ],
   "source": [
    "ch_p,ch_m=sym.symbols(\"chi_+,chi_-\")\n",
    "display(ch_p)\n",
    "display(Parser(P_p*ch))\n",
    "display(ch_m)\n",
    "display(I*gamma[1]*Parser(P_m*ch))\n",
    "ch_p=Parser(P_p*ch)\n",
    "ch_m=I*gamma[1]*Parser(P_m*ch)"
   ]
  },
  {
   "cell_type": "code",
   "execution_count": null,
   "metadata": {},
   "outputs": [],
   "source": [
    "Bar_3(e_p)"
   ]
  },
  {
   "cell_type": "code",
   "execution_count": null,
   "metadata": {},
   "outputs": [],
   "source": [
    "Bar_3(e_m)"
   ]
  },
  {
   "attachments": {},
   "cell_type": "markdown",
   "metadata": {},
   "source": [
    "## $$\\delta \\phi_{1}=\\bar{\\epsilon}\\chi,$$\n"
   ]
  },
  {
   "cell_type": "code",
   "execution_count": 65,
   "metadata": {},
   "outputs": [
    {
     "data": {
      "text/latex": [
       "$\\displaystyle \\left[\\begin{matrix}- i \\chi_{0} \\epsilon_{1} + i \\chi_{1} \\epsilon_{0} - i \\overline{\\chi_{0}} \\overline{\\epsilon_{1}} + i \\overline{\\chi_{1}} \\overline{\\epsilon_{0}}\\end{matrix}\\right]$"
      ],
      "text/plain": [
       "Matrix([[-I*chi_0*epsilon_1 + I*chi_1*epsilon_0 - I*conjugate(chi_0)*conjugate(epsilon_1) + I*conjugate(chi_1)*conjugate(epsilon_0)]])"
      ]
     },
     "metadata": {},
     "output_type": "display_data"
    }
   ],
   "source": [
    "exp7=Bar_4(e)*ch\n",
    "display(exp7)"
   ]
  },
  {
   "attachments": {},
   "cell_type": "markdown",
   "metadata": {},
   "source": [
    "$$\\phi_{1}->\\psi_{1}$$"
   ]
  },
  {
   "cell_type": "code",
   "execution_count": 66,
   "metadata": {},
   "outputs": [
    {
     "data": {
      "text/latex": [
       "$\\displaystyle \\left[\\begin{matrix}- i \\chi_{0} \\epsilon_{1} + i \\chi_{1} \\epsilon_{0} - i \\overline{\\chi_{0}} \\overline{\\epsilon_{1}} + i \\overline{\\chi_{1}} \\overline{\\epsilon_{0}}\\end{matrix}\\right]$"
      ],
      "text/plain": [
       "Matrix([[-I*chi_0*epsilon_1 + I*chi_1*epsilon_0 - I*conjugate(chi_0)*conjugate(epsilon_1) + I*conjugate(chi_1)*conjugate(epsilon_0)]])"
      ]
     },
     "execution_count": 66,
     "metadata": {},
     "output_type": "execute_result"
    }
   ],
   "source": [
    "##checking.\n",
    "Bar_3(e_m)*ch_p + Bar_3(e_p)*ch_m"
   ]
  },
  {
   "attachments": {},
   "cell_type": "markdown",
   "metadata": {},
   "source": [
    "$$\\delta\\phi_{1}=\\bar{\\epsilon}_{-}\\chi_{+} +\\bar{\\epsilon}_{+}\\chi_{-}$$"
   ]
  },
  {
   "attachments": {},
   "cell_type": "markdown",
   "metadata": {},
   "source": [
    "## $$\\delta \\phi_{2}=i\\bar{\\epsilon}\\Gamma_{*}\\chi$$"
   ]
  },
  {
   "cell_type": "code",
   "execution_count": 67,
   "metadata": {},
   "outputs": [
    {
     "data": {
      "text/latex": [
       "$\\displaystyle \\left[\\begin{matrix}- \\chi_{0} \\epsilon_{1} + \\chi_{1} \\epsilon_{0} + \\overline{\\chi_{0}} \\overline{\\epsilon_{1}} - \\overline{\\chi_{1}} \\overline{\\epsilon_{0}}\\end{matrix}\\right]$"
      ],
      "text/plain": [
       "Matrix([[-chi_0*epsilon_1 + chi_1*epsilon_0 + conjugate(chi_0)*conjugate(epsilon_1) - conjugate(chi_1)*conjugate(epsilon_0)]])"
      ]
     },
     "metadata": {},
     "output_type": "display_data"
    }
   ],
   "source": [
    "exp8=I*Bar_4(e)*Gamma5*ch\n",
    "display(exp8)"
   ]
  },
  {
   "cell_type": "code",
   "execution_count": 69,
   "metadata": {},
   "outputs": [
    {
     "data": {
      "text/latex": [
       "$\\displaystyle \\left[\\begin{matrix}\\overline{\\epsilon_{0}} & \\epsilon_{0}\\end{matrix}\\right]$"
      ],
      "text/plain": [
       "Matrix([[conjugate(epsilon_0), epsilon_0]])"
      ]
     },
     "metadata": {},
     "output_type": "display_data"
    },
    {
     "data": {
      "text/latex": [
       "$\\displaystyle \\left[\\begin{matrix}- i \\epsilon_{1} & i \\overline{\\epsilon_{1}}\\end{matrix}\\right]$"
      ],
      "text/plain": [
       "Matrix([[-I*epsilon_1, I*conjugate(epsilon_1)]])"
      ]
     },
     "metadata": {},
     "output_type": "display_data"
    },
    {
     "data": {
      "text/latex": [
       "$\\displaystyle \\left[\\begin{matrix}i & 0\\\\0 & - i\\end{matrix}\\right]$"
      ],
      "text/plain": [
       "Matrix([\n",
       "[I,  0],\n",
       "[0, -I]])"
      ]
     },
     "metadata": {},
     "output_type": "display_data"
    },
    {
     "data": {
      "text/latex": [
       "$\\displaystyle \\left[\\begin{matrix}\\chi_{0}\\\\- \\overline{\\chi_{0}}\\end{matrix}\\right]$"
      ],
      "text/plain": [
       "Matrix([\n",
       "[            chi_0],\n",
       "[-conjugate(chi_0)]])"
      ]
     },
     "metadata": {},
     "output_type": "display_data"
    },
    {
     "data": {
      "text/latex": [
       "$\\displaystyle \\left[\\begin{matrix}i \\overline{\\chi_{1}}\\\\i \\chi_{1}\\end{matrix}\\right]$"
      ],
      "text/plain": [
       "Matrix([\n",
       "[I*conjugate(chi_1)],\n",
       "[           I*chi_1]])"
      ]
     },
     "metadata": {},
     "output_type": "display_data"
    }
   ],
   "source": [
    "display(Bar_3(e_p))\n",
    "display(Bar_3(e_m))\n",
    "display(gamma[0])\n",
    "display(ch_p)\n",
    "display(ch_m)"
   ]
  },
  {
   "cell_type": "code",
   "execution_count": 71,
   "metadata": {},
   "outputs": [
    {
     "data": {
      "text/latex": [
       "$\\displaystyle \\left[\\begin{matrix}\\chi_{1} \\epsilon_{0} - \\overline{\\chi_{1}} \\overline{\\epsilon_{0}}\\end{matrix}\\right]$"
      ],
      "text/plain": [
       "Matrix([[chi_1*epsilon_0 - conjugate(chi_1)*conjugate(epsilon_0)]])"
      ]
     },
     "execution_count": 71,
     "metadata": {},
     "output_type": "execute_result"
    }
   ],
   "source": [
    "Bar_3(e_p)*gamma[0]*ch_m"
   ]
  },
  {
   "cell_type": "code",
   "execution_count": null,
   "metadata": {},
   "outputs": [],
   "source": [
    "Bar_3(e_m)*gamma0*ch_p"
   ]
  },
  {
   "attachments": {},
   "cell_type": "markdown",
   "metadata": {},
   "source": [
    "$$\\delta \\psi_{2}=\\bar{\\epsilon}_{+}\\gamma_{0}\\chi_{-} -\\bar{\\epsilon}_{-}\\gamma_{0}\\chi_{+}$$"
   ]
  },
  {
   "attachments": {},
   "cell_type": "markdown",
   "metadata": {},
   "source": [
    "## $$\\delta \\chi=\\Gamma^{i}\\partial_{i}\\phi_{1}\\epsilon+i\\Gamma_{*}\\Gamma^{i}\\partial_{i}\\phi_{2}\\epsilon +S_{1}\\epsilon +i\\Gamma_{*}S_{2}\\epsilon + \\omega\\phi_{1}\\eta +i\\omega\\phi_{2}\\Gamma_{*}\\eta$$ ##"
   ]
  },
  {
   "cell_type": "code",
   "execution_count": 73,
   "metadata": {},
   "outputs": [
    {
     "data": {
      "text/latex": [
       "$\\displaystyle \\left[\\begin{matrix}S_{0}\\\\S_{1}\\\\\\overline{S_{1}}\\\\- \\overline{S_{0}}\\end{matrix}\\right]$"
      ],
      "text/plain": [
       "Matrix([\n",
       "[            S_0],\n",
       "[            S_1],\n",
       "[ conjugate(S_1)],\n",
       "[-conjugate(S_0)]])"
      ]
     },
     "metadata": {},
     "output_type": "display_data"
    }
   ],
   "source": [
    "S=sym.Symbol(\"S\")\n",
    "s0,s1=sym.symbols(\"S_0,S_1\")\n",
    "S=sym.Matrix([s0,s1,s1.conjugate(),-s0.conjugate()])\n",
    "display(S)\n"
   ]
  },
  {
   "cell_type": "code",
   "execution_count": 74,
   "metadata": {},
   "outputs": [
    {
     "data": {
      "text/latex": [
       "$\\displaystyle \\left[\\begin{matrix}\\overline{S_{1}}\\\\- S_{1}\\end{matrix}\\right]$"
      ],
      "text/plain": [
       "Matrix([\n",
       "[conjugate(S_1)],\n",
       "[          -S_1]])"
      ]
     },
     "metadata": {},
     "output_type": "display_data"
    }
   ],
   "source": [
    "R=I*gamma[2]*Parser(P_m*S)\n",
    "display(R)"
   ]
  },
  {
   "cell_type": "code",
   "execution_count": 75,
   "metadata": {},
   "outputs": [],
   "source": [
    "S_1,S_2=sym.symbols(\"F_1,F_2\")\n",
    "w,phi_1,phi_2=sym.symbols(\"w,phi_1,phi_2\")"
   ]
  },
  {
   "attachments": {},
   "cell_type": "markdown",
   "metadata": {},
   "source": [
    "$$P_{+}\\delta \\chi=\\delta \\chi_{+}$$"
   ]
  },
  {
   "attachments": {},
   "cell_type": "markdown",
   "metadata": {},
   "source": [
    "$$=> +S_{1}\\epsilon +i\\Gamma_{*}S_{2}\\epsilon + \\omega\\phi_{1}\\eta +i\\omega\\phi_{2}\\Gamma_{*}\\eta$$"
   ]
  },
  {
   "attachments": {},
   "cell_type": "markdown",
   "metadata": {},
   "source": [
    " $$P_{+}(S_{1}\\epsilon +i\\Gamma_{*}S_{2}\\epsilon + \\omega\\phi_{1}\\eta +i\\omega\\phi_{2}\\Gamma_{*}\\eta)$$ "
   ]
  },
  {
   "cell_type": "code",
   "execution_count": 76,
   "metadata": {},
   "outputs": [
    {
     "data": {
      "text/latex": [
       "$\\displaystyle \\left[\\begin{matrix}F_{1} \\epsilon_{0}\\\\0\\\\0\\\\- F_{1} \\overline{\\epsilon_{0}}\\end{matrix}\\right]$"
      ],
      "text/plain": [
       "Matrix([\n",
       "[            F_1*epsilon_0],\n",
       "[                        0],\n",
       "[                        0],\n",
       "[-F_1*conjugate(epsilon_0)]])"
      ]
     },
     "execution_count": 76,
     "metadata": {},
     "output_type": "execute_result"
    }
   ],
   "source": [
    "P_p*S_1*e"
   ]
  },
  {
   "attachments": {},
   "cell_type": "markdown",
   "metadata": {},
   "source": [
    "$$P_{+}(S_{1}\\epsilon)=> F_{1}\\epsilon_{+} $$"
   ]
  },
  {
   "cell_type": "code",
   "execution_count": 77,
   "metadata": {},
   "outputs": [
    {
     "data": {
      "text/latex": [
       "$\\displaystyle \\left[\\begin{matrix}- i F_{2} \\epsilon_{0}\\\\0\\\\0\\\\- i F_{2} \\overline{\\epsilon_{0}}\\end{matrix}\\right]$"
      ],
      "text/plain": [
       "Matrix([\n",
       "[           -I*F_2*epsilon_0],\n",
       "[                          0],\n",
       "[                          0],\n",
       "[-I*F_2*conjugate(epsilon_0)]])"
      ]
     },
     "execution_count": 77,
     "metadata": {},
     "output_type": "execute_result"
    }
   ],
   "source": [
    "P_p*I*Gamma5*S_2*e"
   ]
  },
  {
   "attachments": {},
   "cell_type": "markdown",
   "metadata": {},
   "source": [
    "$$P_{+}(i\\Gamma_{*}S_{2}\\epsilon )=> -F_{2}\\gamma_{0}\\epsilon_{+} $$"
   ]
  },
  {
   "cell_type": "code",
   "execution_count": 78,
   "metadata": {},
   "outputs": [
    {
     "data": {
      "text/latex": [
       "$\\displaystyle \\left[\\begin{matrix}S_{0} \\phi_{1} w\\\\0\\\\0\\\\- \\phi_{1} w \\overline{S_{0}}\\end{matrix}\\right]$"
      ],
      "text/plain": [
       "Matrix([\n",
       "[            S_0*phi_1*w],\n",
       "[                      0],\n",
       "[                      0],\n",
       "[-phi_1*w*conjugate(S_0)]])"
      ]
     },
     "execution_count": 78,
     "metadata": {},
     "output_type": "execute_result"
    }
   ],
   "source": [
    "P_p*w*phi_1*S"
   ]
  },
  {
   "attachments": {},
   "cell_type": "markdown",
   "metadata": {},
   "source": [
    "$$P_{+}( \\omega\\phi_{1}\\eta) => \\omega\\phi_{1}S_{0}?$$"
   ]
  },
  {
   "cell_type": "code",
   "execution_count": 79,
   "metadata": {},
   "outputs": [
    {
     "data": {
      "text/latex": [
       "$\\displaystyle \\left[\\begin{matrix}- i S_{0} \\phi_{2} w\\\\0\\\\0\\\\- i \\phi_{2} w \\overline{S_{0}}\\end{matrix}\\right]$"
      ],
      "text/plain": [
       "Matrix([\n",
       "[           -I*S_0*phi_2*w],\n",
       "[                        0],\n",
       "[                        0],\n",
       "[-I*phi_2*w*conjugate(S_0)]])"
      ]
     },
     "execution_count": 79,
     "metadata": {},
     "output_type": "execute_result"
    }
   ],
   "source": [
    "P_p*I*w*phi_2*Gamma5*S "
   ]
  },
  {
   "attachments": {},
   "cell_type": "markdown",
   "metadata": {},
   "source": [
    "$$P_{+}(i\\omega\\phi_{2}\\Gamma_{*}\\eta)=>\\omega\\phi_{2} S_{0}?$$"
   ]
  },
  {
   "attachments": {},
   "cell_type": "markdown",
   "metadata": {},
   "source": [
    "$$=>P_{+}(\\Gamma^{i}\\partial_{i}\\phi_{1}\\epsilon+i\\Gamma_{*}\\Gamma^{i}\\partial_{i}\\phi_{2}\\epsilon) $$"
   ]
  },
  {
   "attachments": {},
   "cell_type": "markdown",
   "metadata": {},
   "source": [
    "$P_{+}(\\Gamma^{i}\\partial_{i}\\phi_{1}\\epsilon)$ part"
   ]
  },
  {
   "cell_type": "code",
   "execution_count": 80,
   "metadata": {},
   "outputs": [
    {
     "data": {
      "text/latex": [
       "$\\displaystyle \\left[\\begin{matrix}2 \\phi_{1} \\overline{\\epsilon_{1}} \\partial_{0, 0}\\\\- 2 \\epsilon_{1} \\phi_{1} \\partial_{0, 0}\\end{matrix}\\right]$"
      ],
      "text/plain": [
       "Matrix([\n",
       "[2*phi_1*conjugate(epsilon_1)*\\partial[0, 0]],\n",
       "[          -2*epsilon_1*phi_1*\\partial[0, 0]]])"
      ]
     },
     "metadata": {},
     "output_type": "display_data"
    },
    {
     "data": {
      "text/latex": [
       "$\\displaystyle \\left[\\begin{matrix}- \\phi_{1} \\overline{\\epsilon_{0}} \\partial_{1, 0}\\\\\\epsilon_{0} \\phi_{1} \\partial_{1, 0}\\end{matrix}\\right]$"
      ],
      "text/plain": [
       "Matrix([\n",
       "[-phi_1*conjugate(epsilon_0)*\\partial[1, 0]],\n",
       "[            epsilon_0*phi_1*\\partial[1, 0]]])"
      ]
     },
     "metadata": {},
     "output_type": "display_data"
    },
    {
     "data": {
      "text/latex": [
       "$\\displaystyle \\left[\\begin{matrix}i \\phi_{1} \\overline{\\epsilon_{0}} \\partial_{2, 0}\\\\i \\epsilon_{0} \\phi_{1} \\partial_{2, 0}\\end{matrix}\\right]$"
      ],
      "text/plain": [
       "Matrix([\n",
       "[I*phi_1*conjugate(epsilon_0)*\\partial[2, 0]],\n",
       "[           I*epsilon_0*phi_1*\\partial[2, 0]]])"
      ]
     },
     "metadata": {},
     "output_type": "display_data"
    },
    {
     "data": {
      "text/latex": [
       "$\\displaystyle \\left[\\begin{matrix}0\\\\0\\end{matrix}\\right]$"
      ],
      "text/plain": [
       "Matrix([\n",
       "[0],\n",
       "[0]])"
      ]
     },
     "metadata": {},
     "output_type": "display_data"
    }
   ],
   "source": [
    "for i in range(4):\n",
    "    display(Parser(P_p*Gamma[i]*del_[i]*phi_1*e))"
   ]
  },
  {
   "attachments": {},
   "cell_type": "markdown",
   "metadata": {},
   "source": [
    "Chacking"
   ]
  },
  {
   "cell_type": "code",
   "execution_count": 81,
   "metadata": {},
   "outputs": [
    {
     "data": {
      "text/latex": [
       "$\\displaystyle \\left[\\begin{matrix}i \\overline{\\epsilon_{1}}\\\\i \\epsilon_{1}\\end{matrix}\\right]$"
      ],
      "text/plain": [
       "Matrix([\n",
       "[I*conjugate(epsilon_1)],\n",
       "[           I*epsilon_1]])"
      ]
     },
     "metadata": {},
     "output_type": "display_data"
    },
    {
     "data": {
      "text/latex": [
       "$\\displaystyle \\left[\\begin{matrix}- \\overline{\\epsilon_{1}}\\\\\\epsilon_{1}\\end{matrix}\\right]$"
      ],
      "text/plain": [
       "Matrix([\n",
       "[-conjugate(epsilon_1)],\n",
       "[            epsilon_1]])"
      ]
     },
     "metadata": {},
     "output_type": "display_data"
    }
   ],
   "source": [
    "display(e_m)\n",
    "display(gamma[0]*e_m)"
   ]
  },
  {
   "cell_type": "code",
   "execution_count": 82,
   "metadata": {},
   "outputs": [
    {
     "data": {
      "text/latex": [
       "$\\displaystyle \\left[\\begin{matrix}\\epsilon_{0}\\\\- \\overline{\\epsilon_{0}}\\end{matrix}\\right]$"
      ],
      "text/plain": [
       "Matrix([\n",
       "[            epsilon_0],\n",
       "[-conjugate(epsilon_0)]])"
      ]
     },
     "execution_count": 82,
     "metadata": {},
     "output_type": "execute_result"
    }
   ],
   "source": [
    "e_p"
   ]
  },
  {
   "cell_type": "code",
   "execution_count": 84,
   "metadata": {},
   "outputs": [
    {
     "data": {
      "text/latex": [
       "$\\displaystyle \\left[\\begin{matrix}- \\overline{\\epsilon_{0}}\\\\\\epsilon_{0}\\end{matrix}\\right]$"
      ],
      "text/plain": [
       "Matrix([\n",
       "[-conjugate(epsilon_0)],\n",
       "[            epsilon_0]])"
      ]
     },
     "metadata": {},
     "output_type": "display_data"
    },
    {
     "data": {
      "text/latex": [
       "$\\displaystyle \\left[\\begin{matrix}i \\overline{\\epsilon_{0}}\\\\i \\epsilon_{0}\\end{matrix}\\right]$"
      ],
      "text/plain": [
       "Matrix([\n",
       "[I*conjugate(epsilon_0)],\n",
       "[           I*epsilon_0]])"
      ]
     },
     "metadata": {},
     "output_type": "display_data"
    }
   ],
   "source": [
    "display(gamma[1]*e_p)\n",
    "display(gamma[2]*e_p)"
   ]
  },
  {
   "attachments": {},
   "cell_type": "markdown",
   "metadata": {},
   "source": [
    "$P_{+}(\\Gamma^{i}\\partial_{i}\\phi_{1}\\epsilon) => -2\\gamma_{0}*\\partial_{+} \\phi_{1} \\epsilon_{-} + \\gamma^{a}\\partial_{a}\\phi_{1}\\epsilon_{+} $"
   ]
  },
  {
   "attachments": {},
   "cell_type": "markdown",
   "metadata": {},
   "source": [
    "$P_{+}(i\\Gamma_{*}\\Gamma^{i}\\partial_{i}\\phi_{2}\\epsilon)$ part"
   ]
  },
  {
   "cell_type": "code",
   "execution_count": 85,
   "metadata": {},
   "outputs": [
    {
     "data": {
      "text/latex": [
       "$\\displaystyle \\left[\\begin{matrix}- 2 i \\phi_{2} \\overline{\\epsilon_{1}} \\partial_{0, 0}\\\\- 2 i \\epsilon_{1} \\phi_{2} \\partial_{0, 0}\\end{matrix}\\right]$"
      ],
      "text/plain": [
       "Matrix([\n",
       "[-2*I*phi_2*conjugate(epsilon_1)*\\partial[0, 0]],\n",
       "[           -2*I*epsilon_1*phi_2*\\partial[0, 0]]])"
      ]
     },
     "metadata": {},
     "output_type": "display_data"
    },
    {
     "data": {
      "text/latex": [
       "$\\displaystyle \\left[\\begin{matrix}i \\phi_{2} \\overline{\\epsilon_{0}} \\partial_{1, 0}\\\\i \\epsilon_{0} \\phi_{2} \\partial_{1, 0}\\end{matrix}\\right]$"
      ],
      "text/plain": [
       "Matrix([\n",
       "[I*phi_2*conjugate(epsilon_0)*\\partial[1, 0]],\n",
       "[           I*epsilon_0*phi_2*\\partial[1, 0]]])"
      ]
     },
     "metadata": {},
     "output_type": "display_data"
    },
    {
     "data": {
      "text/latex": [
       "$\\displaystyle \\left[\\begin{matrix}\\phi_{2} \\overline{\\epsilon_{0}} \\partial_{2, 0}\\\\- \\epsilon_{0} \\phi_{2} \\partial_{2, 0}\\end{matrix}\\right]$"
      ],
      "text/plain": [
       "Matrix([\n",
       "[phi_2*conjugate(epsilon_0)*\\partial[2, 0]],\n",
       "[          -epsilon_0*phi_2*\\partial[2, 0]]])"
      ]
     },
     "metadata": {},
     "output_type": "display_data"
    },
    {
     "data": {
      "text/latex": [
       "$\\displaystyle \\left[\\begin{matrix}0\\\\0\\end{matrix}\\right]$"
      ],
      "text/plain": [
       "Matrix([\n",
       "[0],\n",
       "[0]])"
      ]
     },
     "metadata": {},
     "output_type": "display_data"
    }
   ],
   "source": [
    "for i in range(4):\n",
    "    display(Parser(I*P_p*Gamma5*Gamma[i]*del_[i]*phi_2*e))"
   ]
  },
  {
   "cell_type": "code",
   "execution_count": 86,
   "metadata": {},
   "outputs": [
    {
     "data": {
      "text/latex": [
       "$\\displaystyle \\left[\\begin{matrix}i \\overline{\\epsilon_{1}}\\\\i \\epsilon_{1}\\end{matrix}\\right]$"
      ],
      "text/plain": [
       "Matrix([\n",
       "[I*conjugate(epsilon_1)],\n",
       "[           I*epsilon_1]])"
      ]
     },
     "execution_count": 86,
     "metadata": {},
     "output_type": "execute_result"
    }
   ],
   "source": [
    "e_m"
   ]
  },
  {
   "cell_type": "code",
   "execution_count": 87,
   "metadata": {},
   "outputs": [
    {
     "data": {
      "text/plain": [
       "[Matrix([\n",
       " [I,  0],\n",
       " [0, -I]]),\n",
       " Matrix([\n",
       " [0, 1],\n",
       " [1, 0]]),\n",
       " Matrix([\n",
       " [0, -I],\n",
       " [I,  0]])]"
      ]
     },
     "metadata": {},
     "output_type": "display_data"
    }
   ],
   "source": [
    "display(gamma)"
   ]
  },
  {
   "cell_type": "code",
   "execution_count": 89,
   "metadata": {},
   "outputs": [
    {
     "data": {
      "text/latex": [
       "$\\displaystyle \\left[\\begin{matrix}- \\overline{\\epsilon_{0}}\\\\\\epsilon_{0}\\end{matrix}\\right]$"
      ],
      "text/plain": [
       "Matrix([\n",
       "[-conjugate(epsilon_0)],\n",
       "[            epsilon_0]])"
      ]
     },
     "execution_count": 89,
     "metadata": {},
     "output_type": "execute_result"
    }
   ],
   "source": [
    "gamma[1]*e_p"
   ]
  },
  {
   "cell_type": "code",
   "execution_count": 90,
   "metadata": {},
   "outputs": [
    {
     "data": {
      "text/latex": [
       "$\\displaystyle \\left[\\begin{matrix}i \\overline{\\epsilon_{0}}\\\\i \\epsilon_{0}\\end{matrix}\\right]$"
      ],
      "text/plain": [
       "Matrix([\n",
       "[I*conjugate(epsilon_0)],\n",
       "[           I*epsilon_0]])"
      ]
     },
     "execution_count": 90,
     "metadata": {},
     "output_type": "execute_result"
    }
   ],
   "source": [
    "gamma[2]*e_p"
   ]
  },
  {
   "attachments": {},
   "cell_type": "markdown",
   "metadata": {},
   "source": [
    "$P_{+}(i\\Gamma_{*}\\Gamma^{i}\\partial_{i}\\phi_{2}\\epsilon)=>-2\\partial_{+}\\phi_{2}\\epsilon_{-}+\\gamma_{2}\\epsilon_{+}\\partial_{1}\\phi_{2}-\\gamma_{1}\\epsilon_{+}\\partial_{2}\\phi_{2}$"
   ]
  },
  {
   "attachments": {},
   "cell_type": "markdown",
   "metadata": {},
   "source": [
    "## $$\\delta \\chi=\\Gamma^{i}\\partial_{i}\\phi_{1}\\epsilon+i\\Gamma_{*}\\Gamma^{i}\\partial_{i}\\phi_{2}\\epsilon +S_{1}\\epsilon +i\\Gamma_{*}S_{2}\\epsilon + \\omega\\phi_{1}\\eta +i\\omega\\phi_{2}\\Gamma_{*}\\eta$$ ##"
   ]
  },
  {
   "attachments": {},
   "cell_type": "markdown",
   "metadata": {},
   "source": [
    "$$\\delta \\chi_{-} =i\\gamma_{1}P_{-}\\delta\\chi$$\n",
    " $$i\\gamma_{1}P_{-}(S_{1}\\epsilon +i\\Gamma_{*}S_{2}\\epsilon + \\omega\\phi_{1}\\eta +i\\omega\\phi_{2}\\Gamma_{*}\\eta)$$ "
   ]
  },
  {
   "attachments": {},
   "cell_type": "markdown",
   "metadata": {},
   "source": [
    "$=> +S_{1}\\epsilon +i\\Gamma_{*}S_{2}\\epsilon + \\omega\\phi_{1}\\eta +i\\omega\\phi_{2}\\Gamma_{*}\\eta$ part"
   ]
  },
  {
   "cell_type": "code",
   "execution_count": 91,
   "metadata": {},
   "outputs": [
    {
     "data": {
      "text/latex": [
       "$\\displaystyle \\left[\\begin{matrix}i F_{1} \\overline{\\epsilon_{1}}\\\\i F_{1} \\epsilon_{1}\\end{matrix}\\right]$"
      ],
      "text/plain": [
       "Matrix([\n",
       "[I*F_1*conjugate(epsilon_1)],\n",
       "[           I*F_1*epsilon_1]])"
      ]
     },
     "metadata": {},
     "output_type": "display_data"
    }
   ],
   "source": [
    "display(I*gamma[1]*Parser(P_m*S_1*e))"
   ]
  },
  {
   "attachments": {},
   "cell_type": "markdown",
   "metadata": {},
   "source": [
    "$i\\gamma_{1}*P_{-}S_{1}\\epsilon => S_{1}\\epsilon_{-}$"
   ]
  },
  {
   "cell_type": "code",
   "execution_count": 93,
   "metadata": {},
   "outputs": [
    {
     "data": {
      "text/latex": [
       "$\\displaystyle \\left[\\begin{matrix}- F_{2} \\overline{\\epsilon_{1}}\\\\F_{2} \\epsilon_{1}\\end{matrix}\\right]$"
      ],
      "text/plain": [
       "Matrix([\n",
       "[-F_2*conjugate(epsilon_1)],\n",
       "[            F_2*epsilon_1]])"
      ]
     },
     "metadata": {},
     "output_type": "display_data"
    }
   ],
   "source": [
    "display(I*gamma[1]*Parser(P_m*I*Gamma5*S_2*e))"
   ]
  },
  {
   "cell_type": "code",
   "execution_count": null,
   "metadata": {},
   "outputs": [],
   "source": [
    "S_2*gamma0*e_m"
   ]
  },
  {
   "attachments": {},
   "cell_type": "markdown",
   "metadata": {},
   "source": [
    "$ i\\gamma_{1}*P_{-} i\\Gamma_{*}S_{2}\\epsilon=> \\gamma_{0}*F_{2}*\\epsilon_{-}$"
   ]
  },
  {
   "cell_type": "code",
   "execution_count": 94,
   "metadata": {},
   "outputs": [
    {
     "data": {
      "text/latex": [
       "$\\displaystyle \\left[\\begin{matrix}i \\phi_{1} w \\overline{S_{1}}\\\\i S_{1} \\phi_{1} w\\end{matrix}\\right]$"
      ],
      "text/plain": [
       "Matrix([\n",
       "[I*phi_1*w*conjugate(S_1)],\n",
       "[           I*S_1*phi_1*w]])"
      ]
     },
     "metadata": {},
     "output_type": "display_data"
    }
   ],
   "source": [
    "display(I*gamma[1]*Parser(P_m*w*phi_1*S))"
   ]
  },
  {
   "attachments": {},
   "cell_type": "markdown",
   "metadata": {},
   "source": [
    "$i\\gamma_{1}P_{-}\\omega\\phi_{1}\\eta=> \\omega S_{1}???$"
   ]
  },
  {
   "attachments": {},
   "cell_type": "markdown",
   "metadata": {},
   "source": [
    "$(\\Gamma^{i}\\partial_{i}\\phi_{1}\\epsilon+i\\Gamma_{*}\\Gamma^{i}\\partial_{i}\\phi_{2}\\epsilon) $ Part"
   ]
  },
  {
   "attachments": {},
   "cell_type": "markdown",
   "metadata": {},
   "source": [
    "$i\\gamma_{1}P_{-}(\\Gamma^{i}\\partial_{i}\\phi_{1}\\epsilon)$"
   ]
  },
  {
   "cell_type": "code",
   "execution_count": 95,
   "metadata": {},
   "outputs": [
    {
     "data": {
      "text/latex": [
       "$\\displaystyle \\left[\\begin{matrix}0\\\\0\\end{matrix}\\right]$"
      ],
      "text/plain": [
       "Matrix([\n",
       "[0],\n",
       "[0]])"
      ]
     },
     "metadata": {},
     "output_type": "display_data"
    },
    {
     "data": {
      "text/latex": [
       "$\\displaystyle \\left[\\begin{matrix}i \\epsilon_{1} \\phi_{1} \\partial_{1, 0}\\\\i \\phi_{1} \\overline{\\epsilon_{1}} \\partial_{1, 0}\\end{matrix}\\right]$"
      ],
      "text/plain": [
       "Matrix([\n",
       "[           I*epsilon_1*phi_1*\\partial[1, 0]],\n",
       "[I*phi_1*conjugate(epsilon_1)*\\partial[1, 0]]])"
      ]
     },
     "metadata": {},
     "output_type": "display_data"
    },
    {
     "data": {
      "text/latex": [
       "$\\displaystyle \\left[\\begin{matrix}\\epsilon_{1} \\phi_{1} \\partial_{2, 0}\\\\- \\phi_{1} \\overline{\\epsilon_{1}} \\partial_{2, 0}\\end{matrix}\\right]$"
      ],
      "text/plain": [
       "Matrix([\n",
       "[            epsilon_1*phi_1*\\partial[2, 0]],\n",
       "[-phi_1*conjugate(epsilon_1)*\\partial[2, 0]]])"
      ]
     },
     "metadata": {},
     "output_type": "display_data"
    },
    {
     "data": {
      "text/latex": [
       "$\\displaystyle \\left[\\begin{matrix}- 2 i \\epsilon_{0} \\phi_{1} \\partial_{3, 0}\\\\- 2 i \\phi_{1} \\overline{\\epsilon_{0}} \\partial_{3, 0}\\end{matrix}\\right]$"
      ],
      "text/plain": [
       "Matrix([\n",
       "[           -2*I*epsilon_0*phi_1*\\partial[3, 0]],\n",
       "[-2*I*phi_1*conjugate(epsilon_0)*\\partial[3, 0]]])"
      ]
     },
     "metadata": {},
     "output_type": "display_data"
    }
   ],
   "source": [
    "for i in range(4):\n",
    "    display(I*gamma[1]*Parser(P_m*Gamma[i]*del_[i]*phi_1*e))"
   ]
  },
  {
   "cell_type": "code",
   "execution_count": 96,
   "metadata": {},
   "outputs": [
    {
     "data": {
      "text/latex": [
       "$\\displaystyle \\left[\\begin{matrix}\\epsilon_{1}\\\\- \\overline{\\epsilon_{1}}\\end{matrix}\\right]$"
      ],
      "text/plain": [
       "Matrix([\n",
       "[            epsilon_1],\n",
       "[-conjugate(epsilon_1)]])"
      ]
     },
     "execution_count": 96,
     "metadata": {},
     "output_type": "execute_result"
    }
   ],
   "source": [
    "gamma[2]*e_m"
   ]
  },
  {
   "cell_type": "code",
   "execution_count": 97,
   "metadata": {},
   "outputs": [
    {
     "data": {
      "text/latex": [
       "$\\displaystyle \\left[\\begin{matrix}i \\epsilon_{1}\\\\i \\overline{\\epsilon_{1}}\\end{matrix}\\right]$"
      ],
      "text/plain": [
       "Matrix([\n",
       "[           I*epsilon_1],\n",
       "[I*conjugate(epsilon_1)]])"
      ]
     },
     "execution_count": 97,
     "metadata": {},
     "output_type": "execute_result"
    }
   ],
   "source": [
    "gamma[1]*e_m"
   ]
  },
  {
   "cell_type": "code",
   "execution_count": 98,
   "metadata": {},
   "outputs": [
    {
     "data": {
      "text/latex": [
       "$\\displaystyle \\left[\\begin{matrix}i \\epsilon_{0}\\\\i \\overline{\\epsilon_{0}}\\end{matrix}\\right]$"
      ],
      "text/plain": [
       "Matrix([\n",
       "[           I*epsilon_0],\n",
       "[I*conjugate(epsilon_0)]])"
      ]
     },
     "execution_count": 98,
     "metadata": {},
     "output_type": "execute_result"
    }
   ],
   "source": [
    "gamma[0]*e_p"
   ]
  },
  {
   "attachments": {},
   "cell_type": "markdown",
   "metadata": {},
   "source": [
    "$i\\gamma_{1}P_{-}(\\Gamma^{i}\\partial_{i}\\phi_{1}\\epsilon)=>0+i\\gamma_{1}\\partial_{1}\\phi_{1}\\epsilon_{-}+\\partial_{2}\\phi_{1}\\epsilon_{-}-2\\gamma_{0}\\phi_{1}\\epsilon_{+}$"
   ]
  },
  {
   "attachments": {},
   "cell_type": "markdown",
   "metadata": {},
   "source": [
    "$i\\gamma_{1}P_{-}(i\\Gamma_{*}\\Gamma^{i}\\partial_{i}\\phi_{2}\\epsilon)$"
   ]
  },
  {
   "cell_type": "code",
   "execution_count": 99,
   "metadata": {},
   "outputs": [
    {
     "data": {
      "text/latex": [
       "$\\displaystyle \\left[\\begin{matrix}0\\\\0\\end{matrix}\\right]$"
      ],
      "text/plain": [
       "Matrix([\n",
       "[0],\n",
       "[0]])"
      ]
     },
     "metadata": {},
     "output_type": "display_data"
    },
    {
     "data": {
      "text/latex": [
       "$\\displaystyle \\left[\\begin{matrix}- \\epsilon_{1} \\phi_{2} \\partial_{1, 0}\\\\\\phi_{2} \\overline{\\epsilon_{1}} \\partial_{1, 0}\\end{matrix}\\right]$"
      ],
      "text/plain": [
       "Matrix([\n",
       "[          -epsilon_1*phi_2*\\partial[1, 0]],\n",
       "[phi_2*conjugate(epsilon_1)*\\partial[1, 0]]])"
      ]
     },
     "metadata": {},
     "output_type": "display_data"
    },
    {
     "data": {
      "text/latex": [
       "$\\displaystyle \\left[\\begin{matrix}i \\epsilon_{1} \\phi_{2} \\partial_{2, 0}\\\\i \\phi_{2} \\overline{\\epsilon_{1}} \\partial_{2, 0}\\end{matrix}\\right]$"
      ],
      "text/plain": [
       "Matrix([\n",
       "[           I*epsilon_1*phi_2*\\partial[2, 0]],\n",
       "[I*phi_2*conjugate(epsilon_1)*\\partial[2, 0]]])"
      ]
     },
     "metadata": {},
     "output_type": "display_data"
    },
    {
     "data": {
      "text/latex": [
       "$\\displaystyle \\left[\\begin{matrix}2 \\epsilon_{0} \\phi_{2} \\partial_{3, 0}\\\\- 2 \\phi_{2} \\overline{\\epsilon_{0}} \\partial_{3, 0}\\end{matrix}\\right]$"
      ],
      "text/plain": [
       "Matrix([\n",
       "[            2*epsilon_0*phi_2*\\partial[3, 0]],\n",
       "[-2*phi_2*conjugate(epsilon_0)*\\partial[3, 0]]])"
      ]
     },
     "metadata": {},
     "output_type": "display_data"
    }
   ],
   "source": [
    "for i in range(4):\n",
    "    display(I*gamma[1]*Parser(I*P_m*Gamma5*Gamma[i]*del_[i]*phi_2*e))"
   ]
  },
  {
   "cell_type": "code",
   "execution_count": 102,
   "metadata": {},
   "outputs": [
    {
     "data": {
      "text/latex": [
       "$\\displaystyle \\left[\\begin{matrix}\\epsilon_{1}\\\\- \\overline{\\epsilon_{1}}\\end{matrix}\\right]$"
      ],
      "text/plain": [
       "Matrix([\n",
       "[            epsilon_1],\n",
       "[-conjugate(epsilon_1)]])"
      ]
     },
     "execution_count": 102,
     "metadata": {},
     "output_type": "execute_result"
    }
   ],
   "source": [
    "Gamma_ij(gamma[1],gamma[0])*e_m"
   ]
  },
  {
   "cell_type": "code",
   "execution_count": 104,
   "metadata": {},
   "outputs": [
    {
     "data": {
      "text/latex": [
       "$\\displaystyle \\left[\\begin{matrix}- i \\epsilon_{1}\\\\- i \\overline{\\epsilon_{1}}\\end{matrix}\\right]$"
      ],
      "text/plain": [
       "Matrix([\n",
       "[           -I*epsilon_1],\n",
       "[-I*conjugate(epsilon_1)]])"
      ]
     },
     "execution_count": 104,
     "metadata": {},
     "output_type": "execute_result"
    }
   ],
   "source": [
    "Gamma_ij(gamma[2],gamma[0])*e_m"
   ]
  },
  {
   "attachments": {},
   "cell_type": "markdown",
   "metadata": {},
   "source": [
    "$i\\gamma_{1}P_{-}(i\\Gamma_{*}\\Gamma^{i}\\partial_{i}\\phi_{2}\\epsilon)=>0-\\gamma_{i0}\\partial_{i}\\phi_{2}\\epsilon_{-}+\\partial_{-}\\phi_{2}\\epsilon_{+}$"
   ]
  },
  {
   "attachments": {},
   "cell_type": "markdown",
   "metadata": {},
   "source": [
    "# $\\delta S_{1}=\\bar{\\epsilon}\\Gamma^{\\mu}\\partial_{\\mu}\\chi +(1-\\omega)\\bar{\\eta}\\chi$ #"
   ]
  },
  {
   "attachments": {},
   "cell_type": "markdown",
   "metadata": {},
   "source": [
    "$ \\bar{\\epsilon}\\Gamma^{\\mu}\\partial_{\\mu}\\chi $ part"
   ]
  },
  {
   "cell_type": "code",
   "execution_count": 105,
   "metadata": {},
   "outputs": [
    {
     "data": {
      "text/latex": [
       "$\\displaystyle \\left[\\begin{matrix}- 2 i \\chi_{1} \\overline{\\epsilon_{1}} \\partial_{0, 0} - 2 i \\epsilon_{1} \\overline{\\chi_{1}} \\partial_{0, 0}\\end{matrix}\\right]$"
      ],
      "text/plain": [
       "Matrix([[-2*I*chi_1*conjugate(epsilon_1)*\\partial[0, 0] - 2*I*epsilon_1*conjugate(chi_1)*\\partial[0, 0]]])"
      ]
     },
     "metadata": {},
     "output_type": "display_data"
    },
    {
     "data": {
      "text/latex": [
       "$\\displaystyle \\left[\\begin{matrix}i \\chi_{0} \\overline{\\epsilon_{1}} \\partial_{1, 0} + i \\chi_{1} \\overline{\\epsilon_{0}} \\partial_{1, 0} + i \\epsilon_{0} \\overline{\\chi_{1}} \\partial_{1, 0} + i \\epsilon_{1} \\overline{\\chi_{0}} \\partial_{1, 0}\\end{matrix}\\right]$"
      ],
      "text/plain": [
       "Matrix([[I*chi_0*conjugate(epsilon_1)*\\partial[1, 0] + I*chi_1*conjugate(epsilon_0)*\\partial[1, 0] + I*epsilon_0*conjugate(chi_1)*\\partial[1, 0] + I*epsilon_1*conjugate(chi_0)*\\partial[1, 0]]])"
      ]
     },
     "metadata": {},
     "output_type": "display_data"
    },
    {
     "data": {
      "text/latex": [
       "$\\displaystyle \\left[\\begin{matrix}- \\chi_{0} \\overline{\\epsilon_{1}} \\partial_{2, 0} + \\chi_{1} \\overline{\\epsilon_{0}} \\partial_{2, 0} - \\epsilon_{0} \\overline{\\chi_{1}} \\partial_{2, 0} + \\epsilon_{1} \\overline{\\chi_{0}} \\partial_{2, 0}\\end{matrix}\\right]$"
      ],
      "text/plain": [
       "Matrix([[-chi_0*conjugate(epsilon_1)*\\partial[2, 0] + chi_1*conjugate(epsilon_0)*\\partial[2, 0] - epsilon_0*conjugate(chi_1)*\\partial[2, 0] + epsilon_1*conjugate(chi_0)*\\partial[2, 0]]])"
      ]
     },
     "metadata": {},
     "output_type": "display_data"
    },
    {
     "data": {
      "text/latex": [
       "$\\displaystyle \\left[\\begin{matrix}- 2 i \\chi_{0} \\overline{\\epsilon_{0}} \\partial_{3, 0} - 2 i \\epsilon_{0} \\overline{\\chi_{0}} \\partial_{3, 0}\\end{matrix}\\right]$"
      ],
      "text/plain": [
       "Matrix([[-2*I*chi_0*conjugate(epsilon_0)*\\partial[3, 0] - 2*I*epsilon_0*conjugate(chi_0)*\\partial[3, 0]]])"
      ]
     },
     "metadata": {},
     "output_type": "display_data"
    }
   ],
   "source": [
    "for i in range(4):\n",
    "    display(Bar_4(e)*Gamma[i]*del_[i]*ch)"
   ]
  },
  {
   "cell_type": "code",
   "execution_count": 107,
   "metadata": {},
   "outputs": [
    {
     "data": {
      "text/latex": [
       "$\\displaystyle \\left[\\begin{matrix}i \\chi_{1} \\overline{\\epsilon_{1}} + i \\epsilon_{1} \\overline{\\chi_{1}}\\end{matrix}\\right]$"
      ],
      "text/plain": [
       "Matrix([[I*chi_1*conjugate(epsilon_1) + I*epsilon_1*conjugate(chi_1)]])"
      ]
     },
     "execution_count": 107,
     "metadata": {},
     "output_type": "execute_result"
    }
   ],
   "source": [
    "Bar_3(e_m)*gamma[0]*(I*gamma[1]*Parser(P_m*ch))"
   ]
  },
  {
   "cell_type": "code",
   "execution_count": 108,
   "metadata": {},
   "outputs": [
    {
     "data": {
      "text/latex": [
       "$\\displaystyle \\left[\\begin{matrix}- \\chi_{0} \\overline{\\epsilon_{1}} + \\epsilon_{1} \\overline{\\chi_{0}}\\end{matrix}\\right]$"
      ],
      "text/plain": [
       "Matrix([[-chi_0*conjugate(epsilon_1) + epsilon_1*conjugate(chi_0)]])"
      ]
     },
     "execution_count": 108,
     "metadata": {},
     "output_type": "execute_result"
    }
   ],
   "source": [
    "Bar_3(e_m)*gamma[2]*(Parser(P_p*ch))"
   ]
  },
  {
   "cell_type": "code",
   "execution_count": 109,
   "metadata": {},
   "outputs": [
    {
     "data": {
      "text/latex": [
       "$\\displaystyle \\left[\\begin{matrix}\\chi_{1} \\overline{\\epsilon_{0}} - \\epsilon_{0} \\overline{\\chi_{1}}\\end{matrix}\\right]$"
      ],
      "text/plain": [
       "Matrix([[chi_1*conjugate(epsilon_0) - epsilon_0*conjugate(chi_1)]])"
      ]
     },
     "execution_count": 109,
     "metadata": {},
     "output_type": "execute_result"
    }
   ],
   "source": [
    "Bar_3(e_p)*gamma[2]*(I*gamma[1]*Parser(P_m*ch))"
   ]
  },
  {
   "cell_type": "code",
   "execution_count": 110,
   "metadata": {},
   "outputs": [
    {
     "data": {
      "text/latex": [
       "$\\displaystyle \\left[\\begin{matrix}\\chi_{0} \\overline{\\epsilon_{0}} - \\epsilon_{0} \\overline{\\chi_{0}}\\end{matrix}\\right]$"
      ],
      "text/plain": [
       "Matrix([[chi_0*conjugate(epsilon_0) - epsilon_0*conjugate(chi_0)]])"
      ]
     },
     "execution_count": 110,
     "metadata": {},
     "output_type": "execute_result"
    }
   ],
   "source": [
    "Bar_3(e_p)*Parser(P_p*ch)"
   ]
  },
  {
   "cell_type": "code",
   "execution_count": 112,
   "metadata": {},
   "outputs": [
    {
     "data": {
      "text/latex": [
       "$\\displaystyle \\left[\\begin{matrix}\\chi_{0} \\epsilon_{0} + \\overline{\\chi_{0}} \\overline{\\epsilon_{0}}\\end{matrix}\\right]$"
      ],
      "text/plain": [
       "Matrix([[chi_0*epsilon_0 + conjugate(chi_0)*conjugate(epsilon_0)]])"
      ]
     },
     "execution_count": 112,
     "metadata": {},
     "output_type": "execute_result"
    }
   ],
   "source": [
    "Bar_3(e_p)*gamma[0]*(I*gamma[1]*Parser(P_p*ch))"
   ]
  },
  {
   "cell_type": "code",
   "execution_count": 113,
   "metadata": {},
   "outputs": [
    {
     "data": {
      "text/latex": [
       "$\\displaystyle \\left[\\begin{matrix}i \\chi_{0} \\overline{\\epsilon_{0}} + i \\epsilon_{0} \\overline{\\chi_{0}}\\end{matrix}\\right]$"
      ],
      "text/plain": [
       "Matrix([[I*chi_0*conjugate(epsilon_0) + I*epsilon_0*conjugate(chi_0)]])"
      ]
     },
     "execution_count": 113,
     "metadata": {},
     "output_type": "execute_result"
    }
   ],
   "source": [
    "Bar_3(e_p)*gamma[0]*Parser(P_p*ch)"
   ]
  },
  {
   "attachments": {},
   "cell_type": "markdown",
   "metadata": {},
   "source": [
    "$\\bar{\\epsilon}\\Gamma^{\\mu}\\partial_{\\mu}\\chi =>\\bar{\\epsilon}_{-}\\gamma_{0}\\partial_{+}\\chi_{-}+ \\bar{\\epsilon}_{+}\\gamma_{i}\\partial_{i}\\chi_{-}+ \\bar{\\epsilon}_{-}\\gamma_{i}\\partial_{i}\\chi_{+}-\\bar{\\epsilon}_{+}\\partial_{-}\\chi_{+}$"
   ]
  },
  {
   "cell_type": "code",
   "execution_count": 114,
   "metadata": {},
   "outputs": [
    {
     "data": {
      "text/latex": [
       "$\\displaystyle \\left[\\begin{matrix}i S_{0} \\chi_{1} - i S_{1} \\chi_{0} + i \\overline{S_{0}} \\overline{\\chi_{1}} - i \\overline{S_{1}} \\overline{\\chi_{0}}\\end{matrix}\\right]$"
      ],
      "text/plain": [
       "Matrix([[I*S_0*chi_1 - I*S_1*chi_0 + I*conjugate(S_0)*conjugate(chi_1) - I*conjugate(S_1)*conjugate(chi_0)]])"
      ]
     },
     "execution_count": 114,
     "metadata": {},
     "output_type": "execute_result"
    }
   ],
   "source": [
    "Bar_4(S)*ch"
   ]
  },
  {
   "cell_type": "code",
   "execution_count": 115,
   "metadata": {},
   "outputs": [
    {
     "data": {
      "text/latex": [
       "$\\displaystyle \\left[\\begin{matrix}i S_{0} \\chi_{1} + i \\overline{S_{0}} \\overline{\\chi_{1}}\\end{matrix}\\right]$"
      ],
      "text/plain": [
       "Matrix([[I*S_0*chi_1 + I*conjugate(S_0)*conjugate(chi_1)]])"
      ]
     },
     "execution_count": 115,
     "metadata": {},
     "output_type": "execute_result"
    }
   ],
   "source": [
    "Bar_3(Parser(P_p*S))*(I*gamma[1]*Parser(P_m*ch))"
   ]
  },
  {
   "cell_type": "code",
   "execution_count": 117,
   "metadata": {},
   "outputs": [
    {
     "data": {
      "text/latex": [
       "$\\displaystyle \\left[\\begin{matrix}\\chi_{0}\\\\- \\overline{\\chi_{0}}\\end{matrix}\\right]$"
      ],
      "text/plain": [
       "Matrix([\n",
       "[            chi_0],\n",
       "[-conjugate(chi_0)]])"
      ]
     },
     "metadata": {},
     "output_type": "display_data"
    },
    {
     "data": {
      "text/latex": [
       "$\\displaystyle \\left[\\begin{matrix}i \\overline{\\chi_{1}}\\\\i \\chi_{1}\\end{matrix}\\right]$"
      ],
      "text/plain": [
       "Matrix([\n",
       "[I*conjugate(chi_1)],\n",
       "[           I*chi_1]])"
      ]
     },
     "metadata": {},
     "output_type": "display_data"
    }
   ],
   "source": [
    "ch_p=Parser(P_p*ch)\n",
    "display(ch_p)\n",
    "ch_m=I*gamma[1]*Parser(P_m*ch)\n",
    "display(ch_m)"
   ]
  },
  {
   "cell_type": "code",
   "execution_count": 118,
   "metadata": {},
   "outputs": [
    {
     "data": {
      "text/latex": [
       "$\\displaystyle \\left[\\begin{matrix}S_{0}\\\\- \\overline{S_{0}}\\end{matrix}\\right]$"
      ],
      "text/plain": [
       "Matrix([\n",
       "[            S_0],\n",
       "[-conjugate(S_0)]])"
      ]
     },
     "metadata": {},
     "output_type": "display_data"
    },
    {
     "data": {
      "text/latex": [
       "$\\displaystyle \\left[\\begin{matrix}\\overline{S_{1}}\\\\- S_{1}\\end{matrix}\\right]$"
      ],
      "text/plain": [
       "Matrix([\n",
       "[conjugate(S_1)],\n",
       "[          -S_1]])"
      ]
     },
     "metadata": {},
     "output_type": "display_data"
    }
   ],
   "source": [
    "S_p=Parser(P_p*S)\n",
    "display(S_p)\n",
    "S_m=I*gamma[2]*Parser(P_m*S)\n",
    "display(S_m)\n"
   ]
  },
  {
   "cell_type": "code",
   "execution_count": 119,
   "metadata": {},
   "outputs": [
    {
     "data": {
      "text/latex": [
       "$\\displaystyle \\left[\\begin{matrix}i S_{1} \\overline{\\chi_{0}} + i \\chi_{0} \\overline{S_{1}}\\end{matrix}\\right]$"
      ],
      "text/plain": [
       "Matrix([[I*S_1*conjugate(chi_0) + I*chi_0*conjugate(S_1)]])"
      ]
     },
     "execution_count": 119,
     "metadata": {},
     "output_type": "execute_result"
    }
   ],
   "source": [
    "Bar_3(S_m)*gamma[2]*ch_p"
   ]
  },
  {
   "cell_type": "code",
   "execution_count": 120,
   "metadata": {},
   "outputs": [
    {
     "data": {
      "text/latex": [
       "$\\displaystyle \\left[\\begin{matrix}i S_{0} \\chi_{1} + i \\overline{S_{0}} \\overline{\\chi_{1}}\\end{matrix}\\right]$"
      ],
      "text/plain": [
       "Matrix([[I*S_0*chi_1 + I*conjugate(S_0)*conjugate(chi_1)]])"
      ]
     },
     "execution_count": 120,
     "metadata": {},
     "output_type": "execute_result"
    }
   ],
   "source": [
    "Bar_3(S_p)*ch_m"
   ]
  },
  {
   "attachments": {},
   "cell_type": "markdown",
   "metadata": {},
   "source": [
    "$(1-\\omega)\\bar{\\eta}\\chi=>\\bar{\\eta}_{+}\\chi_{-} -\\bar{\\eta}_{-}\\gamma_{2}\\chi_{+}$"
   ]
  },
  {
   "attachments": {},
   "cell_type": "markdown",
   "metadata": {},
   "source": [
    "## $\\delta S_{2}=i\\bar{\\epsilon}\\Gamma_{i}\\partial_{i}\\Gamma_{*}\\chi -i(1-\\omega)\\bar{\\eta}\\Gamma_{*}\\chi$ ##"
   ]
  },
  {
   "attachments": {},
   "cell_type": "markdown",
   "metadata": {},
   "source": [
    "$i\\bar{\\epsilon}\\Gamma_{i}\\partial_{i}\\Gamma_{*}\\chi$ part"
   ]
  },
  {
   "cell_type": "code",
   "execution_count": 121,
   "metadata": {},
   "outputs": [
    {
     "data": {
      "text/latex": [
       "$\\displaystyle \\left[\\begin{matrix}- 2 \\chi_{1} \\overline{\\epsilon_{1}} \\partial_{0, 0} + 2 \\epsilon_{1} \\overline{\\chi_{1}} \\partial_{0, 0}\\end{matrix}\\right]$"
      ],
      "text/plain": [
       "Matrix([[-2*chi_1*conjugate(epsilon_1)*\\partial[0, 0] + 2*epsilon_1*conjugate(chi_1)*\\partial[0, 0]]])"
      ]
     },
     "metadata": {},
     "output_type": "display_data"
    },
    {
     "data": {
      "text/latex": [
       "$\\displaystyle \\left[\\begin{matrix}\\chi_{0} \\overline{\\epsilon_{1}} \\partial_{1, 0} + \\chi_{1} \\overline{\\epsilon_{0}} \\partial_{1, 0} - \\epsilon_{0} \\overline{\\chi_{1}} \\partial_{1, 0} - \\epsilon_{1} \\overline{\\chi_{0}} \\partial_{1, 0}\\end{matrix}\\right]$"
      ],
      "text/plain": [
       "Matrix([[chi_0*conjugate(epsilon_1)*\\partial[1, 0] + chi_1*conjugate(epsilon_0)*\\partial[1, 0] - epsilon_0*conjugate(chi_1)*\\partial[1, 0] - epsilon_1*conjugate(chi_0)*\\partial[1, 0]]])"
      ]
     },
     "metadata": {},
     "output_type": "display_data"
    },
    {
     "data": {
      "text/latex": [
       "$\\displaystyle \\left[\\begin{matrix}i \\chi_{0} \\overline{\\epsilon_{1}} \\partial_{2, 0} - i \\chi_{1} \\overline{\\epsilon_{0}} \\partial_{2, 0} - i \\epsilon_{0} \\overline{\\chi_{1}} \\partial_{2, 0} + i \\epsilon_{1} \\overline{\\chi_{0}} \\partial_{2, 0}\\end{matrix}\\right]$"
      ],
      "text/plain": [
       "Matrix([[I*chi_0*conjugate(epsilon_1)*\\partial[2, 0] - I*chi_1*conjugate(epsilon_0)*\\partial[2, 0] - I*epsilon_0*conjugate(chi_1)*\\partial[2, 0] + I*epsilon_1*conjugate(chi_0)*\\partial[2, 0]]])"
      ]
     },
     "metadata": {},
     "output_type": "display_data"
    },
    {
     "data": {
      "text/latex": [
       "$\\displaystyle \\left[\\begin{matrix}- 2 \\chi_{0} \\overline{\\epsilon_{0}} \\partial_{3, 0} + 2 \\epsilon_{0} \\overline{\\chi_{0}} \\partial_{3, 0}\\end{matrix}\\right]$"
      ],
      "text/plain": [
       "Matrix([[-2*chi_0*conjugate(epsilon_0)*\\partial[3, 0] + 2*epsilon_0*conjugate(chi_0)*\\partial[3, 0]]])"
      ]
     },
     "metadata": {},
     "output_type": "display_data"
    }
   ],
   "source": [
    "for i in range(4):\n",
    "    display(I*Bar_4(e)*Gamma[i]*del_[i]*Gamma5*ch)"
   ]
  },
  {
   "cell_type": "code",
   "execution_count": 122,
   "metadata": {},
   "outputs": [
    {
     "data": {
      "text/latex": [
       "$\\displaystyle \\left[\\begin{matrix}- \\chi_{1} \\overline{\\epsilon_{1}} + \\epsilon_{1} \\overline{\\chi_{1}}\\end{matrix}\\right]$"
      ],
      "text/plain": [
       "Matrix([[-chi_1*conjugate(epsilon_1) + epsilon_1*conjugate(chi_1)]])"
      ]
     },
     "execution_count": 122,
     "metadata": {},
     "output_type": "execute_result"
    }
   ],
   "source": [
    "Bar_3(e_m)*ch_m"
   ]
  },
  {
   "cell_type": "code",
   "execution_count": 124,
   "metadata": {},
   "outputs": [
    {
     "data": {
      "text/latex": [
       "$\\displaystyle \\left[\\begin{matrix}- i \\chi_{0} \\overline{\\epsilon_{1}} - i \\chi_{1} \\overline{\\epsilon_{0}} - i \\epsilon_{0} \\overline{\\chi_{1}} - i \\epsilon_{1} \\overline{\\chi_{0}}\\end{matrix}\\right]$"
      ],
      "text/plain": [
       "Matrix([[-I*chi_0*conjugate(epsilon_1) - I*chi_1*conjugate(epsilon_0) - I*epsilon_0*conjugate(chi_1) - I*epsilon_1*conjugate(chi_0)]])"
      ]
     },
     "execution_count": 124,
     "metadata": {},
     "output_type": "execute_result"
    }
   ],
   "source": [
    "Bar_3(e_m)*Gamma_ij(gamma[2],gamma[0])*ch_p + Bar_3(e_p)*Gamma_ij(gamma[2],gamma[0])*ch_m"
   ]
  },
  {
   "cell_type": "code",
   "execution_count": 125,
   "metadata": {},
   "outputs": [
    {
     "data": {
      "text/latex": [
       "$\\displaystyle \\left[\\begin{matrix}\\chi_{0} \\overline{\\epsilon_{0}} - \\epsilon_{0} \\overline{\\chi_{0}}\\end{matrix}\\right]$"
      ],
      "text/plain": [
       "Matrix([[chi_0*conjugate(epsilon_0) - epsilon_0*conjugate(chi_0)]])"
      ]
     },
     "execution_count": 125,
     "metadata": {},
     "output_type": "execute_result"
    }
   ],
   "source": [
    "Bar_3(e_p)*ch_p"
   ]
  },
  {
   "attachments": {},
   "cell_type": "markdown",
   "metadata": {},
   "source": [
    "$i\\bar{\\epsilon}\\Gamma_{i}\\partial_{i}\\Gamma_{*}\\chi=> -\\bar{\\epsilon}_{-}\\gamma_{i 0}\\partial_{i}\\chi_{+} +\\bar{\\epsilon}_{+}\\gamma_{i 0}\\partial_{i}\\chi_{-} - \\bar{\\epsilon}_{+}\\partial_{-}\\chi_{+}$"
   ]
  },
  {
   "attachments": {},
   "cell_type": "markdown",
   "metadata": {},
   "source": [
    "$i(1-\\omega)\\bar{\\eta}\\Gamma_{*}\\chi$ part"
   ]
  },
  {
   "cell_type": "code",
   "execution_count": 126,
   "metadata": {},
   "outputs": [
    {
     "data": {
      "text/latex": [
       "$\\displaystyle \\left[\\begin{matrix}S_{0} \\chi_{1} - S_{1} \\chi_{0} - \\overline{S_{0}} \\overline{\\chi_{1}} + \\overline{S_{1}} \\overline{\\chi_{0}}\\end{matrix}\\right]$"
      ],
      "text/plain": [
       "Matrix([[S_0*chi_1 - S_1*chi_0 - conjugate(S_0)*conjugate(chi_1) + conjugate(S_1)*conjugate(chi_0)]])"
      ]
     },
     "metadata": {},
     "output_type": "display_data"
    }
   ],
   "source": [
    "display(I*Bar_4(S)*Gamma5*ch)"
   ]
  },
  {
   "cell_type": "code",
   "execution_count": 128,
   "metadata": {},
   "outputs": [
    {
     "data": {
      "text/latex": [
       "$\\displaystyle \\left[\\begin{matrix}S_{0} \\chi_{1} - \\overline{S_{0}} \\overline{\\chi_{1}}\\end{matrix}\\right]$"
      ],
      "text/plain": [
       "Matrix([[S_0*chi_1 - conjugate(S_0)*conjugate(chi_1)]])"
      ]
     },
     "execution_count": 128,
     "metadata": {},
     "output_type": "execute_result"
    }
   ],
   "source": [
    "Bar_3(S_p)*gamma[0]*ch_m"
   ]
  },
  {
   "attachments": {},
   "cell_type": "markdown",
   "metadata": {},
   "source": [
    "$i(1-\\omega)\\bar{\\eta}\\Gamma_{*}\\chi=>-\\bar{\\eta}_{-}\\chi_{+} +\\bar{\\eta}_{+}\\gamma_{0}\\chi_{-}$"
   ]
  }
 ],
 "metadata": {
  "kernelspec": {
   "display_name": "CondaEnv",
   "language": "python",
   "name": "python3"
  },
  "language_info": {
   "codemirror_mode": {
    "name": "ipython",
    "version": 3
   },
   "file_extension": ".py",
   "mimetype": "text/x-python",
   "name": "python",
   "nbconvert_exporter": "python",
   "pygments_lexer": "ipython3",
   "version": "3.10.11"
  },
  "orig_nbformat": 4
 },
 "nbformat": 4,
 "nbformat_minor": 2
}
