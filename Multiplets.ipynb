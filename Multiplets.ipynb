{
 "cells": [
  {
   "cell_type": "code",
   "execution_count": 115,
   "metadata": {},
   "outputs": [
    {
     "name": "stdout",
     "output_type": "stream",
     "text": [
      "Requirement already satisfied: sympy in /Users/uguratli/mambaforge/envs/CondaEnv/lib/python3.9/site-packages (1.12)\n",
      "Requirement already satisfied: mpmath>=0.19 in /Users/uguratli/mambaforge/envs/CondaEnv/lib/python3.9/site-packages (from sympy) (1.3.0)\n",
      "Requirement already satisfied: numpy in /Users/uguratli/mambaforge/envs/CondaEnv/lib/python3.9/site-packages (1.23.2)\n"
     ]
    },
    {
     "data": {
      "image/png": "[encoded data removed]",
      "text/latex": [
       "$\\displaystyle 0$"
      ],
      "text/plain": [
       "0"
      ]
     },
     "execution_count": 115,
     "metadata": {},
     "output_type": "execute_result"
    }
   ],
   "source": [
    "import sys\n",
    "import subprocess\n",
    "\n",
    "subprocess.check_call([sys.executable, '-m', 'pip', 'install', \n",
    "'sympy'])\n",
    "subprocess.check_call([sys.executable, '-m', 'pip', 'install', \n",
    "'numpy'])"
   ]
  },
  {
   "cell_type": "code",
   "execution_count": 116,
   "metadata": {},
   "outputs": [],
   "source": [
    "import sympy as sym\n",
    "import numpy as np\n",
    "import cmath\n",
    "from sympy import I\n",
    "from sympy.physics.quantum import TensorProduct\n",
    "from IPython.display import display"
   ]
  },
  {
   "cell_type": "code",
   "execution_count": 117,
   "metadata": {},
   "outputs": [],
   "source": [
    "#####\n",
    "#Gamma0=sym.Matrix([[0 , 0, 1, 0], [0, 0, 0, 1], [-1, 0, 0, 0], [0, -1, 0, 0]])\n",
    "#Gamma1 = sym.Matrix([[0, 0, 0, 1], [0, 0, 1, 0], [0, 1, 0, 0], [1, 0, 0, 0]])\n",
    "#Gamma2 =sym.Matrix([[0, 0, 0, -1*I], [0, 0, 1*I, 0], [0, -1*I, 0, 0], [1*I, 0, 0, 0]])\n",
    "#Gamma3 = sym.Matrix([[0, 0, 1, 0], [0, 0, 0, -1], [1, 0, 0, 0], [0, -1, 0, 0]])\n",
    "#Gamma=[Gamma0,Gamma1,Gamma2,Gamma3]\n",
    "sigma1=sym.Matrix([[0,1],[1,0]])\n",
    "sigma2=sym.Matrix([[0,-I],[I,0]])\n",
    "sigma3=sym.Matrix([[1,0],[0,-1]])\n",
    "gamma0=I*sigma3\n",
    "gamma1=sigma1\n",
    "gamma2=sigma2\n",
    "gamma=[gamma0,gamma1,gamma2]\n",
    "Gamma0=TensorProduct(I*sigma2,sym.eye(sigma1.shape[0]))\n",
    "Gamma1=TensorProduct(sigma1,sigma1)\n",
    "Gamma2=TensorProduct(sigma1,sigma2)\n",
    "Gamma3=TensorProduct(sigma1,sigma3)\n",
    "Gamma=[Gamma0,Gamma1,Gamma2,Gamma3]\n",
    "#Gamma_p=(Gamma0+Gamma3)/sym.sqrt(2)\n",
    "#Gamma_m=(Gamma0-Gamma3)/sym.sqrt(2)\n",
    "Gamma_p=(Gamma0+Gamma3)\n",
    "Gamma_m=(Gamma0-Gamma3)\n",
    "P_p=(sym.eye(Gamma0.shape[0])+Gamma0*Gamma3)/2\n",
    "P_m=(sym.eye(Gamma0.shape[0])-Gamma0*Gamma3)/2\n",
    "Eta_mn=sym.Matrix([[0,-1,0,0],[-1,0,0,0],[0,0,1,0],[0,0,0,1]])\n",
    "eta_mn=sym.Matrix([[-1,0,0],[0,1,0],[0,0,1]])"
   ]
  },
  {
   "cell_type": "code",
   "execution_count": 118,
   "metadata": {},
   "outputs": [
    {
     "data": {
      "text/latex": [
       "$\\displaystyle \\left[\\begin{matrix}0 & -1 & 0 & 0\\\\-1 & 0 & 0 & 0\\\\0 & 0 & 1 & 0\\\\0 & 0 & 0 & 1\\end{matrix}\\right]$"
      ],
      "text/plain": [
       "⎡0   -1  0  0⎤\n",
       "⎢            ⎥\n",
       "⎢-1  0   0  0⎥\n",
       "⎢            ⎥\n",
       "⎢0   0   1  0⎥\n",
       "⎢            ⎥\n",
       "⎣0   0   0  1⎦"
      ]
     },
     "metadata": {},
     "output_type": "display_data"
    },
    {
     "data": {
      "text/latex": [
       "$\\displaystyle \\left[\\begin{matrix}0 & 0 & 0 & -1\\\\0 & 1 & 0 & 0\\\\0 & 0 & 1 & 0\\\\-1 & 0 & 0 & 0\\end{matrix}\\right]$"
      ],
      "text/plain": [
       "⎡0   0  0  -1⎤\n",
       "⎢            ⎥\n",
       "⎢0   1  0  0 ⎥\n",
       "⎢            ⎥\n",
       "⎢0   0  1  0 ⎥\n",
       "⎢            ⎥\n",
       "⎣-1  0  0  0 ⎦"
      ]
     },
     "metadata": {},
     "output_type": "display_data"
    }
   ],
   "source": [
    "#####Eta_mn, redefine. (+,-,1,2)=> (+,1,2,-)  0=+,1,2,3=-\n",
    "display(Eta_mn)\n",
    "Eta_mn=sym.Matrix([[0,0,0,-1],[0,1,0,0],[0,0,1,0],[-1,0,0,0]])\n",
    "display(Eta_mn)"
   ]
  },
  {
   "cell_type": "code",
   "execution_count": 119,
   "metadata": {},
   "outputs": [],
   "source": [
    "def GammaStar(Gamma):\n",
    "    C=Gamma[0]\n",
    "    for i in range(1,len(Gamma)):\n",
    "        C=C*Gamma[i]\n",
    "    return C*(-I)**int(len(Gamma)/2 +1)\n",
    "def symbol_isupper(x):\n",
    "    x_string=str(x)\n",
    "    return x_string.isupper()\n",
    "def symbol_upper(x):\n",
    "    x_string=str(x).upper()\n",
    "    return sym.symbols(x_string)\n",
    "def symbol_lower(x):\n",
    "    x_string=str(x).lower()\n",
    "    return sym.symbols(x_string)\n",
    "def Bar_4(V):\n",
    "    V=V.transpose()\n",
    "    return I*V*(Gamma3*Gamma1)\n",
    "def Bar_3(V):\n",
    "    V=V.transpose()\n",
    "    return I*V*sigma2\n",
    "def Parser(x):\n",
    "    if x.shape==(4,1):\n",
    "        x_out=sym.Matrix.zeros(2,1)\n",
    "        i=0\n",
    "        for j in range(len(x)):\n",
    "            if x[j]!=0:\n",
    "                x_out[i]=x[j]\n",
    "                i+=1\n",
    "    elif x.shape==(1,4):\n",
    "        x_out=sym.Matrix.zeros(1,2)\n",
    "        i=0\n",
    "        for j in range(len(x)):\n",
    "            if x[j]!=0:\n",
    "                x_out[i]=x[j]\n",
    "                i+=1\n",
    "    return x_out\n",
    "def Gamma_ij(i,j):\n",
    "    ##2\\eta^{\\mu \\nu}=\\gamma^{\\mu}\\gamma^{\\nu}+\\gamma^{\\nu}\\gamma^{\\mu}\n",
    "    ##2\\gamma^{\\mu \\nu}=\\gamma^{\\mu}\\gamma^{\\nu}-\\gamma^{\\nu}\\gamma^{\\mu}\n",
    "    Gamma_ij=Gamma[i]*Gamma[j]-Eta_mn[i,j]*sym.eye(4)\n",
    "    return Gamma_ij\n",
    "def gamma_ij(i,j):\n",
    "    ##2\\eta^{\\mu \\nu}=\\gamma^{\\mu}\\gamma^{\\nu}+\\gamma^{\\nu}\\gamma^{\\mu}\n",
    "    ##2\\gamma^{\\mu \\nu}=\\gamma^{\\mu}\\gamma^{\\nu}-\\gamma^{\\nu}\\gamma^{\\mu}\n",
    "    gamma_ij=gamma[i]*gamma[j]-eta_mn[i,j]*sym.eye(2)\n",
    "    return gamma_ij"
   ]
  },
  {
   "cell_type": "code",
   "execution_count": 120,
   "metadata": {},
   "outputs": [
    {
     "name": "stdout",
     "output_type": "stream",
     "text": [
      "Gamma 0\n"
     ]
    },
    {
     "data": {
      "text/latex": [
       "$\\displaystyle \\left[\\begin{matrix}0 & 0 & 1 & 0\\\\0 & 0 & 0 & 1\\\\-1 & 0 & 0 & 0\\\\0 & -1 & 0 & 0\\end{matrix}\\right]$"
      ],
      "text/plain": [
       "⎡0   0   1  0⎤\n",
       "⎢            ⎥\n",
       "⎢0   0   0  1⎥\n",
       "⎢            ⎥\n",
       "⎢-1  0   0  0⎥\n",
       "⎢            ⎥\n",
       "⎣0   -1  0  0⎦"
      ]
     },
     "metadata": {},
     "output_type": "display_data"
    },
    {
     "name": "stdout",
     "output_type": "stream",
     "text": [
      "Gamma 1\n"
     ]
    },
    {
     "data": {
      "text/latex": [
       "$\\displaystyle \\left[\\begin{matrix}0 & 0 & 0 & 1\\\\0 & 0 & 1 & 0\\\\0 & 1 & 0 & 0\\\\1 & 0 & 0 & 0\\end{matrix}\\right]$"
      ],
      "text/plain": [
       "⎡0  0  0  1⎤\n",
       "⎢          ⎥\n",
       "⎢0  0  1  0⎥\n",
       "⎢          ⎥\n",
       "⎢0  1  0  0⎥\n",
       "⎢          ⎥\n",
       "⎣1  0  0  0⎦"
      ]
     },
     "metadata": {},
     "output_type": "display_data"
    },
    {
     "name": "stdout",
     "output_type": "stream",
     "text": [
      "Gamma 2\n"
     ]
    },
    {
     "data": {
      "text/latex": [
       "$\\displaystyle \\left[\\begin{matrix}0 & 0 & 0 & - i\\\\0 & 0 & i & 0\\\\0 & - i & 0 & 0\\\\i & 0 & 0 & 0\\end{matrix}\\right]$"
      ],
      "text/plain": [
       "⎡0  0   0  -ⅈ⎤\n",
       "⎢            ⎥\n",
       "⎢0  0   ⅈ  0 ⎥\n",
       "⎢            ⎥\n",
       "⎢0  -ⅈ  0  0 ⎥\n",
       "⎢            ⎥\n",
       "⎣ⅈ  0   0  0 ⎦"
      ]
     },
     "metadata": {},
     "output_type": "display_data"
    },
    {
     "name": "stdout",
     "output_type": "stream",
     "text": [
      "Gamma 3\n"
     ]
    },
    {
     "data": {
      "text/latex": [
       "$\\displaystyle \\left[\\begin{matrix}0 & 0 & 1 & 0\\\\0 & 0 & 0 & -1\\\\1 & 0 & 0 & 0\\\\0 & -1 & 0 & 0\\end{matrix}\\right]$"
      ],
      "text/plain": [
       "⎡0  0   1  0 ⎤\n",
       "⎢            ⎥\n",
       "⎢0  0   0  -1⎥\n",
       "⎢            ⎥\n",
       "⎢1  0   0  0 ⎥\n",
       "⎢            ⎥\n",
       "⎣0  -1  0  0 ⎦"
      ]
     },
     "metadata": {},
     "output_type": "display_data"
    },
    {
     "name": "stdout",
     "output_type": "stream",
     "text": [
      "Gamma*\n"
     ]
    },
    {
     "data": {
      "text/latex": [
       "$\\displaystyle \\left[\\begin{matrix}-1 & 0 & 0 & 0\\\\0 & -1 & 0 & 0\\\\0 & 0 & 1 & 0\\\\0 & 0 & 0 & 1\\end{matrix}\\right]$"
      ],
      "text/plain": [
       "⎡-1  0   0  0⎤\n",
       "⎢            ⎥\n",
       "⎢0   -1  0  0⎥\n",
       "⎢            ⎥\n",
       "⎢0   0   1  0⎥\n",
       "⎢            ⎥\n",
       "⎣0   0   0  1⎦"
      ]
     },
     "metadata": {},
     "output_type": "display_data"
    },
    {
     "name": "stdout",
     "output_type": "stream",
     "text": [
      "gamas\n"
     ]
    },
    {
     "data": {
      "text/latex": [
       "$\\displaystyle \\left[ \\left[\\begin{matrix}i & 0\\\\0 & - i\\end{matrix}\\right], \\  \\left[\\begin{matrix}0 & 1\\\\1 & 0\\end{matrix}\\right], \\  \\left[\\begin{matrix}0 & - i\\\\i & 0\\end{matrix}\\right]\\right]$"
      ],
      "text/plain": [
       "⎡⎡ⅈ  0 ⎤  ⎡0  1⎤  ⎡0  -ⅈ⎤⎤\n",
       "⎢⎢     ⎥, ⎢    ⎥, ⎢     ⎥⎥\n",
       "⎣⎣0  -ⅈ⎦  ⎣1  0⎦  ⎣ⅈ  0 ⎦⎦"
      ]
     },
     "metadata": {},
     "output_type": "display_data"
    },
    {
     "name": "stdout",
     "output_type": "stream",
     "text": [
      "P^{+}\n"
     ]
    },
    {
     "data": {
      "text/latex": [
       "$\\displaystyle \\left[\\begin{matrix}1 & 0 & 0 & 0\\\\0 & 0 & 0 & 0\\\\0 & 0 & 0 & 0\\\\0 & 0 & 0 & 1\\end{matrix}\\right]$"
      ],
      "text/plain": [
       "⎡1  0  0  0⎤\n",
       "⎢          ⎥\n",
       "⎢0  0  0  0⎥\n",
       "⎢          ⎥\n",
       "⎢0  0  0  0⎥\n",
       "⎢          ⎥\n",
       "⎣0  0  0  1⎦"
      ]
     },
     "metadata": {},
     "output_type": "display_data"
    },
    {
     "name": "stdout",
     "output_type": "stream",
     "text": [
      "P^{-}\n"
     ]
    },
    {
     "data": {
      "text/latex": [
       "$\\displaystyle \\left[\\begin{matrix}0 & 0 & 0 & 0\\\\0 & 1 & 0 & 0\\\\0 & 0 & 1 & 0\\\\0 & 0 & 0 & 0\\end{matrix}\\right]$"
      ],
      "text/plain": [
       "⎡0  0  0  0⎤\n",
       "⎢          ⎥\n",
       "⎢0  1  0  0⎥\n",
       "⎢          ⎥\n",
       "⎢0  0  1  0⎥\n",
       "⎢          ⎥\n",
       "⎣0  0  0  0⎦"
      ]
     },
     "metadata": {},
     "output_type": "display_data"
    },
    {
     "name": "stdout",
     "output_type": "stream",
     "text": [
      "Gamma^{+}\n"
     ]
    },
    {
     "data": {
      "text/latex": [
       "$\\displaystyle \\left[\\begin{matrix}0 & 0 & 2 & 0\\\\0 & 0 & 0 & 0\\\\0 & 0 & 0 & 0\\\\0 & -2 & 0 & 0\\end{matrix}\\right]$"
      ],
      "text/plain": [
       "⎡0  0   2  0⎤\n",
       "⎢           ⎥\n",
       "⎢0  0   0  0⎥\n",
       "⎢           ⎥\n",
       "⎢0  0   0  0⎥\n",
       "⎢           ⎥\n",
       "⎣0  -2  0  0⎦"
      ]
     },
     "metadata": {},
     "output_type": "display_data"
    },
    {
     "name": "stdout",
     "output_type": "stream",
     "text": [
      "Gamma^{-}\n"
     ]
    },
    {
     "data": {
      "text/latex": [
       "$\\displaystyle \\left[\\begin{matrix}0 & 0 & 0 & 0\\\\0 & 0 & 0 & 2\\\\-2 & 0 & 0 & 0\\\\0 & 0 & 0 & 0\\end{matrix}\\right]$"
      ],
      "text/plain": [
       "⎡0   0  0  0⎤\n",
       "⎢           ⎥\n",
       "⎢0   0  0  2⎥\n",
       "⎢           ⎥\n",
       "⎢-2  0  0  0⎥\n",
       "⎢           ⎥\n",
       "⎣0   0  0  0⎦"
      ]
     },
     "metadata": {},
     "output_type": "display_data"
    }
   ],
   "source": [
    "for i in range(len(Gamma)):\n",
    "    print(\"Gamma\",i)\n",
    "    display(Gamma[i])\n",
    "print(\"Gamma*\")\n",
    "Gamma5=GammaStar(Gamma)\n",
    "display(Gamma5)\n",
    "print(\"gamas\")\n",
    "display(gamma)\n",
    "print(\"P^{+}\")\n",
    "display(P_p)\n",
    "print(\"P^{-}\")\n",
    "display(P_m)\n",
    "print(\"Gamma^{+}\")\n",
    "display(Gamma_p)\n",
    "print(\"Gamma^{-}\")\n",
    "display(Gamma_m)\n",
    "###latex output, sym.latex(exp)"
   ]
  },
  {
   "cell_type": "code",
   "execution_count": 121,
   "metadata": {},
   "outputs": [
    {
     "name": "stdout",
     "output_type": "stream",
     "text": [
      "ε\n"
     ]
    },
    {
     "data": {
      "text/latex": [
       "$\\displaystyle \\left[\\begin{matrix}\\epsilon_{0}\\\\\\epsilon_{1}\\\\\\overline{\\epsilon_{1}}\\\\- \\overline{\\epsilon_{0}}\\end{matrix}\\right]$"
      ],
      "text/plain": [
       "⎡ε₀ ⎤\n",
       "⎢   ⎥\n",
       "⎢ε₁ ⎥\n",
       "⎢   ⎥\n",
       "⎢__ ⎥\n",
       "⎢ε₁ ⎥\n",
       "⎢   ⎥\n",
       "⎢ __⎥\n",
       "⎣-ε₀⎦"
      ]
     },
     "metadata": {},
     "output_type": "display_data"
    },
    {
     "name": "stdout",
     "output_type": "stream",
     "text": [
      "λ\n"
     ]
    },
    {
     "data": {
      "text/latex": [
       "$\\displaystyle \\left[\\begin{matrix}\\lambda_{0}\\\\\\lambda_{1}\\\\\\overline{\\lambda_{1}}\\\\- \\overline{\\lambda_{0}}\\end{matrix}\\right]$"
      ],
      "text/plain": [
       "⎡λ₀ ⎤\n",
       "⎢   ⎥\n",
       "⎢λ₁ ⎥\n",
       "⎢   ⎥\n",
       "⎢__ ⎥\n",
       "⎢λ₁ ⎥\n",
       "⎢   ⎥\n",
       "⎢ __⎥\n",
       "⎣-λ₀⎦"
      ]
     },
     "metadata": {},
     "output_type": "display_data"
    }
   ],
   "source": [
    "e,l=sym.symbols(\"epsilon,lambda\")\n",
    "a,b=sym.symbols(\"epsilon_0,epsilon_1\")\n",
    "x,y=sym.symbols(\"lambda_0,lambda_1\")\n",
    "sym.pprint(e)\n",
    "e=sym.Matrix([a,b,b.conjugate(),-a.conjugate()])\n",
    "display(e)\n",
    "sym.pprint(l)\n",
    "l=sym.Matrix([x,y,y.conjugate(),-x.conjugate()])\n",
    "display(l)"
   ]
  },
  {
   "cell_type": "code",
   "execution_count": 122,
   "metadata": {},
   "outputs": [
    {
     "name": "stdout",
     "output_type": "stream",
     "text": [
      "ε₊\n"
     ]
    },
    {
     "data": {
      "text/latex": [
       "$\\displaystyle \\left[\\begin{matrix}\\epsilon_{0}\\\\- \\overline{\\epsilon_{0}}\\end{matrix}\\right]$"
      ],
      "text/plain": [
       "⎡ε₀ ⎤\n",
       "⎢   ⎥\n",
       "⎢ __⎥\n",
       "⎣-ε₀⎦"
      ]
     },
     "metadata": {},
     "output_type": "display_data"
    },
    {
     "data": {
      "text/latex": [
       "$\\displaystyle \\left[\\begin{matrix}\\overline{\\epsilon_{0}} & \\epsilon_{0}\\end{matrix}\\right]$"
      ],
      "text/plain": [
       "⎡__    ⎤\n",
       "⎣ε₀  ε₀⎦"
      ]
     },
     "metadata": {},
     "output_type": "display_data"
    },
    {
     "name": "stdout",
     "output_type": "stream",
     "text": [
      "ε₋\n"
     ]
    },
    {
     "data": {
      "text/latex": [
       "$\\displaystyle \\left[\\begin{matrix}i \\overline{\\epsilon_{1}}\\\\i \\epsilon_{1}\\end{matrix}\\right]$"
      ],
      "text/plain": [
       "⎡  __⎤\n",
       "⎢ⅈ⋅ε₁⎥\n",
       "⎢    ⎥\n",
       "⎣ⅈ⋅ε₁⎦"
      ]
     },
     "metadata": {},
     "output_type": "display_data"
    },
    {
     "data": {
      "text/latex": [
       "$\\displaystyle \\left[\\begin{matrix}- i \\epsilon_{1} & i \\overline{\\epsilon_{1}}\\end{matrix}\\right]$"
      ],
      "text/plain": [
       "⎡         __⎤\n",
       "⎣-ⅈ⋅ε₁  ⅈ⋅ε₁⎦"
      ]
     },
     "metadata": {},
     "output_type": "display_data"
    }
   ],
   "source": [
    "e_p,e_m=sym.symbols(\"epsilon_+,epsilon_-\")\n",
    "sym.pprint(e_p)\n",
    "e_p=Parser(P_p*e)\n",
    "display(e_p)\n",
    "display(Bar_3(e_p))\n",
    "sym.pprint(e_m)\n",
    "e_m=I*gamma1*Parser(P_m*e)\n",
    "display(e_m)\n",
    "display(Bar_3(e_m))"
   ]
  },
  {
   "cell_type": "code",
   "execution_count": 123,
   "metadata": {},
   "outputs": [
    {
     "name": "stdout",
     "output_type": "stream",
     "text": [
      "λ₊\n"
     ]
    },
    {
     "data": {
      "text/latex": [
       "$\\displaystyle \\left[\\begin{matrix}\\lambda_{0}\\\\- \\overline{\\lambda_{0}}\\end{matrix}\\right]$"
      ],
      "text/plain": [
       "⎡λ₀ ⎤\n",
       "⎢   ⎥\n",
       "⎢ __⎥\n",
       "⎣-λ₀⎦"
      ]
     },
     "metadata": {},
     "output_type": "display_data"
    },
    {
     "name": "stdout",
     "output_type": "stream",
     "text": [
      "λ₋\n"
     ]
    },
    {
     "data": {
      "text/latex": [
       "$\\displaystyle \\left[\\begin{matrix}i \\overline{\\lambda_{1}}\\\\i \\lambda_{1}\\end{matrix}\\right]$"
      ],
      "text/plain": [
       "⎡  __⎤\n",
       "⎢ⅈ⋅λ₁⎥\n",
       "⎢    ⎥\n",
       "⎣ⅈ⋅λ₁⎦"
      ]
     },
     "metadata": {},
     "output_type": "display_data"
    }
   ],
   "source": [
    "l_p,l_m=sym.symbols(\"lambda_+,lambda_-\")\n",
    "sym.pprint(l_p)\n",
    "l_p=Parser(P_p*l)\n",
    "display(l_p)\n",
    "sym.pprint(l_m)\n",
    "l_m=I*gamma1*Parser(P_m*l)\n",
    "display(l_m)"
   ]
  },
  {
   "cell_type": "code",
   "execution_count": 132,
   "metadata": {},
   "outputs": [
    {
     "data": {
      "text/latex": [
       "$\\displaystyle \\left[ \\left[\\begin{matrix}0 & 0 & 2 & 0\\\\0 & 0 & 0 & 0\\\\0 & 0 & 0 & 0\\\\0 & -2 & 0 & 0\\end{matrix}\\right], \\  \\left[\\begin{matrix}0 & 0 & 0 & 1\\\\0 & 0 & 1 & 0\\\\0 & 1 & 0 & 0\\\\1 & 0 & 0 & 0\\end{matrix}\\right], \\  \\left[\\begin{matrix}0 & 0 & 0 & - i\\\\0 & 0 & i & 0\\\\0 & - i & 0 & 0\\\\i & 0 & 0 & 0\\end{matrix}\\right], \\  \\left[\\begin{matrix}0 & 0 & 0 & 0\\\\0 & 0 & 0 & 2\\\\-2 & 0 & 0 & 0\\\\0 & 0 & 0 & 0\\end{matrix}\\right]\\right]$"
      ],
      "text/plain": [
       "⎡⎡0  0   2  0⎤  ⎡0  0  0  1⎤  ⎡0  0   0  -ⅈ⎤  ⎡0   0  0  0⎤⎤\n",
       "⎢⎢           ⎥  ⎢          ⎥  ⎢            ⎥  ⎢           ⎥⎥\n",
       "⎢⎢0  0   0  0⎥  ⎢0  0  1  0⎥  ⎢0  0   ⅈ  0 ⎥  ⎢0   0  0  2⎥⎥\n",
       "⎢⎢           ⎥, ⎢          ⎥, ⎢            ⎥, ⎢           ⎥⎥\n",
       "⎢⎢0  0   0  0⎥  ⎢0  1  0  0⎥  ⎢0  -ⅈ  0  0 ⎥  ⎢-2  0  0  0⎥⎥\n",
       "⎢⎢           ⎥  ⎢          ⎥  ⎢            ⎥  ⎢           ⎥⎥\n",
       "⎣⎣0  -2  0  0⎦  ⎣1  0  0  0⎦  ⎣ⅈ  0   0  0 ⎦  ⎣0   0  0  0⎦⎦"
      ]
     },
     "metadata": {},
     "output_type": "display_data"
    }
   ],
   "source": [
    "###Redefine Gamma set, (+,1,2,-)\n",
    "Gamma=[Gamma_p,Gamma1,Gamma2,Gamma_m]\n",
    "display(Gamma)"
   ]
  },
  {
   "attachments": {},
   "cell_type": "markdown",
   "metadata": {},
   "source": [
    "## Vector Multiplets"
   ]
  },
  {
   "attachments": {},
   "cell_type": "markdown",
   "metadata": {},
   "source": [
    "$$\\delta A_{\\mu}=-\\frac{1}{2} \\bar{\\epsilon}\\Gamma_{\\mu}\\lambda,$$\n",
    "$$\\delta \\lambda= \\frac{1}{4}\\Gamma^{\\mu\\nu}F_{\\mu\\nu}\\epsilon +\\frac{1}{2}i\\Gamma_{*} D\\epsilon,$$\n",
    "$$ \\delta D=\\frac{1}{2}i\\bar{\\epsilon}\\Gamma_{*}\\Gamma^{\\mu}\\partial_{\\mu}\\lambda .$$\n",
    "\n",
    "0,3 refers $+,-$,multipliers are ignored. $\\rho=A_{+},\\sigma=A_{-},C_{i}=A_{i},S=D$"
   ]
  },
  {
   "attachments": {},
   "cell_type": "markdown",
   "metadata": {},
   "source": [
    "$\\delta\\rho$"
   ]
  },
  {
   "cell_type": "code",
   "execution_count": 133,
   "metadata": {},
   "outputs": [
    {
     "data": {
      "text/latex": [
       "$\\displaystyle \\left[\\begin{matrix}- 2 i \\epsilon_{0} \\overline{\\lambda_{0}} - 2 i \\lambda_{0} \\overline{\\epsilon_{0}}\\end{matrix}\\right]$"
      ],
      "text/plain": [
       "⎡         __          __⎤\n",
       "⎣- 2⋅ⅈ⋅ε₀⋅λ₀ - 2⋅ⅈ⋅λ₀⋅ε₀⎦"
      ]
     },
     "metadata": {},
     "output_type": "display_data"
    }
   ],
   "source": [
    "#\\delta \\rho\n",
    "exp1=Bar_4(e)*Gamma_m*l\n",
    "display(exp1)"
   ]
  },
  {
   "attachments": {},
   "cell_type": "markdown",
   "metadata": {},
   "source": [
    "$\\delta \\sigma$"
   ]
  },
  {
   "cell_type": "code",
   "execution_count": 136,
   "metadata": {},
   "outputs": [
    {
     "data": {
      "text/latex": [
       "$\\displaystyle \\left[\\begin{matrix}- 2 i \\epsilon_{1} \\overline{\\lambda_{1}} - 2 i \\lambda_{1} \\overline{\\epsilon_{1}}\\end{matrix}\\right]$"
      ],
      "text/plain": [
       "⎡         __          __⎤\n",
       "⎣- 2⋅ⅈ⋅ε₁⋅λ₁ - 2⋅ⅈ⋅λ₁⋅ε₁⎦"
      ]
     },
     "metadata": {},
     "output_type": "display_data"
    }
   ],
   "source": [
    "#\\delta \\sigma\n",
    "exp2=Bar_4(e)*Gamma_p*l\n",
    "display(exp2)"
   ]
  },
  {
   "attachments": {},
   "cell_type": "markdown",
   "metadata": {},
   "source": [
    "$\\delta C_{i}$"
   ]
  },
  {
   "cell_type": "code",
   "execution_count": 137,
   "metadata": {},
   "outputs": [
    {
     "data": {
      "text/latex": [
       "$\\displaystyle \\left[\\begin{matrix}- \\epsilon_{0} \\overline{\\lambda_{1}} + i \\epsilon_{0} \\overline{\\lambda_{1}} + \\epsilon_{1} \\overline{\\lambda_{0}} + i \\epsilon_{1} \\overline{\\lambda_{0}} - \\lambda_{0} \\overline{\\epsilon_{1}} + i \\lambda_{0} \\overline{\\epsilon_{1}} + \\lambda_{1} \\overline{\\epsilon_{0}} + i \\lambda_{1} \\overline{\\epsilon_{0}}\\end{matrix}\\right]$"
      ],
      "text/plain": [
       "⎡     __        __      __        __      __        __      __        __⎤\n",
       "⎣- ε₀⋅λ₁ + ⅈ⋅ε₀⋅λ₁ + ε₁⋅λ₀ + ⅈ⋅ε₁⋅λ₀ - λ₀⋅ε₁ + ⅈ⋅λ₀⋅ε₁ + λ₁⋅ε₀ + ⅈ⋅λ₁⋅ε₀⎦"
      ]
     },
     "metadata": {},
     "output_type": "display_data"
    }
   ],
   "source": [
    "#\\delta C_{i}\n",
    "exp3=Bar_4(e)*Gamma[1]*l + Bar_4(e)*Gamma[2]*l\n",
    "display(exp3)"
   ]
  },
  {
   "cell_type": "code",
   "execution_count": 150,
   "metadata": {},
   "outputs": [],
   "source": []
  },
  {
   "attachments": {},
   "cell_type": "markdown",
   "metadata": {},
   "source": [
    "$\\delta\\lambda_{+ } $"
   ]
  },
  {
   "cell_type": "code",
   "execution_count": 153,
   "metadata": {},
   "outputs": [
    {
     "data": {
      "text/latex": [
       "$\\displaystyle \\left[\\begin{matrix}2 \\epsilon_{1} M_{0, 1}\\\\- 2 \\overline{\\epsilon_{1}} M_{0, 1}\\end{matrix}\\right]$"
      ],
      "text/plain": [
       "⎡2⋅ε₁⋅M₀₁ ⎤\n",
       "⎢         ⎥\n",
       "⎢   __    ⎥\n",
       "⎣-2⋅ε₁⋅M₀₁⎦"
      ]
     },
     "metadata": {},
     "output_type": "display_data"
    },
    {
     "data": {
      "text/latex": [
       "$\\displaystyle \\left[\\begin{matrix}- 2 i \\epsilon_{1} M_{0, 2}\\\\- 2 i \\overline{\\epsilon_{1}} M_{0, 2}\\end{matrix}\\right]$"
      ],
      "text/plain": [
       "⎡-2⋅ⅈ⋅ε₁⋅M₀₂⎤\n",
       "⎢           ⎥\n",
       "⎢     __    ⎥\n",
       "⎣-2⋅ⅈ⋅ε₁⋅M₀₂⎦"
      ]
     },
     "metadata": {},
     "output_type": "display_data"
    },
    {
     "data": {
      "text/latex": [
       "$\\displaystyle \\left[\\begin{matrix}- 3 \\epsilon_{0} M_{0, 3}\\\\3 \\overline{\\epsilon_{0}} M_{0, 3}\\end{matrix}\\right]$"
      ],
      "text/plain": [
       "⎡-3⋅ε₀⋅M₀₃⎤\n",
       "⎢         ⎥\n",
       "⎢  __     ⎥\n",
       "⎣3⋅ε₀⋅M₀₃ ⎦"
      ]
     },
     "metadata": {},
     "output_type": "display_data"
    },
    {
     "data": {
      "text/latex": [
       "$\\displaystyle \\left[\\begin{matrix}i \\epsilon_{0} M_{1, 2}\\\\i \\overline{\\epsilon_{0}} M_{1, 2}\\end{matrix}\\right]$"
      ],
      "text/plain": [
       "⎡ⅈ⋅ε₀⋅M₁₂⎤\n",
       "⎢        ⎥\n",
       "⎢  __    ⎥\n",
       "⎣ⅈ⋅ε₀⋅M₁₂⎦"
      ]
     },
     "metadata": {},
     "output_type": "display_data"
    },
    {
     "data": {
      "text/latex": [
       "$\\displaystyle \\left[\\begin{matrix}0\\\\0\\end{matrix}\\right]$"
      ],
      "text/plain": [
       "⎡0⎤\n",
       "⎢ ⎥\n",
       "⎣0⎦"
      ]
     },
     "metadata": {},
     "output_type": "display_data"
    },
    {
     "data": {
      "text/latex": [
       "$\\displaystyle \\left[\\begin{matrix}0\\\\0\\end{matrix}\\right]$"
      ],
      "text/plain": [
       "⎡0⎤\n",
       "⎢ ⎥\n",
       "⎣0⎦"
      ]
     },
     "metadata": {},
     "output_type": "display_data"
    },
    {
     "data": {
      "text/latex": [
       "$\\displaystyle \\left[\\begin{matrix}- i S \\epsilon_{0}\\\\- i S \\overline{\\epsilon_{0}}\\end{matrix}\\right]$"
      ],
      "text/plain": [
       "⎡-ⅈ⋅S⋅ε₀⎤\n",
       "⎢       ⎥\n",
       "⎢     __⎥\n",
       "⎣-ⅈ⋅S⋅ε₀⎦"
      ]
     },
     "metadata": {},
     "output_type": "display_data"
    }
   ],
   "source": [
    "##exp4 \\Gamma^{\\mu\\nu} F_{\\mu\\nu}\n",
    "F=sym.MatrixSymbol(\"M\",4,4)\n",
    "D=sym.Symbol(\"S\")\n",
    "for i in range(4):\n",
    "    for j in range (i+1,4):\n",
    "        exp4=P_p*Gamma_ij(i,j)*F[i,j]*e\n",
    "        display(Parser(exp4))\n",
    "display(Parser(P_p*I*Gamma5*D*e))"
   ]
  },
  {
   "attachments": {},
   "cell_type": "markdown",
   "metadata": {},
   "source": [
    "$\\delta\\lambda_{-}$"
   ]
  },
  {
   "cell_type": "code",
   "execution_count": 154,
   "metadata": {},
   "outputs": [
    {
     "data": {
      "text/latex": [
       "$\\displaystyle \\left[\\begin{matrix}0\\\\0\\end{matrix}\\right]$"
      ],
      "text/plain": [
       "⎡0⎤\n",
       "⎢ ⎥\n",
       "⎣0⎦"
      ]
     },
     "metadata": {},
     "output_type": "display_data"
    },
    {
     "data": {
      "text/latex": [
       "$\\displaystyle \\left[\\begin{matrix}0\\\\0\\end{matrix}\\right]$"
      ],
      "text/plain": [
       "⎡0⎤\n",
       "⎢ ⎥\n",
       "⎣0⎦"
      ]
     },
     "metadata": {},
     "output_type": "display_data"
    },
    {
     "data": {
      "text/latex": [
       "$\\displaystyle \\left[\\begin{matrix}\\epsilon_{1} M_{0, 3}\\\\\\overline{\\epsilon_{1}} M_{0, 3}\\end{matrix}\\right]$"
      ],
      "text/plain": [
       "⎡ε₁⋅M₀₃⎤\n",
       "⎢      ⎥\n",
       "⎢__    ⎥\n",
       "⎣ε₁⋅M₀₃⎦"
      ]
     },
     "metadata": {},
     "output_type": "display_data"
    },
    {
     "data": {
      "text/latex": [
       "$\\displaystyle \\left[\\begin{matrix}- i \\epsilon_{1} M_{1, 2}\\\\i \\overline{\\epsilon_{1}} M_{1, 2}\\end{matrix}\\right]$"
      ],
      "text/plain": [
       "⎡-ⅈ⋅ε₁⋅M₁₂⎤\n",
       "⎢         ⎥\n",
       "⎢  __     ⎥\n",
       "⎣ⅈ⋅ε₁⋅M₁₂ ⎦"
      ]
     },
     "metadata": {},
     "output_type": "display_data"
    },
    {
     "data": {
      "text/latex": [
       "$\\displaystyle \\left[\\begin{matrix}- 2 \\epsilon_{0} M_{1, 3}\\\\- 2 \\overline{\\epsilon_{0}} M_{1, 3}\\end{matrix}\\right]$"
      ],
      "text/plain": [
       "⎡-2⋅ε₀⋅M₁₃⎤\n",
       "⎢         ⎥\n",
       "⎢   __    ⎥\n",
       "⎣-2⋅ε₀⋅M₁₃⎦"
      ]
     },
     "metadata": {},
     "output_type": "display_data"
    },
    {
     "data": {
      "text/latex": [
       "$\\displaystyle \\left[\\begin{matrix}- 2 i \\epsilon_{0} M_{2, 3}\\\\2 i \\overline{\\epsilon_{0}} M_{2, 3}\\end{matrix}\\right]$"
      ],
      "text/plain": [
       "⎡-2⋅ⅈ⋅ε₀⋅M₂₃⎤\n",
       "⎢           ⎥\n",
       "⎢    __     ⎥\n",
       "⎣2⋅ⅈ⋅ε₀⋅M₂₃ ⎦"
      ]
     },
     "metadata": {},
     "output_type": "display_data"
    },
    {
     "data": {
      "text/latex": [
       "$\\displaystyle \\left[\\begin{matrix}- i S \\epsilon_{1}\\\\i S \\overline{\\epsilon_{1}}\\end{matrix}\\right]$"
      ],
      "text/plain": [
       "⎡-ⅈ⋅S⋅ε₁⎤\n",
       "⎢       ⎥\n",
       "⎢    __ ⎥\n",
       "⎣ⅈ⋅S⋅ε₁ ⎦"
      ]
     },
     "metadata": {},
     "output_type": "display_data"
    }
   ],
   "source": [
    "##exp5\n",
    "for i in range(4):\n",
    "    for j in range (i+1,4):\n",
    "        exp5=P_m*Gamma_ij(i,j)*F[i,j]*e\n",
    "        display(Parser(exp5))\n",
    "display(Parser(P_m*I*Gamma5*D*e))"
   ]
  },
  {
   "cell_type": "code",
   "execution_count": 163,
   "metadata": {},
   "outputs": [
    {
     "data": {
      "text/latex": [
       "$\\displaystyle \\left[\\begin{matrix}- 2 \\epsilon_{1} \\overline{\\lambda_{1}} \\partial_{0, 0} + 2 \\lambda_{1} \\overline{\\epsilon_{1}} \\partial_{0, 0}\\end{matrix}\\right]$"
      ],
      "text/plain": [
       "⎡       __                   __           ⎤\n",
       "⎣- 2⋅ε₁⋅λ₁⋅\\partial₀₀ + 2⋅λ₁⋅ε₁⋅\\partial₀₀⎦"
      ]
     },
     "metadata": {},
     "output_type": "display_data"
    },
    {
     "data": {
      "text/latex": [
       "$\\displaystyle \\left[\\begin{matrix}\\epsilon_{0} \\overline{\\lambda_{1}} \\partial_{1, 0} + \\epsilon_{1} \\overline{\\lambda_{0}} \\partial_{1, 0} - \\lambda_{0} \\overline{\\epsilon_{1}} \\partial_{1, 0} - \\lambda_{1} \\overline{\\epsilon_{0}} \\partial_{1, 0}\\end{matrix}\\right]$"
      ],
      "text/plain": [
       "⎡   __                 __                 __                 __           ⎤\n",
       "⎣ε₀⋅λ₁⋅\\partial₁₀ + ε₁⋅λ₀⋅\\partial₁₀ - λ₀⋅ε₁⋅\\partial₁₀ - λ₁⋅ε₀⋅\\partial₁₀⎦"
      ]
     },
     "metadata": {},
     "output_type": "display_data"
    },
    {
     "data": {
      "text/latex": [
       "$\\displaystyle \\left[\\begin{matrix}i \\epsilon_{0} \\overline{\\lambda_{1}} \\partial_{2, 0} - i \\epsilon_{1} \\overline{\\lambda_{0}} \\partial_{2, 0} - i \\lambda_{0} \\overline{\\epsilon_{1}} \\partial_{2, 0} + i \\lambda_{1} \\overline{\\epsilon_{0}} \\partial_{2, 0}\\end{matrix}\\right]$"
      ],
      "text/plain": [
       "⎡     __                   __                   __                   __       \n",
       "⎣ⅈ⋅ε₀⋅λ₁⋅\\partial₂₀ - ⅈ⋅ε₁⋅λ₀⋅\\partial₂₀ - ⅈ⋅λ₀⋅ε₁⋅\\partial₂₀ + ⅈ⋅λ₁⋅ε₀⋅\\parti\n",
       "\n",
       "    ⎤\n",
       "al₂₀⎦"
      ]
     },
     "metadata": {},
     "output_type": "display_data"
    },
    {
     "data": {
      "text/latex": [
       "$\\displaystyle \\left[\\begin{matrix}- 2 \\epsilon_{0} \\overline{\\lambda_{0}} \\partial_{3, 0} + 2 \\lambda_{0} \\overline{\\epsilon_{0}} \\partial_{3, 0}\\end{matrix}\\right]$"
      ],
      "text/plain": [
       "⎡       __                   __           ⎤\n",
       "⎣- 2⋅ε₀⋅λ₀⋅\\partial₃₀ + 2⋅λ₀⋅ε₀⋅\\partial₃₀⎦"
      ]
     },
     "metadata": {},
     "output_type": "display_data"
    }
   ],
   "source": [
    "##exp6\n",
    "del_=sym.MatrixSymbol(\"\\partial\",4,1)\n",
    "for i in range(4):\n",
    "    exp6=I*Bar_4(e)*Gamma5*Gamma[i]*del_[i]*l\n",
    "    display(exp6)"
   ]
  },
  {
   "attachments": {},
   "cell_type": "markdown",
   "metadata": {},
   "source": [
    "## Scalar Multiplets"
   ]
  },
  {
   "attachments": {},
   "cell_type": "markdown",
   "metadata": {},
   "source": [
    "$$\\delta \\phi_{1}=\\bar{\\epsilon}\\chi,$$\n",
    "$$\\delta \\phi_{2}=i\\bar{\\epsilon}\\Gamma_{*}\\chi,$$\n",
    "$$\\delta \\chi=\\Gamma^{i}\\partial_{i}\\phi_{1}\\epsilon+i\\Gamma_{*}\\Gamma^{i}\\partial_{i}\\phi_{2}\\epsilon +S_{1}\\epsilon +i\\Gamma_{*}S_{2}\\epsilon + \\omega\\phi_{1}\\eta +i\\omega\\phi_{2}\\Gamma_{*}\\eta,$$\n",
    "$$\\delta S_{1}=\\bar{\\epsilon}\\Gamma^{i}\\partial_{i}\\chi +(1-\\omega)\\bar{\\eta}\\chi,$$\n",
    "$$\\delta S_{2}=i\\bar{\\epsilon}\\Gamma^{i}\\partial_{i}\\Gamma_{*}\\chi -(i-\\omega)\\bar{\\eta}\\Gamma_{*}\\chi.$$"
   ]
  },
  {
   "cell_type": "code",
   "execution_count": 175,
   "metadata": {},
   "outputs": [
    {
     "data": {
      "text/latex": [
       "$\\displaystyle \\left[\\begin{matrix}\\chi_{0}\\\\\\chi_{1}\\\\\\overline{\\chi_{1}}\\\\- \\overline{\\chi_{0}}\\end{matrix}\\right]$"
      ],
      "text/plain": [
       "⎡χ₀ ⎤\n",
       "⎢   ⎥\n",
       "⎢χ₁ ⎥\n",
       "⎢   ⎥\n",
       "⎢__ ⎥\n",
       "⎢χ₁ ⎥\n",
       "⎢   ⎥\n",
       "⎢ __⎥\n",
       "⎣-χ₀⎦"
      ]
     },
     "metadata": {},
     "output_type": "display_data"
    },
    {
     "data": {
      "text/latex": [
       "$\\displaystyle \\left[\\begin{matrix}- i \\chi_{1} & i \\chi_{0} & i \\overline{\\chi_{0}} & i \\overline{\\chi_{1}}\\end{matrix}\\right]$"
      ],
      "text/plain": [
       "⎡               __    __⎤\n",
       "⎣-ⅈ⋅χ₁  ⅈ⋅χ₀  ⅈ⋅χ₀  ⅈ⋅χ₁⎦"
      ]
     },
     "metadata": {},
     "output_type": "display_data"
    }
   ],
   "source": [
    "ch=sym.Symbol(\"chi\")\n",
    "c,d=sym.symbols(\"chi_0,chi_1\")\n",
    "ch=sym.Matrix([c,d,d.conjugate(),-c.conjugate()])\n",
    "display(ch)\n",
    "display(Bar_4(ch))"
   ]
  },
  {
   "cell_type": "code",
   "execution_count": 192,
   "metadata": {},
   "outputs": [
    {
     "data": {
      "image/png": "[encoded data removed]",
      "text/latex": [
       "$\\displaystyle \\chi_{+}$"
      ],
      "text/plain": [
       "χ₊"
      ]
     },
     "metadata": {},
     "output_type": "display_data"
    },
    {
     "data": {
      "text/latex": [
       "$\\displaystyle \\left[\\begin{matrix}\\chi_{0}\\\\- \\overline{\\chi_{0}}\\end{matrix}\\right]$"
      ],
      "text/plain": [
       "⎡χ₀ ⎤\n",
       "⎢   ⎥\n",
       "⎢ __⎥\n",
       "⎣-χ₀⎦"
      ]
     },
     "metadata": {},
     "output_type": "display_data"
    },
    {
     "data": {
      "image/png": "[encoded data removed]",
      "text/latex": [
       "$\\displaystyle \\chi_{-}$"
      ],
      "text/plain": [
       "χ₋"
      ]
     },
     "metadata": {},
     "output_type": "display_data"
    },
    {
     "data": {
      "text/latex": [
       "$\\displaystyle \\left[\\begin{matrix}i \\overline{\\chi_{1}}\\\\i \\chi_{1}\\end{matrix}\\right]$"
      ],
      "text/plain": [
       "⎡  __⎤\n",
       "⎢ⅈ⋅χ₁⎥\n",
       "⎢    ⎥\n",
       "⎣ⅈ⋅χ₁⎦"
      ]
     },
     "metadata": {},
     "output_type": "display_data"
    }
   ],
   "source": [
    "ch_p,ch_m=sym.symbols(\"chi_+,chi_-\")\n",
    "display(ch_p)\n",
    "display(Parser(P_p*ch))\n",
    "display(ch_m)\n",
    "display(I*gamma1*Parser(P_m*ch))\n",
    "ch_p=Parser(P_p*ch)\n",
    "ch_m=I*gamma1*Parser(P_m*ch)"
   ]
  },
  {
   "cell_type": "code",
   "execution_count": 182,
   "metadata": {},
   "outputs": [
    {
     "data": {
      "text/latex": [
       "$\\displaystyle \\left[\\begin{matrix}\\overline{\\epsilon_{0}} & \\epsilon_{0}\\end{matrix}\\right]$"
      ],
      "text/plain": [
       "⎡__    ⎤\n",
       "⎣ε₀  ε₀⎦"
      ]
     },
     "execution_count": 182,
     "metadata": {},
     "output_type": "execute_result"
    }
   ],
   "source": [
    "Bar_3(e_p)"
   ]
  },
  {
   "cell_type": "code",
   "execution_count": 183,
   "metadata": {},
   "outputs": [
    {
     "data": {
      "text/latex": [
       "$\\displaystyle \\left[\\begin{matrix}- i \\epsilon_{1} & i \\overline{\\epsilon_{1}}\\end{matrix}\\right]$"
      ],
      "text/plain": [
       "⎡         __⎤\n",
       "⎣-ⅈ⋅ε₁  ⅈ⋅ε₁⎦"
      ]
     },
     "execution_count": 183,
     "metadata": {},
     "output_type": "execute_result"
    }
   ],
   "source": [
    "Bar_3(e_m)"
   ]
  },
  {
   "attachments": {},
   "cell_type": "markdown",
   "metadata": {},
   "source": [
    "## $$\\delta \\phi_{1}=\\bar{\\epsilon}\\chi,$$\n"
   ]
  },
  {
   "cell_type": "code",
   "execution_count": 181,
   "metadata": {},
   "outputs": [
    {
     "data": {
      "text/latex": [
       "$\\displaystyle \\left[\\begin{matrix}- i \\chi_{0} \\epsilon_{1} + i \\chi_{1} \\epsilon_{0} - i \\overline{\\chi_{0}} \\overline{\\epsilon_{1}} + i \\overline{\\chi_{1}} \\overline{\\epsilon_{0}}\\end{matrix}\\right]$"
      ],
      "text/plain": [
       "⎡                       __ __     __ __⎤\n",
       "⎣-ⅈ⋅χ₀⋅ε₁ + ⅈ⋅χ₁⋅ε₀ - ⅈ⋅χ₀⋅ε₁ + ⅈ⋅χ₁⋅ε₀⎦"
      ]
     },
     "metadata": {},
     "output_type": "display_data"
    }
   ],
   "source": [
    "exp7=Bar_4(e)*ch\n",
    "display(exp7)"
   ]
  },
  {
   "attachments": {},
   "cell_type": "markdown",
   "metadata": {},
   "source": [
    "$$\\phi_{1}->\\psi_{1}$$"
   ]
  },
  {
   "cell_type": "code",
   "execution_count": 199,
   "metadata": {},
   "outputs": [
    {
     "data": {
      "text/latex": [
       "$\\displaystyle \\left[\\begin{matrix}- i \\chi_{0} \\epsilon_{1} + i \\chi_{1} \\epsilon_{0} - i \\overline{\\chi_{0}} \\overline{\\epsilon_{1}} + i \\overline{\\chi_{1}} \\overline{\\epsilon_{0}}\\end{matrix}\\right]$"
      ],
      "text/plain": [
       "⎡                       __ __     __ __⎤\n",
       "⎣-ⅈ⋅χ₀⋅ε₁ + ⅈ⋅χ₁⋅ε₀ - ⅈ⋅χ₀⋅ε₁ + ⅈ⋅χ₁⋅ε₀⎦"
      ]
     },
     "execution_count": 199,
     "metadata": {},
     "output_type": "execute_result"
    }
   ],
   "source": [
    "##checking.\n",
    "Bar_3(e_m)*ch_p + Bar_3(e_p)*ch_m"
   ]
  },
  {
   "attachments": {},
   "cell_type": "markdown",
   "metadata": {},
   "source": [
    "$$\\delta\\phi_{1}=\\bar{\\epsilon}_{-}\\chi_{+} +\\bar{\\epsilon}_{+}\\chi_{-}$$"
   ]
  },
  {
   "attachments": {},
   "cell_type": "markdown",
   "metadata": {},
   "source": [
    "## $$\\delta \\phi_{2}=i\\bar{\\epsilon}\\Gamma_{*}\\chi$$"
   ]
  },
  {
   "cell_type": "code",
   "execution_count": 202,
   "metadata": {},
   "outputs": [
    {
     "data": {
      "text/latex": [
       "$\\displaystyle \\left[\\begin{matrix}- \\chi_{0} \\epsilon_{1} + \\chi_{1} \\epsilon_{0} + \\overline{\\chi_{0}} \\overline{\\epsilon_{1}} - \\overline{\\chi_{1}} \\overline{\\epsilon_{0}}\\end{matrix}\\right]$"
      ],
      "text/plain": [
       "⎡                 __ __   __ __⎤\n",
       "⎣-χ₀⋅ε₁ + χ₁⋅ε₀ + χ₀⋅ε₁ - χ₁⋅ε₀⎦"
      ]
     },
     "metadata": {},
     "output_type": "display_data"
    }
   ],
   "source": [
    "exp8=I*Bar_4(e)*Gamma5*ch\n",
    "display(exp8)"
   ]
  },
  {
   "cell_type": "code",
   "execution_count": 209,
   "metadata": {},
   "outputs": [
    {
     "data": {
      "text/latex": [
       "$\\displaystyle \\left[\\begin{matrix}\\overline{\\epsilon_{0}} & \\epsilon_{0}\\end{matrix}\\right]$"
      ],
      "text/plain": [
       "⎡__    ⎤\n",
       "⎣ε₀  ε₀⎦"
      ]
     },
     "metadata": {},
     "output_type": "display_data"
    },
    {
     "data": {
      "text/latex": [
       "$\\displaystyle \\left[\\begin{matrix}- i \\epsilon_{1} & i \\overline{\\epsilon_{1}}\\end{matrix}\\right]$"
      ],
      "text/plain": [
       "⎡         __⎤\n",
       "⎣-ⅈ⋅ε₁  ⅈ⋅ε₁⎦"
      ]
     },
     "metadata": {},
     "output_type": "display_data"
    },
    {
     "data": {
      "text/latex": [
       "$\\displaystyle \\left[\\begin{matrix}i & 0\\\\0 & - i\\end{matrix}\\right]$"
      ],
      "text/plain": [
       "⎡ⅈ  0 ⎤\n",
       "⎢     ⎥\n",
       "⎣0  -ⅈ⎦"
      ]
     },
     "metadata": {},
     "output_type": "display_data"
    },
    {
     "data": {
      "text/latex": [
       "$\\displaystyle \\left[\\begin{matrix}\\chi_{0}\\\\- \\overline{\\chi_{0}}\\end{matrix}\\right]$"
      ],
      "text/plain": [
       "⎡χ₀ ⎤\n",
       "⎢   ⎥\n",
       "⎢ __⎥\n",
       "⎣-χ₀⎦"
      ]
     },
     "metadata": {},
     "output_type": "display_data"
    },
    {
     "data": {
      "text/latex": [
       "$\\displaystyle \\left[\\begin{matrix}i \\overline{\\chi_{1}}\\\\i \\chi_{1}\\end{matrix}\\right]$"
      ],
      "text/plain": [
       "⎡  __⎤\n",
       "⎢ⅈ⋅χ₁⎥\n",
       "⎢    ⎥\n",
       "⎣ⅈ⋅χ₁⎦"
      ]
     },
     "metadata": {},
     "output_type": "display_data"
    }
   ],
   "source": [
    "display(Bar_3(e_p))\n",
    "display(Bar_3(e_m))\n",
    "display(gamma0)\n",
    "display(ch_p)\n",
    "display(ch_m)"
   ]
  },
  {
   "cell_type": "code",
   "execution_count": 210,
   "metadata": {},
   "outputs": [
    {
     "data": {
      "text/latex": [
       "$\\displaystyle \\left[\\begin{matrix}\\chi_{1} \\epsilon_{0} - \\overline{\\chi_{1}} \\overline{\\epsilon_{0}}\\end{matrix}\\right]$"
      ],
      "text/plain": [
       "⎡        __ __⎤\n",
       "⎣χ₁⋅ε₀ - χ₁⋅ε₀⎦"
      ]
     },
     "execution_count": 210,
     "metadata": {},
     "output_type": "execute_result"
    }
   ],
   "source": [
    "Bar_3(e_p)*gamma0*ch_m"
   ]
  },
  {
   "cell_type": "code",
   "execution_count": 211,
   "metadata": {},
   "outputs": [
    {
     "data": {
      "text/latex": [
       "$\\displaystyle \\left[\\begin{matrix}\\chi_{0} \\epsilon_{1} - \\overline{\\chi_{0}} \\overline{\\epsilon_{1}}\\end{matrix}\\right]$"
      ],
      "text/plain": [
       "⎡        __ __⎤\n",
       "⎣χ₀⋅ε₁ - χ₀⋅ε₁⎦"
      ]
     },
     "execution_count": 211,
     "metadata": {},
     "output_type": "execute_result"
    }
   ],
   "source": [
    "Bar_3(e_m)*gamma0*ch_p"
   ]
  },
  {
   "attachments": {},
   "cell_type": "markdown",
   "metadata": {},
   "source": [
    "$$\\delta \\psi_{2}=\\bar{\\epsilon}_{+}\\gamma_{0}\\chi_{-} -\\bar{\\epsilon}_{-}\\gamma_{0}\\chi_{+}$$"
   ]
  },
  {
   "attachments": {},
   "cell_type": "markdown",
   "metadata": {},
   "source": [
    "## $$\\delta \\chi=\\Gamma^{i}\\partial_{i}\\phi_{1}\\epsilon+i\\Gamma_{*}\\Gamma^{i}\\partial_{i}\\phi_{2}\\epsilon +S_{1}\\epsilon +i\\Gamma_{*}S_{2}\\epsilon + \\omega\\phi_{1}\\eta +i\\omega\\phi_{2}\\Gamma_{*}\\eta$$ ##"
   ]
  },
  {
   "cell_type": "code",
   "execution_count": 237,
   "metadata": {},
   "outputs": [
    {
     "data": {
      "text/latex": [
       "$\\displaystyle \\left[\\begin{matrix}S_{0}\\\\S_{1}\\\\\\overline{S_{1}}\\\\- \\overline{S_{0}}\\end{matrix}\\right]$"
      ],
      "text/plain": [
       "⎡S₀ ⎤\n",
       "⎢   ⎥\n",
       "⎢S₁ ⎥\n",
       "⎢   ⎥\n",
       "⎢__ ⎥\n",
       "⎢S₁ ⎥\n",
       "⎢   ⎥\n",
       "⎢ __⎥\n",
       "⎣-S₀⎦"
      ]
     },
     "metadata": {},
     "output_type": "display_data"
    }
   ],
   "source": [
    "S=sym.Symbol(\"S\")\n",
    "f,g=sym.symbols(\"S_0,S_1\")\n",
    "S=sym.Matrix([f,g,g.conjugate(),-f.conjugate()])\n",
    "display(S)\n"
   ]
  },
  {
   "cell_type": "code",
   "execution_count": 238,
   "metadata": {},
   "outputs": [
    {
     "data": {
      "text/latex": [
       "$\\displaystyle \\left[\\begin{matrix}\\overline{S_{1}}\\\\- S_{1}\\end{matrix}\\right]$"
      ],
      "text/plain": [
       "⎡__ ⎤\n",
       "⎢S₁ ⎥\n",
       "⎢   ⎥\n",
       "⎣-S₁⎦"
      ]
     },
     "metadata": {},
     "output_type": "display_data"
    }
   ],
   "source": [
    "R=I*gamma2*Parser(P_m*S)\n",
    "display(R)"
   ]
  },
  {
   "cell_type": "code",
   "execution_count": 239,
   "metadata": {},
   "outputs": [],
   "source": [
    "S_1,S_2=sym.symbols(\"F_1,F_2\")\n",
    "w,phi_1,phi_2=sym.symbols(\"w,phi_1,phi_2\")"
   ]
  },
  {
   "attachments": {},
   "cell_type": "markdown",
   "metadata": {},
   "source": [
    "$$P_{+}\\delta \\chi=\\delta \\chi_{+}$$"
   ]
  },
  {
   "attachments": {},
   "cell_type": "markdown",
   "metadata": {},
   "source": [
    "$$=> +S_{1}\\epsilon +i\\Gamma_{*}S_{2}\\epsilon + \\omega\\phi_{1}\\eta +i\\omega\\phi_{2}\\Gamma_{*}\\eta$$"
   ]
  },
  {
   "attachments": {},
   "cell_type": "markdown",
   "metadata": {},
   "source": [
    " $$P_{+}(S_{1}\\epsilon +i\\Gamma_{*}S_{2}\\epsilon + \\omega\\phi_{1}\\eta +i\\omega\\phi_{2}\\Gamma_{*}\\eta)$$ "
   ]
  },
  {
   "cell_type": "code",
   "execution_count": 248,
   "metadata": {},
   "outputs": [
    {
     "data": {
      "text/latex": [
       "$\\displaystyle \\left[\\begin{matrix}F_{1} \\epsilon_{0}\\\\0\\\\0\\\\- F_{1} \\overline{\\epsilon_{0}}\\end{matrix}\\right]$"
      ],
      "text/plain": [
       "⎡F₁⋅ε₀ ⎤\n",
       "⎢      ⎥\n",
       "⎢  0   ⎥\n",
       "⎢      ⎥\n",
       "⎢  0   ⎥\n",
       "⎢      ⎥\n",
       "⎢    __⎥\n",
       "⎣-F₁⋅ε₀⎦"
      ]
     },
     "execution_count": 248,
     "metadata": {},
     "output_type": "execute_result"
    }
   ],
   "source": [
    "P_p*S_1*e"
   ]
  },
  {
   "attachments": {},
   "cell_type": "markdown",
   "metadata": {},
   "source": [
    "$$P_{+}(S_{1}\\epsilon)=> F_{1}\\epsilon_{+} $$"
   ]
  },
  {
   "cell_type": "code",
   "execution_count": 249,
   "metadata": {},
   "outputs": [
    {
     "data": {
      "text/latex": [
       "$\\displaystyle \\left[\\begin{matrix}- i F_{2} \\epsilon_{0}\\\\0\\\\0\\\\- i F_{2} \\overline{\\epsilon_{0}}\\end{matrix}\\right]$"
      ],
      "text/plain": [
       "⎡-ⅈ⋅F₂⋅ε₀⎤\n",
       "⎢        ⎥\n",
       "⎢   0    ⎥\n",
       "⎢        ⎥\n",
       "⎢   0    ⎥\n",
       "⎢        ⎥\n",
       "⎢      __⎥\n",
       "⎣-ⅈ⋅F₂⋅ε₀⎦"
      ]
     },
     "execution_count": 249,
     "metadata": {},
     "output_type": "execute_result"
    }
   ],
   "source": [
    "P_p*I*Gamma5*S_2*e"
   ]
  },
  {
   "attachments": {},
   "cell_type": "markdown",
   "metadata": {},
   "source": [
    "$$P_{+}(i\\Gamma_{*}S_{2}\\epsilon )=> -F_{2}\\gamma_{0}\\epsilon_{+} $$"
   ]
  },
  {
   "cell_type": "code",
   "execution_count": 250,
   "metadata": {},
   "outputs": [
    {
     "data": {
      "text/latex": [
       "$\\displaystyle \\left[\\begin{matrix}S_{0} \\phi_{1} w\\\\0\\\\0\\\\- \\phi_{1} w \\overline{S_{0}}\\end{matrix}\\right]$"
      ],
      "text/plain": [
       "⎡S₀⋅φ₁⋅w ⎤\n",
       "⎢        ⎥\n",
       "⎢   0    ⎥\n",
       "⎢        ⎥\n",
       "⎢   0    ⎥\n",
       "⎢        ⎥\n",
       "⎢      __⎥\n",
       "⎣-φ₁⋅w⋅S₀⎦"
      ]
     },
     "execution_count": 250,
     "metadata": {},
     "output_type": "execute_result"
    }
   ],
   "source": [
    "P_p*w*phi_1*S"
   ]
  },
  {
   "attachments": {},
   "cell_type": "markdown",
   "metadata": {},
   "source": [
    "$$P_{+}( \\omega\\phi_{1}\\eta) => \\omega\\phi_{1}S_{0}?$$"
   ]
  },
  {
   "cell_type": "code",
   "execution_count": 251,
   "metadata": {},
   "outputs": [
    {
     "data": {
      "text/latex": [
       "$\\displaystyle \\left[\\begin{matrix}- i S_{0} \\phi_{2} w\\\\0\\\\0\\\\- i \\phi_{2} w \\overline{S_{0}}\\end{matrix}\\right]$"
      ],
      "text/plain": [
       "⎡-ⅈ⋅S₀⋅φ₂⋅w⎤\n",
       "⎢          ⎥\n",
       "⎢    0     ⎥\n",
       "⎢          ⎥\n",
       "⎢    0     ⎥\n",
       "⎢          ⎥\n",
       "⎢        __⎥\n",
       "⎣-ⅈ⋅φ₂⋅w⋅S₀⎦"
      ]
     },
     "execution_count": 251,
     "metadata": {},
     "output_type": "execute_result"
    }
   ],
   "source": [
    "P_p*I*w*phi_2*Gamma5*S "
   ]
  },
  {
   "attachments": {},
   "cell_type": "markdown",
   "metadata": {},
   "source": [
    "$$P_{+}(i\\omega\\phi_{2}\\Gamma_{*}\\eta)=>\\omega\\phi_{2} S_{0}?$$"
   ]
  },
  {
   "attachments": {},
   "cell_type": "markdown",
   "metadata": {},
   "source": [
    "$$=>P_{+}(\\Gamma^{i}\\partial_{i}\\phi_{1}\\epsilon+i\\Gamma_{*}\\Gamma^{i}\\partial_{i}\\phi_{2}\\epsilon) $$"
   ]
  },
  {
   "attachments": {},
   "cell_type": "markdown",
   "metadata": {},
   "source": [
    "$P_{+}(\\Gamma^{i}\\partial_{i}\\phi_{1}\\epsilon)$ part"
   ]
  },
  {
   "cell_type": "code",
   "execution_count": 259,
   "metadata": {},
   "outputs": [
    {
     "data": {
      "text/latex": [
       "$\\displaystyle \\left[\\begin{matrix}2 \\phi_{1} \\overline{\\epsilon_{1}} \\partial_{0, 0}\\\\- 2 \\epsilon_{1} \\phi_{1} \\partial_{0, 0}\\end{matrix}\\right]$"
      ],
      "text/plain": [
       "⎡     __            ⎤\n",
       "⎢2⋅φ₁⋅ε₁⋅\\partial₀₀ ⎥\n",
       "⎢                   ⎥\n",
       "⎣-2⋅ε₁⋅φ₁⋅\\partial₀₀⎦"
      ]
     },
     "metadata": {},
     "output_type": "display_data"
    },
    {
     "data": {
      "text/latex": [
       "$\\displaystyle \\left[\\begin{matrix}- \\phi_{1} \\overline{\\epsilon_{0}} \\partial_{1, 0}\\\\\\epsilon_{0} \\phi_{1} \\partial_{1, 0}\\end{matrix}\\right]$"
      ],
      "text/plain": [
       "⎡    __           ⎤\n",
       "⎢-φ₁⋅ε₀⋅\\partial₁₀⎥\n",
       "⎢                 ⎥\n",
       "⎣ε₀⋅φ₁⋅\\partial₁₀ ⎦"
      ]
     },
     "metadata": {},
     "output_type": "display_data"
    },
    {
     "data": {
      "text/latex": [
       "$\\displaystyle \\left[\\begin{matrix}i \\phi_{1} \\overline{\\epsilon_{0}} \\partial_{2, 0}\\\\i \\epsilon_{0} \\phi_{1} \\partial_{2, 0}\\end{matrix}\\right]$"
      ],
      "text/plain": [
       "⎡     __           ⎤\n",
       "⎢ⅈ⋅φ₁⋅ε₀⋅\\partial₂₀⎥\n",
       "⎢                  ⎥\n",
       "⎣ⅈ⋅ε₀⋅φ₁⋅\\partial₂₀⎦"
      ]
     },
     "metadata": {},
     "output_type": "display_data"
    },
    {
     "data": {
      "text/latex": [
       "$\\displaystyle \\left[\\begin{matrix}0\\\\0\\end{matrix}\\right]$"
      ],
      "text/plain": [
       "⎡0⎤\n",
       "⎢ ⎥\n",
       "⎣0⎦"
      ]
     },
     "metadata": {},
     "output_type": "display_data"
    }
   ],
   "source": [
    "for i in range(4):\n",
    "    display(Parser(P_p*Gamma[i]*del_[i]*phi_1*e))"
   ]
  },
  {
   "attachments": {},
   "cell_type": "markdown",
   "metadata": {},
   "source": [
    "Chacking"
   ]
  },
  {
   "cell_type": "code",
   "execution_count": 262,
   "metadata": {},
   "outputs": [
    {
     "data": {
      "text/latex": [
       "$\\displaystyle \\left[\\begin{matrix}i \\overline{\\epsilon_{1}}\\\\i \\epsilon_{1}\\end{matrix}\\right]$"
      ],
      "text/plain": [
       "⎡  __⎤\n",
       "⎢ⅈ⋅ε₁⎥\n",
       "⎢    ⎥\n",
       "⎣ⅈ⋅ε₁⎦"
      ]
     },
     "metadata": {},
     "output_type": "display_data"
    },
    {
     "data": {
      "text/latex": [
       "$\\displaystyle \\left[\\begin{matrix}- \\overline{\\epsilon_{1}}\\\\\\epsilon_{1}\\end{matrix}\\right]$"
      ],
      "text/plain": [
       "⎡ __⎤\n",
       "⎢-ε₁⎥\n",
       "⎢   ⎥\n",
       "⎣ε₁ ⎦"
      ]
     },
     "metadata": {},
     "output_type": "display_data"
    }
   ],
   "source": [
    "display(e_m)\n",
    "display(gamma0*e_m)"
   ]
  },
  {
   "cell_type": "code",
   "execution_count": 271,
   "metadata": {},
   "outputs": [
    {
     "data": {
      "text/latex": [
       "$\\displaystyle \\left[\\begin{matrix}\\epsilon_{0}\\\\- \\overline{\\epsilon_{0}}\\end{matrix}\\right]$"
      ],
      "text/plain": [
       "⎡ε₀ ⎤\n",
       "⎢   ⎥\n",
       "⎢ __⎥\n",
       "⎣-ε₀⎦"
      ]
     },
     "execution_count": 271,
     "metadata": {},
     "output_type": "execute_result"
    }
   ],
   "source": [
    "e_p"
   ]
  },
  {
   "cell_type": "code",
   "execution_count": 268,
   "metadata": {},
   "outputs": [
    {
     "data": {
      "text/latex": [
       "$\\displaystyle \\left[\\begin{matrix}- \\overline{\\epsilon_{0}}\\\\\\epsilon_{0}\\end{matrix}\\right]$"
      ],
      "text/plain": [
       "⎡ __⎤\n",
       "⎢-ε₀⎥\n",
       "⎢   ⎥\n",
       "⎣ε₀ ⎦"
      ]
     },
     "metadata": {},
     "output_type": "display_data"
    },
    {
     "data": {
      "text/latex": [
       "$\\displaystyle \\left[\\begin{matrix}i \\overline{\\epsilon_{0}}\\\\i \\epsilon_{0}\\end{matrix}\\right]$"
      ],
      "text/plain": [
       "⎡  __⎤\n",
       "⎢ⅈ⋅ε₀⎥\n",
       "⎢    ⎥\n",
       "⎣ⅈ⋅ε₀⎦"
      ]
     },
     "metadata": {},
     "output_type": "display_data"
    }
   ],
   "source": [
    "display(gamma1*e_p)\n",
    "display(gamma2*e_p)"
   ]
  },
  {
   "attachments": {},
   "cell_type": "markdown",
   "metadata": {},
   "source": [
    "$P_{+}(\\Gamma^{i}\\partial_{i}\\phi_{1}\\epsilon) => -2\\gamma_{0}*\\partial_{+} \\phi_{1} \\epsilon_{-} + \\gamma^{a}\\partial_{a}\\phi_{1}\\epsilon_{+} $"
   ]
  },
  {
   "attachments": {},
   "cell_type": "markdown",
   "metadata": {},
   "source": [
    "$P_{+}(i\\Gamma_{*}\\Gamma^{i}\\partial_{i}\\phi_{2}\\epsilon)$ part"
   ]
  },
  {
   "cell_type": "code",
   "execution_count": 260,
   "metadata": {},
   "outputs": [
    {
     "data": {
      "text/latex": [
       "$\\displaystyle \\left[\\begin{matrix}- 2 i \\phi_{2} \\overline{\\epsilon_{1}} \\partial_{0, 0}\\\\- 2 i \\epsilon_{1} \\phi_{2} \\partial_{0, 0}\\end{matrix}\\right]$"
      ],
      "text/plain": [
       "⎡        __           ⎤\n",
       "⎢-2⋅ⅈ⋅φ₂⋅ε₁⋅\\partial₀₀⎥\n",
       "⎢                     ⎥\n",
       "⎣-2⋅ⅈ⋅ε₁⋅φ₂⋅\\partial₀₀⎦"
      ]
     },
     "metadata": {},
     "output_type": "display_data"
    },
    {
     "data": {
      "text/latex": [
       "$\\displaystyle \\left[\\begin{matrix}i \\phi_{2} \\overline{\\epsilon_{0}} \\partial_{1, 0}\\\\i \\epsilon_{0} \\phi_{2} \\partial_{1, 0}\\end{matrix}\\right]$"
      ],
      "text/plain": [
       "⎡     __           ⎤\n",
       "⎢ⅈ⋅φ₂⋅ε₀⋅\\partial₁₀⎥\n",
       "⎢                  ⎥\n",
       "⎣ⅈ⋅ε₀⋅φ₂⋅\\partial₁₀⎦"
      ]
     },
     "metadata": {},
     "output_type": "display_data"
    },
    {
     "data": {
      "text/latex": [
       "$\\displaystyle \\left[\\begin{matrix}\\phi_{2} \\overline{\\epsilon_{0}} \\partial_{2, 0}\\\\- \\epsilon_{0} \\phi_{2} \\partial_{2, 0}\\end{matrix}\\right]$"
      ],
      "text/plain": [
       "⎡   __            ⎤\n",
       "⎢φ₂⋅ε₀⋅\\partial₂₀ ⎥\n",
       "⎢                 ⎥\n",
       "⎣-ε₀⋅φ₂⋅\\partial₂₀⎦"
      ]
     },
     "metadata": {},
     "output_type": "display_data"
    },
    {
     "data": {
      "text/latex": [
       "$\\displaystyle \\left[\\begin{matrix}0\\\\0\\end{matrix}\\right]$"
      ],
      "text/plain": [
       "⎡0⎤\n",
       "⎢ ⎥\n",
       "⎣0⎦"
      ]
     },
     "metadata": {},
     "output_type": "display_data"
    }
   ],
   "source": [
    "for i in range(4):\n",
    "    display(Parser(I*P_p*Gamma5*Gamma[i]*del_[i]*phi_2*e))"
   ]
  },
  {
   "cell_type": "code",
   "execution_count": 281,
   "metadata": {},
   "outputs": [
    {
     "data": {
      "text/latex": [
       "$\\displaystyle \\left[\\begin{matrix}i \\overline{\\epsilon_{1}}\\\\i \\epsilon_{1}\\end{matrix}\\right]$"
      ],
      "text/plain": [
       "⎡  __⎤\n",
       "⎢ⅈ⋅ε₁⎥\n",
       "⎢    ⎥\n",
       "⎣ⅈ⋅ε₁⎦"
      ]
     },
     "execution_count": 281,
     "metadata": {},
     "output_type": "execute_result"
    }
   ],
   "source": [
    "e_m"
   ]
  },
  {
   "cell_type": "code",
   "execution_count": 283,
   "metadata": {},
   "outputs": [
    {
     "data": {
      "text/latex": [
       "$\\displaystyle \\left[ \\left[\\begin{matrix}i & 0\\\\0 & - i\\end{matrix}\\right], \\  \\left[\\begin{matrix}0 & 1\\\\1 & 0\\end{matrix}\\right], \\  \\left[\\begin{matrix}0 & - i\\\\i & 0\\end{matrix}\\right]\\right]$"
      ],
      "text/plain": [
       "⎡⎡ⅈ  0 ⎤  ⎡0  1⎤  ⎡0  -ⅈ⎤⎤\n",
       "⎢⎢     ⎥, ⎢    ⎥, ⎢     ⎥⎥\n",
       "⎣⎣0  -ⅈ⎦  ⎣1  0⎦  ⎣ⅈ  0 ⎦⎦"
      ]
     },
     "metadata": {},
     "output_type": "display_data"
    }
   ],
   "source": [
    "display(gamma)"
   ]
  },
  {
   "cell_type": "code",
   "execution_count": 286,
   "metadata": {},
   "outputs": [
    {
     "data": {
      "text/latex": [
       "$\\displaystyle \\left[\\begin{matrix}- \\overline{\\epsilon_{0}}\\\\\\epsilon_{0}\\end{matrix}\\right]$"
      ],
      "text/plain": [
       "⎡ __⎤\n",
       "⎢-ε₀⎥\n",
       "⎢   ⎥\n",
       "⎣ε₀ ⎦"
      ]
     },
     "execution_count": 286,
     "metadata": {},
     "output_type": "execute_result"
    }
   ],
   "source": [
    "gamma1*e_p"
   ]
  },
  {
   "cell_type": "code",
   "execution_count": 288,
   "metadata": {},
   "outputs": [
    {
     "data": {
      "text/latex": [
       "$\\displaystyle \\left[\\begin{matrix}i \\overline{\\epsilon_{0}}\\\\i \\epsilon_{0}\\end{matrix}\\right]$"
      ],
      "text/plain": [
       "⎡  __⎤\n",
       "⎢ⅈ⋅ε₀⎥\n",
       "⎢    ⎥\n",
       "⎣ⅈ⋅ε₀⎦"
      ]
     },
     "execution_count": 288,
     "metadata": {},
     "output_type": "execute_result"
    }
   ],
   "source": [
    "gamma2*e_p"
   ]
  },
  {
   "attachments": {},
   "cell_type": "markdown",
   "metadata": {},
   "source": [
    "$P_{+}(i\\Gamma_{*}\\Gamma^{i}\\partial_{i}\\phi_{2}\\epsilon)=>-2\\partial_{+}\\phi_{2}\\epsilon_{-}+\\gamma_{2}\\epsilon_{+}\\partial_{1}\\phi_{2}-\\gamma_{1}\\epsilon_{+}\\partial_{2}\\phi_{2}$"
   ]
  },
  {
   "attachments": {},
   "cell_type": "markdown",
   "metadata": {},
   "source": [
    "## $$\\delta \\chi=\\Gamma^{i}\\partial_{i}\\phi_{1}\\epsilon+i\\Gamma_{*}\\Gamma^{i}\\partial_{i}\\phi_{2}\\epsilon +S_{1}\\epsilon +i\\Gamma_{*}S_{2}\\epsilon + \\omega\\phi_{1}\\eta +i\\omega\\phi_{2}\\Gamma_{*}\\eta$$ ##"
   ]
  },
  {
   "attachments": {},
   "cell_type": "markdown",
   "metadata": {},
   "source": [
    "$$\\delta \\chi_{-} =i\\gamma_{1}P_{-}\\delta\\chi$$\n",
    " $$i\\gamma_{1}P_{-}(S_{1}\\epsilon +i\\Gamma_{*}S_{2}\\epsilon + \\omega\\phi_{1}\\eta +i\\omega\\phi_{2}\\Gamma_{*}\\eta)$$ "
   ]
  },
  {
   "attachments": {},
   "cell_type": "markdown",
   "metadata": {},
   "source": [
    "$=> +S_{1}\\epsilon +i\\Gamma_{*}S_{2}\\epsilon + \\omega\\phi_{1}\\eta +i\\omega\\phi_{2}\\Gamma_{*}\\eta$ part"
   ]
  },
  {
   "cell_type": "code",
   "execution_count": 290,
   "metadata": {},
   "outputs": [
    {
     "data": {
      "text/latex": [
       "$\\displaystyle \\left[\\begin{matrix}i F_{1} \\overline{\\epsilon_{1}}\\\\i F_{1} \\epsilon_{1}\\end{matrix}\\right]$"
      ],
      "text/plain": [
       "⎡     __⎤\n",
       "⎢ⅈ⋅F₁⋅ε₁⎥\n",
       "⎢       ⎥\n",
       "⎣ⅈ⋅F₁⋅ε₁⎦"
      ]
     },
     "metadata": {},
     "output_type": "display_data"
    }
   ],
   "source": [
    "display(I*gamma1*Parser(P_m*S_1*e))"
   ]
  },
  {
   "attachments": {},
   "cell_type": "markdown",
   "metadata": {},
   "source": [
    "$i\\gamma_{1}*P_{-}S_{1}\\epsilon => S_{1}\\epsilon_{-}$"
   ]
  },
  {
   "cell_type": "code",
   "execution_count": 293,
   "metadata": {},
   "outputs": [
    {
     "data": {
      "text/latex": [
       "$\\displaystyle \\left[\\begin{matrix}- F_{2} \\overline{\\epsilon_{1}}\\\\F_{2} \\epsilon_{1}\\end{matrix}\\right]$"
      ],
      "text/plain": [
       "⎡    __⎤\n",
       "⎢-F₂⋅ε₁⎥\n",
       "⎢      ⎥\n",
       "⎣F₂⋅ε₁ ⎦"
      ]
     },
     "metadata": {},
     "output_type": "display_data"
    }
   ],
   "source": [
    "display(I*gamma1*Parser(P_m*I*Gamma5*S_2*e))"
   ]
  },
  {
   "cell_type": "code",
   "execution_count": null,
   "metadata": {},
   "outputs": [],
   "source": []
  }
 ],
 "metadata": {
  "kernelspec": {
   "display_name": "CondaEnv",
   "language": "python",
   "name": "python3"
  },
  "language_info": {
   "codemirror_mode": {
    "name": "ipython",
    "version": 3
   },
   "file_extension": ".py",
   "mimetype": "text/x-python",
   "name": "python",
   "nbconvert_exporter": "python",
   "pygments_lexer": "ipython3",
   "version": "3.9.15"
  },
  "orig_nbformat": 4
 },
 "nbformat": 4,
 "nbformat_minor": 2
}
