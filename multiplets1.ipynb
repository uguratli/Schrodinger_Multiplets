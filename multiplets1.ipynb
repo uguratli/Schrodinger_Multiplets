{
 "cells": [
  {
   "cell_type": "code",
   "execution_count": 1,
   "metadata": {},
   "outputs": [],
   "source": [
    "import sympy as sym\n",
    "import numpy as np\n",
    "import cmath\n",
    "from sympy import I\n",
    "from sympy.physics.quantum import TensorProduct"
   ]
  },
  {
   "cell_type": "code",
   "execution_count": 49,
   "metadata": {},
   "outputs": [],
   "source": [
    "import sys"
   ]
  },
  {
   "cell_type": "code",
   "execution_count": 50,
   "metadata": {},
   "outputs": [],
   "source": [
    "import subprocess"
   ]
  },
  {
   "cell_type": "code",
   "execution_count": 2,
   "metadata": {},
   "outputs": [],
   "source": [
    "#####\n",
    "#Gamma0=sym.Matrix([[0 , 0, 1, 0], [0, 0, 0, 1], [-1, 0, 0, 0], [0, -1, 0, 0]])\n",
    "#Gamma1 = sym.Matrix([[0, 0, 0, 1], [0, 0, 1, 0], [0, 1, 0, 0], [1, 0, 0, 0]])\n",
    "#Gamma2 =sym.Matrix([[0, 0, 0, -1*I], [0, 0, 1*I, 0], [0, -1*I, 0, 0], [1*I, 0, 0, 0]])\n",
    "#Gamma3 = sym.Matrix([[0, 0, 1, 0], [0, 0, 0, -1], [1, 0, 0, 0], [0, -1, 0, 0]])\n",
    "#Gamma=[Gamma0,Gamma1,Gamma2,Gamma3]"
   ]
  },
  {
   "cell_type": "code",
   "execution_count": 3,
   "metadata": {},
   "outputs": [],
   "source": [
    "sigma1=sym.Matrix([[0,1],[1,0]])\n",
    "sigma2=sym.Matrix([[0,-I],[I,0]])\n",
    "sigma3=sym.Matrix([[1,0],[0,-1]])"
   ]
  },
  {
   "cell_type": "code",
   "execution_count": 4,
   "metadata": {},
   "outputs": [],
   "source": [
    "gamma0=I*sigma3\n",
    "gamma1=sigma1\n",
    "gamma2=sigma2\n",
    "gamma=[gamma0,gamma1,gamma2]"
   ]
  },
  {
   "cell_type": "code",
   "execution_count": 5,
   "metadata": {},
   "outputs": [],
   "source": [
    "Gamma0=TensorProduct(I*sigma2,sym.eye(sigma1.shape[0]))\n",
    "Gamma1=TensorProduct(sigma1,sigma1)\n",
    "Gamma2=TensorProduct(sigma1,sigma2)\n",
    "Gamma3=TensorProduct(sigma1,sigma3)\n",
    "Gamma=[Gamma0,Gamma1,Gamma2,Gamma3]"
   ]
  },
  {
   "cell_type": "code",
   "execution_count": 6,
   "metadata": {},
   "outputs": [],
   "source": [
    "Gamma_p=(Gamma0+Gamma3)/sym.sqrt(2)\n",
    "Gamma_m=(Gamma0-Gamma3)/sym.sqrt(2)"
   ]
  },
  {
   "cell_type": "code",
   "execution_count": 7,
   "metadata": {},
   "outputs": [],
   "source": [
    "P_p=(sym.eye(Gamma0.shape[0])+Gamma0*Gamma3)/2\n",
    "P_m=(sym.eye(Gamma0.shape[0])-Gamma0*Gamma3)/2"
   ]
  },
  {
   "cell_type": "code",
   "execution_count": 8,
   "metadata": {},
   "outputs": [],
   "source": [
    "Eta_mn=sym.Matrix([[0,-1,0,0],[-1,0,0,0],[0,0,1,0],[0,0,0,1]])\n",
    "eta_mn=sym.Matrix([[-1,0,0],[0,1,0],[0,0,1]])"
   ]
  },
  {
   "cell_type": "code",
   "execution_count": 9,
   "metadata": {},
   "outputs": [],
   "source": [
    "def GammaStar(Gamma):\n",
    "    C=Gamma[0]\n",
    "    for i in range(1,len(Gamma)):\n",
    "        C=C*Gamma[i]\n",
    "    return C*(-I)**int(len(Gamma)/2 +1)"
   ]
  },
  {
   "cell_type": "code",
   "execution_count": 10,
   "metadata": {},
   "outputs": [],
   "source": [
    "def symbol_isupper(x):\n",
    "    x_string=str(x)\n",
    "    return x_string.isupper()\n",
    "def symbol_upper(x):\n",
    "    x_string=str(x).upper()\n",
    "    return sym.symbols(x_string)\n",
    "def symbol_lower(x):\n",
    "    x_string=str(x).lower()\n",
    "    return sym.symbols(x_string)"
   ]
  },
  {
   "cell_type": "code",
   "execution_count": 11,
   "metadata": {},
   "outputs": [],
   "source": [
    "def Bar_4(V):\n",
    "    V=V.transpose()\n",
    "    return I*V*(Gamma3*Gamma1)"
   ]
  },
  {
   "cell_type": "code",
   "execution_count": 12,
   "metadata": {},
   "outputs": [],
   "source": [
    "def Bar_3(V):\n",
    "    V=V.transpose()\n",
    "    return I*V*sigma2"
   ]
  },
  {
   "cell_type": "code",
   "execution_count": 13,
   "metadata": {},
   "outputs": [],
   "source": [
    "def Parser(x):\n",
    "    if x.shape==(4,1):\n",
    "        x_out=sym.Matrix.zeros(2,1)\n",
    "        i=0\n",
    "        for j in range(len(x)):\n",
    "            if x[j]!=0:\n",
    "                x_out[i]=x[j]\n",
    "                i+=1\n",
    "    elif x.shape==(1,4):\n",
    "        x_out=sym.Matrix.zeros(1,2)\n",
    "        i=0\n",
    "        for j in range(len(x)):\n",
    "            if x[j]!=0:\n",
    "                x_out[i]=x[j]\n",
    "                i+=1\n",
    "    return x_out"
   ]
  },
  {
   "cell_type": "code",
   "execution_count": 23,
   "metadata": {},
   "outputs": [],
   "source": [
    "e_p=sym.Symbol(\"epsilon_+\")\n",
    "e_m=sym.Symbol(\"epsilon_-\")\n",
    "e_p=Parser(P_p*e)\n",
    "e_m=I*gamma1*Parser(P_m*e)"
   ]
  },
  {
   "cell_type": "code",
   "execution_count": 30,
   "metadata": {},
   "outputs": [],
   "source": [
    "l_p,l_m=sym.symbols(\"lambda_+,lambda_-\")\n",
    "l_p,l_m=Parser(P_p*l),I*gamma1*Parser(P_m*l)\n"
   ]
  },
  {
   "cell_type": "code",
   "execution_count": 33,
   "metadata": {},
   "outputs": [
    {
     "data": {
      "text/latex": [
       "$\\displaystyle \\left[\\begin{matrix}\\lambda_{0}\\\\- \\overline{\\lambda_{0}}\\end{matrix}\\right]$"
      ],
      "text/plain": [
       "Matrix([\n",
       "[            lambda_0],\n",
       "[-conjugate(lambda_0)]])"
      ]
     },
     "execution_count": 33,
     "metadata": {},
     "output_type": "execute_result"
    }
   ],
   "source": []
  },
  {
   "cell_type": "code",
   "execution_count": 24,
   "metadata": {},
   "outputs": [
    {
     "data": {
      "text/latex": [
       "$\\displaystyle \\left[\\begin{matrix}i \\overline{\\epsilon_{1}}\\\\i \\epsilon_{1}\\end{matrix}\\right]$"
      ],
      "text/plain": [
       "Matrix([\n",
       "[I*conjugate(epsilon_1)],\n",
       "[           I*epsilon_1]])"
      ]
     },
     "execution_count": 24,
     "metadata": {},
     "output_type": "execute_result"
    }
   ],
   "source": [
    "e_m"
   ]
  },
  {
   "cell_type": "code",
   "execution_count": 25,
   "metadata": {},
   "outputs": [
    {
     "data": {
      "text/latex": [
       "$\\displaystyle \\left[\\begin{matrix}\\epsilon_{0}\\\\- \\overline{\\epsilon_{0}}\\end{matrix}\\right]$"
      ],
      "text/plain": [
       "Matrix([\n",
       "[            epsilon_0],\n",
       "[-conjugate(epsilon_0)]])"
      ]
     },
     "execution_count": 25,
     "metadata": {},
     "output_type": "execute_result"
    }
   ],
   "source": [
    "e_p"
   ]
  },
  {
   "cell_type": "code",
   "execution_count": 80,
   "metadata": {},
   "outputs": [
    {
     "data": {
      "text/latex": [
       "$\\displaystyle \\left[\\begin{matrix}1 & 0\\\\0 & -1\\end{matrix}\\right]$"
      ],
      "text/plain": [
       "Matrix([\n",
       "[1,  0],\n",
       "[0, -1]])"
      ]
     },
     "execution_count": 80,
     "metadata": {},
     "output_type": "execute_result"
    }
   ],
   "source": [
    "sigma3"
   ]
  },
  {
   "cell_type": "code",
   "execution_count": 77,
   "metadata": {},
   "outputs": [
    {
     "data": {
      "text/latex": [
       "$\\displaystyle \\left[\\begin{matrix}0 & - i\\\\i & 0\\end{matrix}\\right]$"
      ],
      "text/plain": [
       "Matrix([\n",
       "[0, -I],\n",
       "[I,  0]])"
      ]
     },
     "execution_count": 77,
     "metadata": {},
     "output_type": "execute_result"
    }
   ],
   "source": [
    "gamma2"
   ]
  },
  {
   "cell_type": "code",
   "execution_count": 76,
   "metadata": {},
   "outputs": [
    {
     "data": {
      "text/latex": [
       "$\\displaystyle \\left[\\begin{matrix}0 & 0 & 0 & - i\\\\0 & 0 & i & 0\\\\0 & - i & 0 & 0\\\\i & 0 & 0 & 0\\end{matrix}\\right]$"
      ],
      "text/plain": [
       "Matrix([\n",
       "[0,  0, 0, -I],\n",
       "[0,  0, I,  0],\n",
       "[0, -I, 0,  0],\n",
       "[I,  0, 0,  0]])"
      ]
     },
     "execution_count": 76,
     "metadata": {},
     "output_type": "execute_result"
    }
   ],
   "source": [
    "Gamma2"
   ]
  },
  {
   "cell_type": "code",
   "execution_count": 14,
   "metadata": {},
   "outputs": [],
   "source": [
    "x=sym.Symbol(\"x\")\n",
    "test_v=sym.Matrix([x,-x.conjugate()])"
   ]
  },
  {
   "cell_type": "code",
   "execution_count": 15,
   "metadata": {},
   "outputs": [
    {
     "data": {
      "text/latex": [
       "$\\displaystyle \\left[\\begin{matrix}-1 & 0 & 0\\\\0 & 1 & 0\\\\0 & 0 & 1\\end{matrix}\\right]$"
      ],
      "text/plain": [
       "Matrix([\n",
       "[-1, 0, 0],\n",
       "[ 0, 1, 0],\n",
       "[ 0, 0, 1]])"
      ]
     },
     "execution_count": 15,
     "metadata": {},
     "output_type": "execute_result"
    }
   ],
   "source": [
    "Eta_mn=sym.Matrix([[0,-1,0,0],[-1,0,0,0],[0,0,1,0],[0,0,0,1]])\n",
    "eta_mn=sym.Matrix([[-1,0,0],[0,1,0],[0,0,1]])\n",
    "eta_mn"
   ]
  },
  {
   "cell_type": "code",
   "execution_count": 16,
   "metadata": {},
   "outputs": [
    {
     "data": {
      "text/latex": [
       "$\\displaystyle \\left[\\begin{matrix}-1 & 0 & 0 & 0\\\\0 & -1 & 0 & 0\\\\0 & 0 & 1 & 0\\\\0 & 0 & 0 & 1\\end{matrix}\\right]$"
      ],
      "text/plain": [
       "Matrix([\n",
       "[-1,  0, 0, 0],\n",
       "[ 0, -1, 0, 0],\n",
       "[ 0,  0, 1, 0],\n",
       "[ 0,  0, 0, 1]])"
      ]
     },
     "execution_count": 16,
     "metadata": {},
     "output_type": "execute_result"
    }
   ],
   "source": [
    "GammaStar(Gamma)"
   ]
  },
  {
   "cell_type": "code",
   "execution_count": 17,
   "metadata": {},
   "outputs": [
    {
     "data": {
      "text/latex": [
       "$\\displaystyle \\left[\\begin{matrix}-1 & 0 & 0 & 0\\\\0 & 0 & 0 & 0\\\\0 & 0 & 0 & 0\\\\0 & 0 & 0 & 1\\end{matrix}\\right]$"
      ],
      "text/plain": [
       "Matrix([\n",
       "[-1, 0, 0, 0],\n",
       "[ 0, 0, 0, 0],\n",
       "[ 0, 0, 0, 0],\n",
       "[ 0, 0, 0, 1]])"
      ]
     },
     "execution_count": 17,
     "metadata": {},
     "output_type": "execute_result"
    }
   ],
   "source": [
    "P_p*GammaStar(Gamma)"
   ]
  },
  {
   "cell_type": "code",
   "execution_count": 14,
   "metadata": {},
   "outputs": [],
   "source": [
    "a,b=sym.symbols(\"epsilon_0,epsilon_1\")\n",
    "x,y=sym.symbols(\"lambda_0,lambda_1\")\n",
    "e=sym.Matrix([a,b,b.conjugate(),-a.conjugate()])\n",
    "l=sym.Matrix([x,y,y.conjugate(),-x.conjugate()])"
   ]
  },
  {
   "cell_type": "code",
   "execution_count": 22,
   "metadata": {},
   "outputs": [
    {
     "data": {
      "text/latex": [
       "$\\displaystyle \\overline{\\lambda_{0}}$"
      ],
      "text/plain": [
       "conjugate(lambda_0)"
      ]
     },
     "execution_count": 22,
     "metadata": {},
     "output_type": "execute_result"
    }
   ],
   "source": [
    "x.conjugate()"
   ]
  },
  {
   "cell_type": "code",
   "execution_count": 23,
   "metadata": {},
   "outputs": [
    {
     "data": {
      "text/latex": [
       "$\\displaystyle \\left[\\begin{matrix}- i \\epsilon_{1} & i \\epsilon_{0} & i \\overline{\\epsilon_{0}} & i \\overline{\\epsilon_{1}}\\end{matrix}\\right]$"
      ],
      "text/plain": [
       "Matrix([[-I*epsilon_1, I*epsilon_0, I*conjugate(epsilon_0), I*conjugate(epsilon_1)]])"
      ]
     },
     "execution_count": 23,
     "metadata": {},
     "output_type": "execute_result"
    }
   ],
   "source": [
    "Bar_4(e)"
   ]
  },
  {
   "cell_type": "code",
   "execution_count": 48,
   "metadata": {},
   "outputs": [
    {
     "name": "stdout",
     "output_type": "stream",
     "text": [
      "y\n",
      "y\n",
      "y\n",
      "y\n"
     ]
    }
   ],
   "source": [
    "f=sym.Matrix.zeros(4,1)\n",
    "for i in range(len(f)):\n",
    "    if f[i]==0:\n",
    "        print(\"y\")"
   ]
  },
  {
   "cell_type": "code",
   "execution_count": null,
   "metadata": {},
   "outputs": [],
   "source": []
  },
  {
   "cell_type": "code",
   "execution_count": 47,
   "metadata": {},
   "outputs": [
    {
     "data": {
      "text/latex": [
       "$\\displaystyle \\left[\\begin{matrix}\\epsilon_{0}\\\\\\epsilon_{1}\\\\\\overline{\\epsilon_{1}}\\\\- \\overline{\\epsilon_{0}}\\end{matrix}\\right]$"
      ],
      "text/plain": [
       "Matrix([\n",
       "[            epsilon_0],\n",
       "[            epsilon_1],\n",
       "[ conjugate(epsilon_1)],\n",
       "[-conjugate(epsilon_0)]])"
      ]
     },
     "execution_count": 47,
     "metadata": {},
     "output_type": "execute_result"
    }
   ],
   "source": [
    "f"
   ]
  },
  {
   "cell_type": "code",
   "execution_count": null,
   "metadata": {},
   "outputs": [],
   "source": [
    "for i in range(len(e))"
   ]
  },
  {
   "cell_type": "code",
   "execution_count": 59,
   "metadata": {},
   "outputs": [],
   "source": [
    "def Parser(x):\n",
    "    if x.shape==(4,1):\n",
    "        x_out=sym.Matrix.zeros(2,1)\n",
    "        i=0\n",
    "        for j in range(len(x)):\n",
    "            if x[j]!=0:\n",
    "                x_out[i]=x[j]\n",
    "                i+=1\n",
    "    elif x.shape==(1,4):\n",
    "        x_out=sym.Matrix.zeros(1,2)\n",
    "        i=0\n",
    "        for j in range(len(x)):\n",
    "            if x[j]!=0:\n",
    "                x_out[i]=x[j]\n",
    "                i+=1\n",
    "    return x_out\n",
    "\n",
    "\n",
    "\n",
    "        "
   ]
  },
  {
   "cell_type": "code",
   "execution_count": null,
   "metadata": {},
   "outputs": [],
   "source": []
  },
  {
   "cell_type": "code",
   "execution_count": 55,
   "metadata": {},
   "outputs": [
    {
     "name": "stdout",
     "output_type": "stream",
     "text": [
      "y\n",
      "epsilon_0\n",
      "y\n",
      "epsilon_1\n",
      "y\n",
      "conjugate(epsilon_1)\n",
      "y\n",
      "-conjugate(epsilon_0)\n"
     ]
    }
   ],
   "source": [
    "for i in range(len(e)):\n",
    "    if e[i]!=0:\n",
    "        print(\"y\")\n",
    "        print(e[i])"
   ]
  },
  {
   "cell_type": "code",
   "execution_count": 71,
   "metadata": {},
   "outputs": [
    {
     "data": {
      "text/latex": [
       "$\\displaystyle \\left[\\begin{matrix}\\epsilon_{0}\\\\0\\\\0\\\\- \\overline{\\epsilon_{0}}\\end{matrix}\\right]$"
      ],
      "text/plain": [
       "Matrix([\n",
       "[            epsilon_0],\n",
       "[                    0],\n",
       "[                    0],\n",
       "[-conjugate(epsilon_0)]])"
      ]
     },
     "execution_count": 71,
     "metadata": {},
     "output_type": "execute_result"
    }
   ],
   "source": [
    "e_p=P_p*e\n",
    "e_p"
   ]
  },
  {
   "cell_type": "code",
   "execution_count": 72,
   "metadata": {},
   "outputs": [
    {
     "data": {
      "text/plain": [
       "(4, 1)"
      ]
     },
     "execution_count": 72,
     "metadata": {},
     "output_type": "execute_result"
    }
   ],
   "source": [
    "e_p.shape"
   ]
  },
  {
   "cell_type": "code",
   "execution_count": 75,
   "metadata": {},
   "outputs": [
    {
     "data": {
      "text/latex": [
       "$\\displaystyle \\left[\\begin{matrix}\\epsilon_{0} & - \\overline{\\epsilon_{0}}\\end{matrix}\\right]$"
      ],
      "text/plain": [
       "Matrix([[epsilon_0, -conjugate(epsilon_0)]])"
      ]
     },
     "execution_count": 75,
     "metadata": {},
     "output_type": "execute_result"
    }
   ],
   "source": [
    "Parser(e_p)"
   ]
  },
  {
   "cell_type": "code",
   "execution_count": 73,
   "metadata": {},
   "outputs": [],
   "source": [
    "e_p=e_p.transpose()"
   ]
  },
  {
   "cell_type": "code",
   "execution_count": 74,
   "metadata": {},
   "outputs": [
    {
     "data": {
      "text/plain": [
       "(1, 4)"
      ]
     },
     "execution_count": 74,
     "metadata": {},
     "output_type": "execute_result"
    }
   ],
   "source": [
    "e_p.shape"
   ]
  },
  {
   "cell_type": "code",
   "execution_count": 64,
   "metadata": {},
   "outputs": [
    {
     "ename": "AttributeError",
     "evalue": "'function' object has no attribute 'shape'",
     "output_type": "error",
     "traceback": [
      "\u001b[0;31m---------------------------------------------------------------------------\u001b[0m",
      "\u001b[0;31mAttributeError\u001b[0m                            Traceback (most recent call last)",
      "Cell \u001b[0;32mIn[64], line 1\u001b[0m\n\u001b[0;32m----> 1\u001b[0m Parser(e_p)\n",
      "Cell \u001b[0;32mIn[59], line 2\u001b[0m, in \u001b[0;36mParser\u001b[0;34m(x)\u001b[0m\n\u001b[1;32m      1\u001b[0m \u001b[39mdef\u001b[39;00m \u001b[39mParser\u001b[39m(x):\n\u001b[0;32m----> 2\u001b[0m     \u001b[39mif\u001b[39;00m x\u001b[39m.\u001b[39;49mshape\u001b[39m==\u001b[39m(\u001b[39m4\u001b[39m,\u001b[39m1\u001b[39m):\n\u001b[1;32m      3\u001b[0m         x_out\u001b[39m=\u001b[39msym\u001b[39m.\u001b[39mMatrix\u001b[39m.\u001b[39mzeros(\u001b[39m2\u001b[39m,\u001b[39m1\u001b[39m)\n\u001b[1;32m      4\u001b[0m         i\u001b[39m=\u001b[39m\u001b[39m0\u001b[39m\n",
      "\u001b[0;31mAttributeError\u001b[0m: 'function' object has no attribute 'shape'"
     ]
    }
   ],
   "source": [
    "Parser(e_p)"
   ]
  },
  {
   "cell_type": "code",
   "execution_count": 31,
   "metadata": {},
   "outputs": [
    {
     "name": "stdout",
     "output_type": "stream",
     "text": [
      "n\n"
     ]
    }
   ],
   "source": [
    "if e.transpose().shape==(4,1):print(\"y\")\n",
    "else:print(\"n\")"
   ]
  },
  {
   "cell_type": "code",
   "execution_count": 36,
   "metadata": {},
   "outputs": [],
   "source": [
    "v1=Bar_4(e)*Gamma_p*l"
   ]
  },
  {
   "cell_type": "code",
   "execution_count": 56,
   "metadata": {},
   "outputs": [
    {
     "data": {
      "text/latex": [
       "$\\displaystyle \\left[\\begin{matrix}0 & -1 & 0 & 0\\\\-1 & 0 & 0 & 0\\\\0 & 0 & 1 & 0\\\\0 & 0 & 0 & 1\\end{matrix}\\right]$"
      ],
      "text/plain": [
       "Matrix([\n",
       "[ 0, -1, 0, 0],\n",
       "[-1,  0, 0, 0],\n",
       "[ 0,  0, 1, 0],\n",
       "[ 0,  0, 0, 1]])"
      ]
     },
     "execution_count": 56,
     "metadata": {},
     "output_type": "execute_result"
    }
   ],
   "source": [
    "Eta_mn"
   ]
  },
  {
   "cell_type": "code",
   "execution_count": 59,
   "metadata": {},
   "outputs": [
    {
     "data": {
      "text/latex": [
       "$\\displaystyle \\left[\\begin{matrix}1 & 0 & 0 & 0\\\\0 & 1 & 0 & 0\\\\0 & 0 & 1 & 0\\\\0 & 0 & 0 & 1\\end{matrix}\\right]$"
      ],
      "text/plain": [
       "Matrix([\n",
       "[1, 0, 0, 0],\n",
       "[0, 1, 0, 0],\n",
       "[0, 0, 1, 0],\n",
       "[0, 0, 0, 1]])"
      ]
     },
     "execution_count": 59,
     "metadata": {},
     "output_type": "execute_result"
    }
   ],
   "source": [
    "sym.eye(4)"
   ]
  },
  {
   "cell_type": "code",
   "execution_count": 58,
   "metadata": {},
   "outputs": [
    {
     "data": {
      "text/latex": [
       "$\\displaystyle 0$"
      ],
      "text/plain": [
       "0"
      ]
     },
     "execution_count": 58,
     "metadata": {},
     "output_type": "execute_result"
    }
   ],
   "source": [
    "Eta_mn[2,3]"
   ]
  },
  {
   "cell_type": "code",
   "execution_count": 71,
   "metadata": {},
   "outputs": [],
   "source": [
    "def Gamma_ij(i,j):\n",
    "    ##2\\eta^{\\mu \\nu}=\\gamma^{\\mu}\\gamma^{\\nu}+\\gamma^{\\nu}\\gamma^{\\mu}\n",
    "    ##2\\gamma^{\\mu \\nu}=\\gamma^{\\mu}\\gamma^{\\nu}-\\gamma^{\\nu}\\gamma^{\\mu}\n",
    "    Gamma_ij=Gamma[i]*Gamma[j]-Eta_mn[i,j]*sym.eye(4)\n",
    "    return Gamma_ij"
   ]
  },
  {
   "cell_type": "code",
   "execution_count": 65,
   "metadata": {},
   "outputs": [],
   "source": [
    "def gamma_ij(i,j):\n",
    "    ##2\\eta^{\\mu \\nu}=\\gamma^{\\mu}\\gamma^{\\nu}+\\gamma^{\\nu}\\gamma^{\\mu}\n",
    "    ##2\\gamma^{\\mu \\nu}=\\gamma^{\\mu}\\gamma^{\\nu}-\\gamma^{\\nu}\\gamma^{\\mu}\n",
    "    gamma_ij=gamma[i]*gamma[j]-eta_mn[i,j]*sym.eye(2)\n",
    "    return gamma_ij"
   ]
  },
  {
   "cell_type": "code",
   "execution_count": 76,
   "metadata": {},
   "outputs": [
    {
     "data": {
      "text/latex": [
       "$\\displaystyle \\left[\\begin{matrix}0 & - i & 0 & 0\\\\- i & 0 & 0 & 0\\\\0 & 0 & 0 & - i\\\\0 & 0 & - i & 0\\end{matrix}\\right]$"
      ],
      "text/plain": [
       "Matrix([\n",
       "[ 0, -I,  0,  0],\n",
       "[-I,  0,  0,  0],\n",
       "[ 0,  0,  0, -I],\n",
       "[ 0,  0, -I,  0]])"
      ]
     },
     "execution_count": 76,
     "metadata": {},
     "output_type": "execute_result"
    }
   ],
   "source": [
    "Gamma_ij(3,2)"
   ]
  },
  {
   "cell_type": "code",
   "execution_count": 67,
   "metadata": {},
   "outputs": [
    {
     "data": {
      "text/latex": [
       "$\\displaystyle \\left[\\begin{matrix}0 & i\\\\- i & 0\\end{matrix}\\right]$"
      ],
      "text/plain": [
       "Matrix([\n",
       "[ 0, I],\n",
       "[-I, 0]])"
      ]
     },
     "execution_count": 67,
     "metadata": {},
     "output_type": "execute_result"
    }
   ],
   "source": [
    "gamma_ij(0,1)"
   ]
  },
  {
   "cell_type": "code",
   "execution_count": 62,
   "metadata": {},
   "outputs": [
    {
     "data": {
      "text/latex": [
       "$\\displaystyle \\left[\\begin{matrix}0 & 0 & 1 & 0\\\\0 & 0 & 0 & 1\\\\-1 & 0 & 0 & 0\\\\0 & -1 & 0 & 0\\end{matrix}\\right]$"
      ],
      "text/plain": [
       "Matrix([\n",
       "[ 0,  0, 1, 0],\n",
       "[ 0,  0, 0, 1],\n",
       "[-1,  0, 0, 0],\n",
       "[ 0, -1, 0, 0]])"
      ]
     },
     "execution_count": 62,
     "metadata": {},
     "output_type": "execute_result"
    }
   ],
   "source": [
    "Gamma[0]"
   ]
  },
  {
   "cell_type": "code",
   "execution_count": 63,
   "metadata": {},
   "outputs": [
    {
     "data": {
      "text/latex": [
       "$\\displaystyle \\left[\\begin{matrix}0 & 0 & 0 & 1\\\\0 & 0 & 1 & 0\\\\0 & 1 & 0 & 0\\\\1 & 0 & 0 & 0\\end{matrix}\\right]$"
      ],
      "text/plain": [
       "Matrix([\n",
       "[0, 0, 0, 1],\n",
       "[0, 0, 1, 0],\n",
       "[0, 1, 0, 0],\n",
       "[1, 0, 0, 0]])"
      ]
     },
     "execution_count": 63,
     "metadata": {},
     "output_type": "execute_result"
    }
   ],
   "source": [
    "Gamma[1]"
   ]
  },
  {
   "cell_type": "code",
   "execution_count": 64,
   "metadata": {},
   "outputs": [
    {
     "data": {
      "text/latex": [
       "$\\displaystyle -1$"
      ],
      "text/plain": [
       "-1"
      ]
     },
     "execution_count": 64,
     "metadata": {},
     "output_type": "execute_result"
    }
   ],
   "source": [
    "Eta_mn[0,1]"
   ]
  },
  {
   "cell_type": "code",
   "execution_count": 53,
   "metadata": {},
   "outputs": [
    {
     "data": {
      "text/plain": [
       "2"
      ]
     },
     "execution_count": 53,
     "metadata": {},
     "output_type": "execute_result"
    }
   ],
   "source": [
    "gamma0.shape[1]"
   ]
  },
  {
   "cell_type": "code",
   "execution_count": 38,
   "metadata": {},
   "outputs": [
    {
     "data": {
      "text/latex": [
       "$\\displaystyle \\left[\\begin{matrix}i \\overline{\\epsilon_{1}}\\\\i \\epsilon_{1}\\end{matrix}\\right]$"
      ],
      "text/plain": [
       "Matrix([\n",
       "[I*conjugate(epsilon_1)],\n",
       "[           I*epsilon_1]])"
      ]
     },
     "execution_count": 38,
     "metadata": {},
     "output_type": "execute_result"
    }
   ],
   "source": [
    "e_m"
   ]
  },
  {
   "cell_type": "code",
   "execution_count": 39,
   "metadata": {},
   "outputs": [
    {
     "data": {
      "text/latex": [
       "$\\displaystyle \\left[\\begin{matrix}- i \\epsilon_{1} & i \\overline{\\epsilon_{1}}\\end{matrix}\\right]$"
      ],
      "text/plain": [
       "Matrix([[-I*epsilon_1, I*conjugate(epsilon_1)]])"
      ]
     },
     "execution_count": 39,
     "metadata": {},
     "output_type": "execute_result"
    }
   ],
   "source": [
    "bar_e_m=Bar_3(e_m)"
   ]
  },
  {
   "cell_type": "code",
   "execution_count": 41,
   "metadata": {},
   "outputs": [
    {
     "data": {
      "text/latex": [
       "$\\displaystyle \\left[\\begin{matrix}i \\overline{\\lambda_{1}}\\\\i \\lambda_{1}\\end{matrix}\\right]$"
      ],
      "text/plain": [
       "Matrix([\n",
       "[I*conjugate(lambda_1)],\n",
       "[           I*lambda_1]])"
      ]
     },
     "execution_count": 41,
     "metadata": {},
     "output_type": "execute_result"
    }
   ],
   "source": [
    "l_m"
   ]
  },
  {
   "cell_type": "code",
   "execution_count": 42,
   "metadata": {},
   "outputs": [
    {
     "data": {
      "text/latex": [
       "$\\displaystyle \\left[\\begin{matrix}- \\sqrt{2} i \\epsilon_{1} \\overline{\\lambda_{1}} - \\sqrt{2} i \\lambda_{1} \\overline{\\epsilon_{1}}\\end{matrix}\\right]$"
      ],
      "text/plain": [
       "Matrix([[-sqrt(2)*I*epsilon_1*conjugate(lambda_1) - sqrt(2)*I*lambda_1*conjugate(epsilon_1)]])"
      ]
     },
     "execution_count": 42,
     "metadata": {},
     "output_type": "execute_result"
    }
   ],
   "source": [
    "v1"
   ]
  },
  {
   "cell_type": "code",
   "execution_count": 45,
   "metadata": {},
   "outputs": [],
   "source": [
    "test2=Bar_3(e_m)*gamma0*l_m"
   ]
  },
  {
   "cell_type": "code",
   "execution_count": 46,
   "metadata": {},
   "outputs": [
    {
     "data": {
      "text/latex": [
       "$\\displaystyle \\left[\\begin{matrix}i \\epsilon_{1} \\overline{\\lambda_{1}} + i \\lambda_{1} \\overline{\\epsilon_{1}}\\end{matrix}\\right]$"
      ],
      "text/plain": [
       "Matrix([[I*epsilon_1*conjugate(lambda_1) + I*lambda_1*conjugate(epsilon_1)]])"
      ]
     },
     "execution_count": 46,
     "metadata": {},
     "output_type": "execute_result"
    }
   ],
   "source": [
    "test2"
   ]
  },
  {
   "cell_type": "code",
   "execution_count": 239,
   "metadata": {},
   "outputs": [
    {
     "data": {
      "text/latex": [
       "$\\displaystyle \\left[\\begin{matrix}x & \\overline{x}\\end{matrix}\\right]$"
      ],
      "text/plain": [
       "Matrix([[x, conjugate(x)]])"
      ]
     },
     "execution_count": 239,
     "metadata": {},
     "output_type": "execute_result"
    }
   ],
   "source": [
    "new_test_v=test_v.transpose()\n",
    "new_test_v"
   ]
  },
  {
   "cell_type": "code",
   "execution_count": 241,
   "metadata": {},
   "outputs": [
    {
     "data": {
      "text/latex": [
       "$\\displaystyle \\left[\\begin{matrix}- \\overline{x} & x\\end{matrix}\\right]$"
      ],
      "text/plain": [
       "Matrix([[-conjugate(x), x]])"
      ]
     },
     "execution_count": 241,
     "metadata": {},
     "output_type": "execute_result"
    }
   ],
   "source": [
    "I*new_test_v*sigma2"
   ]
  },
  {
   "cell_type": "code",
   "execution_count": null,
   "metadata": {},
   "outputs": [],
   "source": []
  },
  {
   "cell_type": "code",
   "execution_count": 246,
   "metadata": {},
   "outputs": [
    {
     "data": {
      "text/latex": [
       "$\\displaystyle \\left[\\begin{matrix}\\overline{x} & x\\end{matrix}\\right]$"
      ],
      "text/plain": [
       "Matrix([[conjugate(x), x]])"
      ]
     },
     "execution_count": 246,
     "metadata": {},
     "output_type": "execute_result"
    }
   ],
   "source": [
    "Bar_3(test_v)"
   ]
  },
  {
   "cell_type": "code",
   "execution_count": 48,
   "metadata": {},
   "outputs": [
    {
     "data": {
      "text/latex": [
       "$\\displaystyle \\left[\\begin{matrix}\\sqrt{2} i \\left(- \\epsilon_{1} \\overline{\\lambda_{1}} - \\lambda_{1} \\overline{\\epsilon_{1}}\\right)\\end{matrix}\\right]$"
      ],
      "text/plain": [
       "Matrix([[sqrt(2)*I*(-epsilon_1*conjugate(lambda_1) - lambda_1*conjugate(epsilon_1))]])"
      ]
     },
     "execution_count": 48,
     "metadata": {},
     "output_type": "execute_result"
    }
   ],
   "source": [
    "sym.simplify(v1)"
   ]
  },
  {
   "cell_type": "code",
   "execution_count": 66,
   "metadata": {},
   "outputs": [],
   "source": [
    "Gamma_p=(Gamma0+Gamma3)/sym.sqrt(2)\n",
    "Gamma_m=(Gamma0-Gamma3)/sym.sqrt(2)"
   ]
  },
  {
   "cell_type": "code",
   "execution_count": 67,
   "metadata": {},
   "outputs": [
    {
     "data": {
      "text/plain": [
       "sympy.matrices.dense.MutableDenseMatrix"
      ]
     },
     "execution_count": 67,
     "metadata": {},
     "output_type": "execute_result"
    }
   ],
   "source": [
    "type(Gamma_p)"
   ]
  },
  {
   "cell_type": "code",
   "execution_count": 149,
   "metadata": {},
   "outputs": [],
   "source": [
    "a,A,b,B=sym.symbols(\"a,A,b,B\")\n",
    "test_V=sym.Matrix([a,b,B,-A])\n",
    "c=sym.Symbol(\"C\",real=True)"
   ]
  },
  {
   "cell_type": "code",
   "execution_count": 139,
   "metadata": {},
   "outputs": [],
   "source": [
    "test_V=test_V.transpose()"
   ]
  },
  {
   "cell_type": "code",
   "execution_count": 150,
   "metadata": {},
   "outputs": [
    {
     "data": {
      "text/latex": [
       "$\\displaystyle \\left[\\begin{matrix}a\\\\b\\\\B\\\\- A\\end{matrix}\\right]$"
      ],
      "text/plain": [
       "Matrix([\n",
       "[ a],\n",
       "[ b],\n",
       "[ B],\n",
       "[-A]])"
      ]
     },
     "execution_count": 150,
     "metadata": {},
     "output_type": "execute_result"
    }
   ],
   "source": [
    "test_V"
   ]
  },
  {
   "cell_type": "code",
   "execution_count": 141,
   "metadata": {},
   "outputs": [
    {
     "data": {
      "text/latex": [
       "$\\displaystyle \\left[\\begin{matrix}- b & a & A & B\\end{matrix}\\right]$"
      ],
      "text/plain": [
       "Matrix([[-b, a, A, B]])"
      ]
     },
     "execution_count": 141,
     "metadata": {},
     "output_type": "execute_result"
    }
   ],
   "source": [
    "test_V*Gamma3*Gamma1"
   ]
  },
  {
   "cell_type": "code",
   "execution_count": 156,
   "metadata": {},
   "outputs": [],
   "source": [
    "a,b=sym.symbols(\"a,b\")\n",
    "test_V=sym.Matrix([a,b,b.conjugate(),-a.conjugate()])"
   ]
  },
  {
   "cell_type": "code",
   "execution_count": 157,
   "metadata": {},
   "outputs": [
    {
     "data": {
      "text/latex": [
       "$\\displaystyle \\left[\\begin{matrix}a\\\\b\\\\\\overline{b}\\\\- \\overline{a}\\end{matrix}\\right]$"
      ],
      "text/plain": [
       "Matrix([\n",
       "[            a],\n",
       "[            b],\n",
       "[ conjugate(b)],\n",
       "[-conjugate(a)]])"
      ]
     },
     "execution_count": 157,
     "metadata": {},
     "output_type": "execute_result"
    }
   ],
   "source": [
    "test_V"
   ]
  },
  {
   "cell_type": "code",
   "execution_count": 160,
   "metadata": {},
   "outputs": [],
   "source": [
    "def Bar_four(V,complex=True):\n",
    "    V=V.transpose()\n",
    "    return I*V*(Gamma3*Gamma1)\n"
   ]
  },
  {
   "cell_type": "code",
   "execution_count": 161,
   "metadata": {},
   "outputs": [
    {
     "data": {
      "text/latex": [
       "$\\displaystyle \\left[\\begin{matrix}- i b & i a & i \\overline{a} & i \\overline{b}\\end{matrix}\\right]$"
      ],
      "text/plain": [
       "Matrix([[-I*b, I*a, I*conjugate(a), I*conjugate(b)]])"
      ]
     },
     "execution_count": 161,
     "metadata": {},
     "output_type": "execute_result"
    }
   ],
   "source": [
    "Bar_four(test_V)"
   ]
  },
  {
   "cell_type": "code",
   "execution_count": 144,
   "metadata": {},
   "outputs": [
    {
     "data": {
      "text/latex": [
       "$\\displaystyle b$"
      ],
      "text/plain": [
       "b"
      ]
     },
     "execution_count": 144,
     "metadata": {},
     "output_type": "execute_result"
    }
   ],
   "source": [
    "test_V[3]=test_V[1]\n",
    "test_V[3]"
   ]
  },
  {
   "cell_type": "code",
   "execution_count": 152,
   "metadata": {},
   "outputs": [],
   "source": [
    "x=sym.Symbol(\"x\")\n",
    "test_m=sym.Matrix([x,x.conjugate()])"
   ]
  },
  {
   "cell_type": "code",
   "execution_count": 153,
   "metadata": {},
   "outputs": [
    {
     "data": {
      "text/latex": [
       "$\\displaystyle \\left[\\begin{matrix}x\\\\\\overline{x}\\end{matrix}\\right]$"
      ],
      "text/plain": [
       "Matrix([\n",
       "[           x],\n",
       "[conjugate(x)]])"
      ]
     },
     "execution_count": 153,
     "metadata": {},
     "output_type": "execute_result"
    }
   ],
   "source": [
    "test_m"
   ]
  },
  {
   "cell_type": "code",
   "execution_count": 154,
   "metadata": {},
   "outputs": [
    {
     "data": {
      "text/latex": [
       "$\\displaystyle \\left[\\begin{matrix}\\overline{x}\\\\x\\end{matrix}\\right]$"
      ],
      "text/plain": [
       "Matrix([\n",
       "[conjugate(x)],\n",
       "[           x]])"
      ]
     },
     "execution_count": 154,
     "metadata": {},
     "output_type": "execute_result"
    }
   ],
   "source": [
    "test_m.conjugate()"
   ]
  },
  {
   "cell_type": "code",
   "execution_count": 147,
   "metadata": {},
   "outputs": [
    {
     "data": {
      "text/plain": [
       "sympy.core.symbol.Symbol"
      ]
     },
     "execution_count": 147,
     "metadata": {},
     "output_type": "execute_result"
    }
   ],
   "source": [
    "j=symbol_upper(a)\n",
    "type(j)"
   ]
  },
  {
   "cell_type": "code",
   "execution_count": 151,
   "metadata": {},
   "outputs": [
    {
     "name": "stdout",
     "output_type": "stream",
     "text": [
      "B\n",
      "b\n",
      "-A\n",
      "-a\n"
     ]
    },
    {
     "data": {
      "text/latex": [
       "$\\displaystyle \\left[\\begin{matrix}A & B & b & -a\\end{matrix}\\right]$"
      ],
      "text/plain": [
       "Matrix([[A, B, b, -a]])"
      ]
     },
     "execution_count": 151,
     "metadata": {},
     "output_type": "execute_result"
    }
   ],
   "source": [
    "Bar_four(test_V)"
   ]
  },
  {
   "cell_type": "code",
   "execution_count": 113,
   "metadata": {},
   "outputs": [],
   "source": [
    "H=A"
   ]
  },
  {
   "cell_type": "code",
   "execution_count": null,
   "metadata": {},
   "outputs": [],
   "source": [
    "sym.Syo"
   ]
  },
  {
   "cell_type": "code",
   "execution_count": 102,
   "metadata": {},
   "outputs": [],
   "source": [
    "h=str(H)"
   ]
  },
  {
   "cell_type": "code",
   "execution_count": 118,
   "metadata": {},
   "outputs": [],
   "source": [
    "if symbol_isupper(hh):\n",
    "    print(\"y\")"
   ]
  },
  {
   "cell_type": "code",
   "execution_count": 104,
   "metadata": {},
   "outputs": [
    {
     "data": {
      "text/plain": [
       "'A + 1'"
      ]
     },
     "execution_count": 104,
     "metadata": {},
     "output_type": "execute_result"
    }
   ],
   "source": [
    "h"
   ]
  },
  {
   "cell_type": "code",
   "execution_count": 114,
   "metadata": {},
   "outputs": [
    {
     "data": {
      "text/plain": [
       "True"
      ]
     },
     "execution_count": 114,
     "metadata": {},
     "output_type": "execute_result"
    }
   ],
   "source": [
    "h.isupper()"
   ]
  },
  {
   "cell_type": "code",
   "execution_count": 115,
   "metadata": {},
   "outputs": [],
   "source": [
    "hh=symbol_lower(H)"
   ]
  },
  {
   "cell_type": "code",
   "execution_count": 116,
   "metadata": {},
   "outputs": [
    {
     "data": {
      "text/latex": [
       "$\\displaystyle a$"
      ],
      "text/plain": [
       "a"
      ]
     },
     "execution_count": 116,
     "metadata": {},
     "output_type": "execute_result"
    }
   ],
   "source": [
    "hh"
   ]
  },
  {
   "cell_type": "code",
   "execution_count": 95,
   "metadata": {},
   "outputs": [
    {
     "ename": "AttributeError",
     "evalue": "'Add' object has no attribute 'name'",
     "output_type": "error",
     "traceback": [
      "\u001b[1;31m---------------------------------------------------------------------------\u001b[0m",
      "\u001b[1;31mAttributeError\u001b[0m                            Traceback (most recent call last)",
      "Cell \u001b[1;32mIn[95], line 1\u001b[0m\n\u001b[1;32m----> 1\u001b[0m symbol_isupper(H)\n",
      "Cell \u001b[1;32mIn[56], line 2\u001b[0m, in \u001b[0;36msymbol_isupper\u001b[1;34m(x)\u001b[0m\n\u001b[0;32m      1\u001b[0m \u001b[39mdef\u001b[39;00m \u001b[39msymbol_isupper\u001b[39m(x):\n\u001b[1;32m----> 2\u001b[0m     x_string\u001b[39m=\u001b[39m\u001b[39mstr\u001b[39m(x\u001b[39m.\u001b[39;49mname)\n\u001b[0;32m      3\u001b[0m     \u001b[39mreturn\u001b[39;00m x_string\u001b[39m.\u001b[39misupper()\n",
      "\u001b[1;31mAttributeError\u001b[0m: 'Add' object has no attribute 'name'"
     ]
    }
   ],
   "source": [
    "symbol_isupper(H)"
   ]
  },
  {
   "cell_type": "code",
   "execution_count": 18,
   "metadata": {},
   "outputs": [
    {
     "data": {
      "text/plain": [
       "array([[0, 0, 1, 0],\n",
       "       [0, 0, 0, 1],\n",
       "       [1, 0, 0, 0],\n",
       "       [0, 1, 0, 0]])"
      ]
     },
     "execution_count": 18,
     "metadata": {},
     "output_type": "execute_result"
    }
   ],
   "source": [
    "Gamma0=np.array([[0 , 0, 1, 0], [0, 0, 0, 1], [1, 0, 0, 0], [0, 1, 0, 0]])\n",
    "Gamma0"
   ]
  },
  {
   "cell_type": "code",
   "execution_count": 19,
   "metadata": {},
   "outputs": [
    {
     "data": {
      "text/plain": [
       "array([[0, 0, 0, 1],\n",
       "       [0, 0, 1, 0],\n",
       "       [0, 1, 0, 0],\n",
       "       [1, 0, 0, 0]])"
      ]
     },
     "execution_count": 19,
     "metadata": {},
     "output_type": "execute_result"
    }
   ],
   "source": [
    "Gamma1 = np.array([[0, 0, 0, 1], [0, 0, 1, 0], [0, 1, 0, 0], [1, 0, 0, 0]])\n",
    "Gamma1"
   ]
  },
  {
   "cell_type": "code",
   "execution_count": 20,
   "metadata": {},
   "outputs": [
    {
     "data": {
      "text/plain": [
       "array([[ 0.+0.j,  0.+0.j,  0.+0.j, -0.-1.j],\n",
       "       [ 0.+0.j,  0.+0.j,  0.+1.j,  0.+0.j],\n",
       "       [ 0.+0.j, -0.-1.j,  0.+0.j,  0.+0.j],\n",
       "       [ 0.+1.j,  0.+0.j,  0.+0.j,  0.+0.j]])"
      ]
     },
     "execution_count": 20,
     "metadata": {},
     "output_type": "execute_result"
    }
   ],
   "source": [
    "Gamma2 =np.array([[0, 0, 0, -1j], [0, 0, 1j, 0], [0, -1j, 0, 0], [1j, 0, 0, 0]])\n",
    "Gamma2"
   ]
  },
  {
   "cell_type": "code",
   "execution_count": 21,
   "metadata": {},
   "outputs": [
    {
     "data": {
      "text/plain": [
       "array([[ 0.+0.j,  0.+0.j,  0.+0.j, -0.-1.j],\n",
       "       [ 0.+0.j,  0.+0.j,  0.+1.j,  0.+0.j],\n",
       "       [ 0.+0.j, -0.-1.j,  0.+0.j,  0.+0.j],\n",
       "       [ 0.+1.j,  0.+0.j,  0.+0.j,  0.+0.j]])"
      ]
     },
     "execution_count": 21,
     "metadata": {},
     "output_type": "execute_result"
    }
   ],
   "source": [
    "Gamma3 = np.array([[0, 0, 1, 0], [0, 0, 0, -1], [1, 0, 0, 0], [0, -1, 0, 0]])\n",
    "Gamma2"
   ]
  },
  {
   "cell_type": "code",
   "execution_count": 22,
   "metadata": {},
   "outputs": [],
   "source": [
    "Gamma=np.array([Gamma0,Gamma1,Gamma2,Gamma3])"
   ]
  },
  {
   "cell_type": "code",
   "execution_count": 86,
   "metadata": {},
   "outputs": [],
   "source": [
    "C=np.dot(Gamma3,Gamma1)"
   ]
  },
  {
   "cell_type": "code",
   "execution_count": 87,
   "metadata": {},
   "outputs": [
    {
     "data": {
      "text/plain": [
       "array([[ 0,  1,  0,  0],\n",
       "       [-1,  0,  0,  0],\n",
       "       [ 0,  0,  0,  1],\n",
       "       [ 0,  0, -1,  0]])"
      ]
     },
     "execution_count": 87,
     "metadata": {},
     "output_type": "execute_result"
    }
   ],
   "source": [
    "C"
   ]
  },
  {
   "cell_type": "code",
   "execution_count": 24,
   "metadata": {},
   "outputs": [
    {
     "data": {
      "text/plain": [
       "numpy.ndarray"
      ]
     },
     "execution_count": 24,
     "metadata": {},
     "output_type": "execute_result"
    }
   ],
   "source": [
    "type(Gamma0)"
   ]
  },
  {
   "cell_type": "code",
   "execution_count": 25,
   "metadata": {},
   "outputs": [
    {
     "data": {
      "text/plain": [
       "array([[0, 1, 0, 0],\n",
       "       [1, 0, 0, 0],\n",
       "       [0, 0, 0, 1],\n",
       "       [0, 0, 1, 0]])"
      ]
     },
     "execution_count": 25,
     "metadata": {},
     "output_type": "execute_result"
    }
   ],
   "source": [
    "np.matmul(Gamma0,Gamma1)"
   ]
  },
  {
   "cell_type": "code",
   "execution_count": 26,
   "metadata": {},
   "outputs": [
    {
     "data": {
      "text/plain": [
       "array([[0, 0, 0, 0],\n",
       "       [0, 0, 0, 0],\n",
       "       [0, 0, 0, 0],\n",
       "       [0, 0, 0, 0]])"
      ]
     },
     "execution_count": 26,
     "metadata": {},
     "output_type": "execute_result"
    }
   ],
   "source": [
    "Gamma0*Gamma1"
   ]
  },
  {
   "cell_type": "code",
   "execution_count": 27,
   "metadata": {},
   "outputs": [
    {
     "data": {
      "text/plain": [
       "array([[0, 1, 0, 0],\n",
       "       [1, 0, 0, 0],\n",
       "       [0, 0, 0, 1],\n",
       "       [0, 0, 1, 0]])"
      ]
     },
     "execution_count": 27,
     "metadata": {},
     "output_type": "execute_result"
    }
   ],
   "source": [
    "np.dot(Gamma0,Gamma1)"
   ]
  },
  {
   "cell_type": "code",
   "execution_count": 28,
   "metadata": {},
   "outputs": [
    {
     "data": {
      "text/plain": [
       "array([[ 0.+0.j,  0.+0.j,  0.+0.j,  1.-0.j],\n",
       "       [ 0.+0.j,  0.+0.j, -1.+0.j,  0.+0.j],\n",
       "       [ 0.+0.j,  1.-0.j,  0.+0.j,  0.+0.j],\n",
       "       [-1.+0.j,  0.+0.j,  0.+0.j,  0.+0.j]])"
      ]
     },
     "execution_count": 28,
     "metadata": {},
     "output_type": "execute_result"
    }
   ],
   "source": [
    "Gamma2*1j"
   ]
  },
  {
   "cell_type": "code",
   "execution_count": 29,
   "metadata": {},
   "outputs": [
    {
     "data": {
      "text/plain": [
       "array([[ 0.+0.j,  0.+0.j,  0.+0.j, -0.-1.j],\n",
       "       [ 0.+0.j,  0.+0.j,  0.+1.j,  0.+0.j],\n",
       "       [ 0.+0.j, -0.-1.j,  0.+0.j,  0.+0.j],\n",
       "       [ 0.+1.j,  0.+0.j,  0.+0.j,  0.+0.j]])"
      ]
     },
     "execution_count": 29,
     "metadata": {},
     "output_type": "execute_result"
    }
   ],
   "source": [
    "Gamma2"
   ]
  },
  {
   "cell_type": "code",
   "execution_count": 30,
   "metadata": {},
   "outputs": [
    {
     "data": {
      "text/plain": [
       "(4, 4)"
      ]
     },
     "execution_count": 30,
     "metadata": {},
     "output_type": "execute_result"
    }
   ],
   "source": [
    "Gamma[0].shape"
   ]
  },
  {
   "cell_type": "code",
   "execution_count": 31,
   "metadata": {},
   "outputs": [
    {
     "data": {
      "text/plain": [
       "array([[0., 0., 0., 0.],\n",
       "       [0., 0., 0., 0.],\n",
       "       [0., 0., 0., 0.],\n",
       "       [0., 0., 0., 0.]])"
      ]
     },
     "execution_count": 31,
     "metadata": {},
     "output_type": "execute_result"
    }
   ],
   "source": [
    "np.zeros(Gamma[0].shape)"
   ]
  },
  {
   "cell_type": "code",
   "execution_count": 32,
   "metadata": {},
   "outputs": [
    {
     "name": "stdout",
     "output_type": "stream",
     "text": [
      "1\n",
      "2\n",
      "3\n"
     ]
    }
   ],
   "source": [
    "for i in range(1,len(Gamma)):\n",
    "    print(i)"
   ]
  },
  {
   "cell_type": "code",
   "execution_count": 33,
   "metadata": {},
   "outputs": [
    {
     "data": {
      "text/plain": [
       "array([[-0.+0.j, -0.+0.j, -0.+0.j,  0.+1.j],\n",
       "       [-0.+0.j, -0.+0.j, -0.-1.j, -0.+0.j],\n",
       "       [-0.+0.j,  0.+1.j, -0.+0.j, -0.+0.j],\n",
       "       [-0.-1.j, -0.+0.j, -0.+0.j, -0.+0.j]])"
      ]
     },
     "execution_count": 33,
     "metadata": {},
     "output_type": "execute_result"
    }
   ],
   "source": [
    "m=(1j)**2\n",
    "m*Gamma2"
   ]
  },
  {
   "cell_type": "code",
   "execution_count": 34,
   "metadata": {},
   "outputs": [],
   "source": [
    "def GammaStar(Gamma):\n",
    "    Matmul=0\n",
    "    C=Gamma[0]\n",
    "    for i in range(1,len(Gamma)):\n",
    "        C=np.dot(C,Gamma[i])\n",
    "    return C*(1j)**(len(Gamma)/2 +1)\n",
    "\n",
    "    "
   ]
  },
  {
   "cell_type": "code",
   "execution_count": 67,
   "metadata": {},
   "outputs": [],
   "source": [
    "Y=sympy.symbols(\"m\")\n",
    "y=sympy.symbols(\"H\")"
   ]
  },
  {
   "cell_type": "code",
   "execution_count": 73,
   "metadata": {},
   "outputs": [],
   "source": [
    "def symbol_isupper(x):\n",
    "    x_string=str(x.name)\n",
    "    return x_string.isupper()\n",
    "def symbol_upper(x):\n",
    "    x_string=str(x.name).upper()\n",
    "    return sympy.symbols(x_string)\n",
    "def symbol_lower(x):\n",
    "    x_string=str(x.name).lower()\n",
    "    return sympy.symbols(x_string)"
   ]
  },
  {
   "cell_type": "code",
   "execution_count": 74,
   "metadata": {},
   "outputs": [],
   "source": [
    "c=sympy.symbols(\"c\",complex=True)"
   ]
  },
  {
   "cell_type": "code",
   "execution_count": 77,
   "metadata": {},
   "outputs": [
    {
     "data": {
      "text/latex": [
       "$\\displaystyle \\operatorname{re}{\\left(c\\right)}$"
      ],
      "text/plain": [
       "re(c)"
      ]
     },
     "execution_count": 77,
     "metadata": {},
     "output_type": "execute_result"
    }
   ],
   "source": [
    "sympy.re(c)"
   ]
  },
  {
   "cell_type": "code",
   "execution_count": 79,
   "metadata": {},
   "outputs": [],
   "source": [
    "x,y=sympy.symbols(\"x,Y\")"
   ]
  },
  {
   "cell_type": "code",
   "execution_count": 95,
   "metadata": {},
   "outputs": [],
   "source": [
    "T=np.array([x,y,1]).reshape(-1,1)"
   ]
  },
  {
   "cell_type": "code",
   "execution_count": 97,
   "metadata": {},
   "outputs": [
    {
     "data": {
      "text/plain": [
       "array([x], dtype=object)"
      ]
     },
     "execution_count": 97,
     "metadata": {},
     "output_type": "execute_result"
    }
   ],
   "source": [
    "T[0]"
   ]
  },
  {
   "cell_type": "code",
   "execution_count": 84,
   "metadata": {},
   "outputs": [
    {
     "data": {
      "text/plain": [
       "array([[x, 1],\n",
       "       [Y, 0],\n",
       "       [1, x]], dtype=object)"
      ]
     },
     "execution_count": 84,
     "metadata": {},
     "output_type": "execute_result"
    }
   ],
   "source": [
    "T.transpose()"
   ]
  },
  {
   "cell_type": "code",
   "execution_count": 85,
   "metadata": {},
   "outputs": [
    {
     "data": {
      "text/plain": [
       "array([[ 0,  1,  0,  0],\n",
       "       [-1,  0,  0,  0],\n",
       "       [ 0,  0,  0,  1],\n",
       "       [ 0,  0, -1,  0]])"
      ]
     },
     "execution_count": 85,
     "metadata": {},
     "output_type": "execute_result"
    }
   ],
   "source": [
    "np.dot(Gamma3,Gamma1)"
   ]
  },
  {
   "cell_type": "code",
   "execution_count": 88,
   "metadata": {},
   "outputs": [],
   "source": [
    "def Bar_four(V,complex=True):\n",
    "    if complex=True:\n",
    "        \n",
    "        V_bar=1j*V.transpose()\n",
    "    return np.dot(V_bar,C)"
   ]
  },
  {
   "cell_type": "code",
   "execution_count": null,
   "metadata": {},
   "outputs": [],
   "source": [
    "def Conjugate(x):\n",
    "    "
   ]
  },
  {
   "cell_type": "code",
   "execution_count": 136,
   "metadata": {},
   "outputs": [
    {
     "data": {
      "text/plain": [
       "array([[a + 1],\n",
       "       [A + 2],\n",
       "       [b + 4.0*I],\n",
       "       [-B]], dtype=object)"
      ]
     },
     "execution_count": 136,
     "metadata": {},
     "output_type": "execute_result"
    }
   ],
   "source": [
    "#a,A,b,B=sympy.symbols(\"a A b B\")\n",
    "V=np.array([a +1 ,A+2,b+ 4j,-B]).reshape(-1,1)\n",
    "V"
   ]
  },
  {
   "cell_type": "code",
   "execution_count": 105,
   "metadata": {},
   "outputs": [
    {
     "data": {
      "text/plain": [
       "array([[-1.0*I*(A + 2), 1.0*I*(a + 1), 1.0*I*B, 1.0*I*(b + 4.0*I)]],\n",
       "      dtype=object)"
      ]
     },
     "execution_count": 105,
     "metadata": {},
     "output_type": "execute_result"
    }
   ],
   "source": [
    "Bar_four(V)"
   ]
  },
  {
   "cell_type": "code",
   "execution_count": 108,
   "metadata": {},
   "outputs": [
    {
     "data": {
      "text/plain": [
       "array([[a + 1],\n",
       "       [A + 2],\n",
       "       [b + 4.0*I],\n",
       "       [-B]], dtype=object)"
      ]
     },
     "execution_count": 108,
     "metadata": {},
     "output_type": "execute_result"
    }
   ],
   "source": [
    "V"
   ]
  },
  {
   "cell_type": "code",
   "execution_count": 137,
   "metadata": {},
   "outputs": [
    {
     "data": {
      "text/plain": [
       "4"
      ]
     },
     "execution_count": 137,
     "metadata": {},
     "output_type": "execute_result"
    }
   ],
   "source": [
    "len(V)"
   ]
  },
  {
   "cell_type": "code",
   "execution_count": 138,
   "metadata": {},
   "outputs": [
    {
     "data": {
      "text/plain": [
       "array([b + 4.0*I], dtype=object)"
      ]
     },
     "execution_count": 138,
     "metadata": {},
     "output_type": "execute_result"
    }
   ],
   "source": [
    "V[2].real"
   ]
  },
  {
   "cell_type": "code",
   "execution_count": 127,
   "metadata": {},
   "outputs": [
    {
     "data": {
      "text/latex": [
       "$\\displaystyle 3.0$"
      ],
      "text/plain": [
       "3.00000000000000"
      ]
     },
     "execution_count": 127,
     "metadata": {},
     "output_type": "execute_result"
    }
   ],
   "source": [
    "t=sympy.Symbol(\"t\",real=True)\n",
    "sympy.im(t+3j)"
   ]
  },
  {
   "cell_type": "code",
   "execution_count": 133,
   "metadata": {},
   "outputs": [
    {
     "data": {
      "text/plain": [
       "sympy.core.add.Add"
      ]
     },
     "execution_count": 133,
     "metadata": {},
     "output_type": "execute_result"
    }
   ],
   "source": [
    "i=t+3j\n",
    "type(i)"
   ]
  },
  {
   "cell_type": "code",
   "execution_count": 134,
   "metadata": {},
   "outputs": [
    {
     "data": {
      "text/plain": [
       "numpy.ndarray"
      ]
     },
     "execution_count": 134,
     "metadata": {},
     "output_type": "execute_result"
    }
   ],
   "source": [
    "i=V[2]\n",
    "type(i)"
   ]
  },
  {
   "cell_type": "code",
   "execution_count": 151,
   "metadata": {},
   "outputs": [],
   "source": [
    "x=sympy.Symbol(\"x\")\n",
    "A=sympy.Matrix([[x,1,1,1],[0,0,1,1j +x],[x,1,1,1],[0,0,1,1j +x]])"
   ]
  },
  {
   "cell_type": "code",
   "execution_count": 152,
   "metadata": {},
   "outputs": [
    {
     "data": {
      "text/latex": [
       "$\\displaystyle \\left[\\begin{matrix}x & 1 & 1 & 1\\\\0 & 0 & 1 & x + 1.0 i\\\\x & 1 & 1 & 1\\\\0 & 0 & 1 & x + 1.0 i\\end{matrix}\\right]$"
      ],
      "text/plain": [
       "Matrix([\n",
       "[x, 1, 1,         1],\n",
       "[0, 0, 1, x + 1.0*I],\n",
       "[x, 1, 1,         1],\n",
       "[0, 0, 1, x + 1.0*I]])"
      ]
     },
     "execution_count": 152,
     "metadata": {},
     "output_type": "execute_result"
    }
   ],
   "source": [
    "A\n"
   ]
  },
  {
   "cell_type": "code",
   "execution_count": 153,
   "metadata": {},
   "outputs": [
    {
     "data": {
      "text/latex": [
       "$\\displaystyle x$"
      ],
      "text/plain": [
       "x"
      ]
     },
     "execution_count": 153,
     "metadata": {},
     "output_type": "execute_result"
    }
   ],
   "source": [
    "A[0,0]"
   ]
  },
  {
   "cell_type": "code",
   "execution_count": 155,
   "metadata": {},
   "outputs": [
    {
     "data": {
      "text/plain": [
       "array([[0, 0, 1, 0],\n",
       "       [0, 0, 0, 1],\n",
       "       [1, 0, 0, 0],\n",
       "       [0, 1, 0, 0]])"
      ]
     },
     "execution_count": 155,
     "metadata": {},
     "output_type": "execute_result"
    }
   ],
   "source": [
    "Gamma0"
   ]
  },
  {
   "cell_type": "code",
   "execution_count": 154,
   "metadata": {},
   "outputs": [
    {
     "data": {
      "text/plain": [
       "array([[1, 1, x, 1],\n",
       "       [1, x + 1.0*I, 0, 0],\n",
       "       [1, 1, x, 1],\n",
       "       [1, x + 1.0*I, 0, 0]], dtype=object)"
      ]
     },
     "execution_count": 154,
     "metadata": {},
     "output_type": "execute_result"
    }
   ],
   "source": [
    "np.dot(A,Gamma0)"
   ]
  },
  {
   "cell_type": "code",
   "execution_count": 157,
   "metadata": {},
   "outputs": [],
   "source": [
    "H=[A,Gamma0]"
   ]
  },
  {
   "cell_type": "code",
   "execution_count": null,
   "metadata": {},
   "outputs": [],
   "source": []
  },
  {
   "cell_type": "code",
   "execution_count": 159,
   "metadata": {},
   "outputs": [
    {
     "data": {
      "text/latex": [
       "$\\displaystyle \\left[\\begin{matrix}x & 1 & 1 & 1\\\\0 & 0 & 1 & x + 1.0 i\\\\x & 1 & 1 & 1\\\\0 & 0 & 1 & x + 1.0 i\\end{matrix}\\right]$"
      ],
      "text/plain": [
       "Matrix([\n",
       "[x, 1, 1,         1],\n",
       "[0, 0, 1, x + 1.0*I],\n",
       "[x, 1, 1,         1],\n",
       "[0, 0, 1, x + 1.0*I]])"
      ]
     },
     "execution_count": 159,
     "metadata": {},
     "output_type": "execute_result"
    }
   ],
   "source": [
    "H[0]"
   ]
  },
  {
   "cell_type": "code",
   "execution_count": 77,
   "metadata": {},
   "outputs": [
    {
     "data": {
      "text/latex": [
       "$\\displaystyle \\left[\\begin{matrix}i & 0 & 0 & 0\\\\0 & - i & 0 & 0\\\\0 & 0 & i & 0\\\\0 & 0 & 0 & - i\\end{matrix}\\right]$"
      ],
      "text/plain": [
       "Matrix([\n",
       "[I,  0, 0,  0],\n",
       "[0, -I, 0,  0],\n",
       "[0,  0, I,  0],\n",
       "[0,  0, 0, -I]])"
      ]
     },
     "execution_count": 77,
     "metadata": {},
     "output_type": "execute_result"
    }
   ],
   "source": [
    "Gamma_ij(1,2)"
   ]
  },
  {
   "cell_type": "code",
   "execution_count": 80,
   "metadata": {},
   "outputs": [
    {
     "data": {
      "text/plain": [
       "4"
      ]
     },
     "execution_count": 80,
     "metadata": {},
     "output_type": "execute_result"
    }
   ],
   "source": [
    "Eta_mn.shape[0]"
   ]
  },
  {
   "cell_type": "code",
   "execution_count": 81,
   "metadata": {},
   "outputs": [
    {
     "name": "stdout",
     "output_type": "stream",
     "text": [
      "Gamma01\n",
      "Gamma02\n",
      "Gamma03\n",
      "Gamma12\n",
      "Gamma13\n",
      "Gamma23\n"
     ]
    }
   ],
   "source": [
    "for i in range(Eta_mn.shape[0]):\n",
    "    for j in range(i+1,Eta_mn.shape[0]):\n",
    "        print(\"Gamma{}{}\".format(i,j))"
   ]
  },
  {
   "cell_type": "code",
   "execution_count": 85,
   "metadata": {},
   "outputs": [
    {
     "data": {
      "text/latex": [
       "$\\displaystyle {M}_{i,j}$"
      ],
      "text/plain": [
       "M[i, j]"
      ]
     },
     "execution_count": 85,
     "metadata": {},
     "output_type": "execute_result"
    }
   ],
   "source": [
    "M=sym.IndexedBase(\"M\")\n",
    "exp=sym.IndexedBase(\"exp\")\n",
    "i,j=sym.symbols(\"i,j\")\n",
    "M[i,j]"
   ]
  },
  {
   "cell_type": "code",
   "execution_count": 90,
   "metadata": {},
   "outputs": [
    {
     "ename": "IndexException",
     "evalue": "\nRange is not defined for all indices in: M[i, j]",
     "output_type": "error",
     "traceback": [
      "\u001b[0;31m---------------------------------------------------------------------------\u001b[0m",
      "\u001b[0;31mIndexException\u001b[0m                            Traceback (most recent call last)",
      "Cell \u001b[0;32mIn[90], line 1\u001b[0m\n\u001b[0;32m----> 1\u001b[0m Gamma[\u001b[39m0\u001b[39;49m]\u001b[39m*\u001b[39;49mM[i,j]\n",
      "File \u001b[0;32m~/mambaforge/envs/CondaEnv/lib/python3.9/site-packages/sympy/core/decorators.py:106\u001b[0m, in \u001b[0;36mcall_highest_priority.<locals>.priority_decorator.<locals>.binary_op_wrapper\u001b[0;34m(self, other)\u001b[0m\n\u001b[1;32m    104\u001b[0m         \u001b[39mif\u001b[39;00m f \u001b[39mis\u001b[39;00m \u001b[39mnot\u001b[39;00m \u001b[39mNone\u001b[39;00m:\n\u001b[1;32m    105\u001b[0m             \u001b[39mreturn\u001b[39;00m f(\u001b[39mself\u001b[39m)\n\u001b[0;32m--> 106\u001b[0m \u001b[39mreturn\u001b[39;00m func(\u001b[39mself\u001b[39;49m, other)\n",
      "File \u001b[0;32m~/mambaforge/envs/CondaEnv/lib/python3.9/site-packages/sympy/matrices/common.py:2702\u001b[0m, in \u001b[0;36mMatrixArithmetic.__mul__\u001b[0;34m(self, other)\u001b[0m\n\u001b[1;32m   2673\u001b[0m \u001b[39m@call_highest_priority\u001b[39m(\u001b[39m'\u001b[39m\u001b[39m__rmul__\u001b[39m\u001b[39m'\u001b[39m)\n\u001b[1;32m   2674\u001b[0m \u001b[39mdef\u001b[39;00m \u001b[39m__mul__\u001b[39m(\u001b[39mself\u001b[39m, other):\n\u001b[1;32m   2675\u001b[0m \u001b[39m    \u001b[39m\u001b[39m\"\"\"Return self*other where other is either a scalar or a matrix\u001b[39;00m\n\u001b[1;32m   2676\u001b[0m \u001b[39m    of compatible dimensions.\u001b[39;00m\n\u001b[1;32m   2677\u001b[0m \n\u001b[0;32m   (...)\u001b[0m\n\u001b[1;32m   2699\u001b[0m \u001b[39m    matrix_multiply_elementwise\u001b[39;00m\n\u001b[1;32m   2700\u001b[0m \u001b[39m    \"\"\"\u001b[39;00m\n\u001b[0;32m-> 2702\u001b[0m     \u001b[39mreturn\u001b[39;00m \u001b[39mself\u001b[39;49m\u001b[39m.\u001b[39;49mmultiply(other)\n",
      "File \u001b[0;32m~/mambaforge/envs/CondaEnv/lib/python3.9/site-packages/sympy/matrices/common.py:2717\u001b[0m, in \u001b[0;36mMatrixArithmetic.multiply\u001b[0;34m(self, other, dotprodsimp)\u001b[0m\n\u001b[1;32m   2705\u001b[0m \u001b[39m\u001b[39m\u001b[39m\"\"\"Same as __mul__() but with optional simplification.\u001b[39;00m\n\u001b[1;32m   2706\u001b[0m \n\u001b[1;32m   2707\u001b[0m \u001b[39mParameters\u001b[39;00m\n\u001b[0;32m   (...)\u001b[0m\n\u001b[1;32m   2713\u001b[0m \u001b[39m    speed up calculation. Default is off.\u001b[39;00m\n\u001b[1;32m   2714\u001b[0m \u001b[39m\"\"\"\u001b[39;00m\n\u001b[1;32m   2716\u001b[0m isimpbool \u001b[39m=\u001b[39m _get_intermediate_simp_bool(\u001b[39mFalse\u001b[39;00m, dotprodsimp)\n\u001b[0;32m-> 2717\u001b[0m other \u001b[39m=\u001b[39m _matrixify(other)\n\u001b[1;32m   2718\u001b[0m \u001b[39m# matrix-like objects can have shapes.  This is\u001b[39;00m\n\u001b[1;32m   2719\u001b[0m \u001b[39m# our first sanity check. Double check other is not explicitly not a Matrix.\u001b[39;00m\n\u001b[1;32m   2720\u001b[0m \u001b[39mif\u001b[39;00m (\u001b[39mhasattr\u001b[39m(other, \u001b[39m'\u001b[39m\u001b[39mshape\u001b[39m\u001b[39m'\u001b[39m) \u001b[39mand\u001b[39;00m \u001b[39mlen\u001b[39m(other\u001b[39m.\u001b[39mshape) \u001b[39m==\u001b[39m \u001b[39m2\u001b[39m \u001b[39mand\u001b[39;00m\n\u001b[1;32m   2721\u001b[0m     (\u001b[39mgetattr\u001b[39m(other, \u001b[39m'\u001b[39m\u001b[39mis_Matrix\u001b[39m\u001b[39m'\u001b[39m, \u001b[39mTrue\u001b[39;00m) \u001b[39mor\u001b[39;00m\n\u001b[1;32m   2722\u001b[0m      \u001b[39mgetattr\u001b[39m(other, \u001b[39m'\u001b[39m\u001b[39mis_MatrixLike\u001b[39m\u001b[39m'\u001b[39m, \u001b[39mTrue\u001b[39;00m))):\n",
      "File \u001b[0;32m~/mambaforge/envs/CondaEnv/lib/python3.9/site-packages/sympy/matrices/common.py:3165\u001b[0m, in \u001b[0;36m_matrixify\u001b[0;34m(mat)\u001b[0m\n\u001b[1;32m   3161\u001b[0m     \u001b[39mreturn\u001b[39;00m mat\n\u001b[1;32m   3163\u001b[0m shape \u001b[39m=\u001b[39m \u001b[39mNone\u001b[39;00m\n\u001b[0;32m-> 3165\u001b[0m \u001b[39mif\u001b[39;00m \u001b[39mhasattr\u001b[39;49m(mat, \u001b[39m'\u001b[39;49m\u001b[39mshape\u001b[39;49m\u001b[39m'\u001b[39;49m): \u001b[39m# numpy, scipy.sparse\u001b[39;00m\n\u001b[1;32m   3166\u001b[0m     \u001b[39mif\u001b[39;00m \u001b[39mlen\u001b[39m(mat\u001b[39m.\u001b[39mshape) \u001b[39m==\u001b[39m \u001b[39m2\u001b[39m:\n\u001b[1;32m   3167\u001b[0m         shape \u001b[39m=\u001b[39m mat\u001b[39m.\u001b[39mshape\n",
      "File \u001b[0;32m~/mambaforge/envs/CondaEnv/lib/python3.9/site-packages/sympy/tensor/indexed.py:296\u001b[0m, in \u001b[0;36mIndexed.shape\u001b[0;34m(self)\u001b[0m\n\u001b[1;32m    294\u001b[0m lower \u001b[39m=\u001b[39m \u001b[39mgetattr\u001b[39m(i, \u001b[39m'\u001b[39m\u001b[39mlower\u001b[39m\u001b[39m'\u001b[39m, \u001b[39mNone\u001b[39;00m)\n\u001b[1;32m    295\u001b[0m \u001b[39mif\u001b[39;00m \u001b[39mNone\u001b[39;00m \u001b[39min\u001b[39;00m (upper, lower):\n\u001b[0;32m--> 296\u001b[0m     \u001b[39mraise\u001b[39;00m IndexException(filldedent(\u001b[39m\"\"\"\u001b[39m\n\u001b[1;32m    297\u001b[0m \u001b[39m        Range is not defined for all indices in: \u001b[39m\u001b[39m%s\u001b[39;00m\u001b[39m\"\"\"\u001b[39m \u001b[39m%\u001b[39m \u001b[39mself\u001b[39m))\n\u001b[1;32m    298\u001b[0m \u001b[39mtry\u001b[39;00m:\n\u001b[1;32m    299\u001b[0m     size \u001b[39m=\u001b[39m upper \u001b[39m-\u001b[39m lower \u001b[39m+\u001b[39m \u001b[39m1\u001b[39m\n",
      "\u001b[0;31mIndexException\u001b[0m: \nRange is not defined for all indices in: M[i, j]"
     ]
    }
   ],
   "source": [
    "Gamma[0]*M[i,j]"
   ]
  },
  {
   "cell_type": "code",
   "execution_count": 88,
   "metadata": {},
   "outputs": [
    {
     "ename": "IndentationError",
     "evalue": "expected an indented block (202226463.py, line 3)",
     "output_type": "error",
     "traceback": [
      "\u001b[0;36m  Cell \u001b[0;32mIn[88], line 3\u001b[0;36m\u001b[0m\n\u001b[0;31m    Gamma[0]*M[i,j]\u001b[0m\n\u001b[0m    ^\u001b[0m\n\u001b[0;31mIndentationError\u001b[0m\u001b[0;31m:\u001b[0m expected an indented block\n"
     ]
    }
   ],
   "source": [
    "for i in range(4):\n",
    "    for j in range(4):\n",
    "    Gamma[0]*M[i,j]"
   ]
  },
  {
   "cell_type": "code",
   "execution_count": null,
   "metadata": {},
   "outputs": [],
   "source": [
    "Lorentz = TensorIndexType('Lorentz', dummy_name='L')\n",
    "\n",
    "mu = TensorIndex('mu', Lorentz, is_up=False)\n",
    "\n",
    "nu, rho = tensor_indices('nu, rho', Lorentz)\n",
    "\n",
    "A = TensorHead('A', [Lorentz, Lorentz])\n",
    "\n",
    "A(mu, nu)\n",
    "A(-mu, nu)\n",
    "\n",
    "A(-mu, -rho)\n",
    "A(mu, -rho)\n",
    "\n",
    "A(mu, -mu)\n",
    "A(-L_0, L_0)"
   ]
  },
  {
   "cell_type": "code",
   "execution_count": 92,
   "metadata": {},
   "outputs": [],
   "source": [
    "from sympy.tensor.tensor import TensorIndexType, TensorIndex, TensorHead, tensor_indices"
   ]
  },
  {
   "cell_type": "code",
   "execution_count": 94,
   "metadata": {},
   "outputs": [],
   "source": [
    "Lorentz = TensorIndexType('Lorentz', dummy_name='L')\n",
    "nu, rho = tensor_indices('nu, rho', Lorentz)\n",
    "A = TensorHead('A', [Lorentz, Lorentz])\n"
   ]
  },
  {
   "cell_type": "code",
   "execution_count": 100,
   "metadata": {},
   "outputs": [],
   "source": [
    "from sympy import symbols\n",
    "\n",
    "Ex, Ey, Ez, Bx, By, Bz = symbols('E_x E_y E_z B_x B_y B_z')\n",
    "\n",
    "c = symbols('c', positive=True)"
   ]
  },
  {
   "cell_type": "code",
   "execution_count": 103,
   "metadata": {},
   "outputs": [],
   "source": [
    "from sympy.tensor.tensor import TensorIndexType, TensorHead, TensorSymmetry\n",
    "asym2 = TensorSymmetry.fully_symmetric(-2)\n",
    "F = TensorHead('F', [Lorentz, Lorentz], asym2)"
   ]
  },
  {
   "cell_type": "code",
   "execution_count": 106,
   "metadata": {},
   "outputs": [],
   "source": [
    "repl = {Lorentz: sym.diag(1, -1, -1, -1)}"
   ]
  },
  {
   "cell_type": "code",
   "execution_count": 108,
   "metadata": {},
   "outputs": [],
   "source": [
    "i0, i1 = tensor_indices('i0:2', Lorentz)"
   ]
  },
  {
   "cell_type": "code",
   "execution_count": 109,
   "metadata": {},
   "outputs": [],
   "source": [
    "repl.update({F(-i0, -i1): [\n",
    "[0, Ex/c, Ey/c, Ez/c],\n",
    "[-Ex/c, 0, -Bz, By],\n",
    "[-Ey/c, Bz, 0, -Bx],\n",
    "[-Ez/c, -By, Bx, 0]]})"
   ]
  },
  {
   "cell_type": "code",
   "execution_count": 112,
   "metadata": {},
   "outputs": [
    {
     "ename": "TypeError",
     "evalue": "wrong type for index: -1 is <class 'int'>",
     "output_type": "error",
     "traceback": [
      "\u001b[0;31m---------------------------------------------------------------------------\u001b[0m",
      "\u001b[0;31mTypeError\u001b[0m                                 Traceback (most recent call last)",
      "Cell \u001b[0;32mIn[112], line 1\u001b[0m\n\u001b[0;32m----> 1\u001b[0m F(\u001b[39m-\u001b[39;49m\u001b[39m1\u001b[39;49m,\u001b[39m-\u001b[39;49m\u001b[39m2\u001b[39;49m)\n",
      "File \u001b[0;32m~/mambaforge/envs/CondaEnv/lib/python3.9/site-packages/sympy/tensor/tensor.py:1888\u001b[0m, in \u001b[0;36mTensorHead.__call__\u001b[0;34m(self, *indices, **kw_args)\u001b[0m\n\u001b[1;32m   1884\u001b[0m         updated_indices\u001b[39m.\u001b[39mappend(idx)\n\u001b[1;32m   1886\u001b[0m updated_indices \u001b[39m+\u001b[39m\u001b[39m=\u001b[39m indices[\u001b[39mlen\u001b[39m(updated_indices):]\n\u001b[0;32m-> 1888\u001b[0m tensor \u001b[39m=\u001b[39m Tensor(\u001b[39mself\u001b[39;49m, updated_indices, \u001b[39m*\u001b[39;49m\u001b[39m*\u001b[39;49mkw_args)\n\u001b[1;32m   1889\u001b[0m \u001b[39mreturn\u001b[39;00m tensor\u001b[39m.\u001b[39mdoit()\n",
      "File \u001b[0;32m~/mambaforge/envs/CondaEnv/lib/python3.9/site-packages/sympy/tensor/tensor.py:2767\u001b[0m, in \u001b[0;36mTensor.__new__\u001b[0;34m(cls, tensor_head, indices, is_canon_bp, **kw_args)\u001b[0m\n\u001b[1;32m   2766\u001b[0m \u001b[39mdef\u001b[39;00m \u001b[39m__new__\u001b[39m(\u001b[39mcls\u001b[39m, tensor_head, indices, \u001b[39m*\u001b[39m, is_canon_bp\u001b[39m=\u001b[39m\u001b[39mFalse\u001b[39;00m, \u001b[39m*\u001b[39m\u001b[39m*\u001b[39mkw_args):\n\u001b[0;32m-> 2767\u001b[0m     indices \u001b[39m=\u001b[39m \u001b[39mcls\u001b[39;49m\u001b[39m.\u001b[39;49m_parse_indices(tensor_head, indices)\n\u001b[1;32m   2768\u001b[0m     obj \u001b[39m=\u001b[39m Basic\u001b[39m.\u001b[39m\u001b[39m__new__\u001b[39m(\u001b[39mcls\u001b[39m, tensor_head, Tuple(\u001b[39m*\u001b[39mindices), \u001b[39m*\u001b[39m\u001b[39m*\u001b[39mkw_args)\n\u001b[1;32m   2769\u001b[0m     obj\u001b[39m.\u001b[39m_index_structure \u001b[39m=\u001b[39m _IndexStructure\u001b[39m.\u001b[39mfrom_indices(\u001b[39m*\u001b[39mindices)\n",
      "File \u001b[0;32m~/mambaforge/envs/CondaEnv/lib/python3.9/site-packages/sympy/tensor/tensor.py:2857\u001b[0m, in \u001b[0;36mTensor._parse_indices\u001b[0;34m(tensor_head, indices)\u001b[0m\n\u001b[1;32m   2855\u001b[0m             \u001b[39mraise\u001b[39;00m \u001b[39mValueError\u001b[39;00m(\u001b[39m\"\u001b[39m\u001b[39mindex not understood: \u001b[39m\u001b[39m%s\u001b[39;00m\u001b[39m\"\u001b[39m \u001b[39m%\u001b[39m index)\n\u001b[1;32m   2856\u001b[0m     \u001b[39melif\u001b[39;00m \u001b[39mnot\u001b[39;00m \u001b[39misinstance\u001b[39m(index, TensorIndex):\n\u001b[0;32m-> 2857\u001b[0m         \u001b[39mraise\u001b[39;00m \u001b[39mTypeError\u001b[39;00m(\u001b[39m\"\u001b[39m\u001b[39mwrong type for index: \u001b[39m\u001b[39m%s\u001b[39;00m\u001b[39m is \u001b[39m\u001b[39m%s\u001b[39;00m\u001b[39m\"\u001b[39m \u001b[39m%\u001b[39m (index, \u001b[39mtype\u001b[39m(index)))\n\u001b[1;32m   2858\u001b[0m \u001b[39mreturn\u001b[39;00m indices\n",
      "\u001b[0;31mTypeError\u001b[0m: wrong type for index: -1 is <class 'int'>"
     ]
    }
   ],
   "source": [
    "F(-1,-2)"
   ]
  },
  {
   "cell_type": "code",
   "execution_count": 113,
   "metadata": {},
   "outputs": [
    {
     "data": {
      "text/latex": [
       "$\\displaystyle {M}_{i,j}$"
      ],
      "text/plain": [
       "M[i, j]"
      ]
     },
     "execution_count": 113,
     "metadata": {},
     "output_type": "execute_result"
    }
   ],
   "source": [
    "from sympy import symbols, IndexedBase, Idx\n",
    "M = IndexedBase('M')\n",
    "i, j = symbols('i j', cls=Idx)\n",
    "M[i, j]"
   ]
  },
  {
   "cell_type": "code",
   "execution_count": 114,
   "metadata": {},
   "outputs": [
    {
     "data": {
      "text/latex": [
       "$\\displaystyle {M}_{1,2}$"
      ],
      "text/plain": [
       "M[1, 2]"
      ]
     },
     "execution_count": 114,
     "metadata": {},
     "output_type": "execute_result"
    }
   ],
   "source": [
    "M[1,2]"
   ]
  },
  {
   "cell_type": "code",
   "execution_count": 116,
   "metadata": {},
   "outputs": [
    {
     "ename": "SyntaxError",
     "evalue": "invalid syntax (476988579.py, line 1)",
     "output_type": "error",
     "traceback": [
      "\u001b[0;36m  Cell \u001b[0;32mIn[116], line 1\u001b[0;36m\u001b[0m\n\u001b[0;31m    M[1,2]Gamma[0]\u001b[0m\n\u001b[0m          ^\u001b[0m\n\u001b[0;31mSyntaxError\u001b[0m\u001b[0;31m:\u001b[0m invalid syntax\n"
     ]
    }
   ],
   "source": [
    "M[1,2]"
   ]
  },
  {
   "cell_type": "code",
   "execution_count": null,
   "metadata": {},
   "outputs": [],
   "source": []
  }
 ],
 "metadata": {
  "kernelspec": {
   "display_name": "Python 3",
   "language": "python",
   "name": "python3"
  },
  "language_info": {
   "codemirror_mode": {
    "name": "ipython",
    "version": 3
   },
   "file_extension": ".py",
   "mimetype": "text/x-python",
   "name": "python",
   "nbconvert_exporter": "python",
   "pygments_lexer": "ipython3",
   "version": "3.9.15"
  },
  "orig_nbformat": 4
 },
 "nbformat": 4,
 "nbformat_minor": 2
}
